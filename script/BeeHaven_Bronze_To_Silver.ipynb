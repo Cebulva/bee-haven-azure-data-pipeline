{
  "cells": [
    {
      "cell_type": "markdown",
      "source": [
        "# Setup"
      ],
      "metadata": {}
    },
    {
      "cell_type": "code",
      "source": [
        "import matplotlib.pyplot as plt\n",
        "import numpy as np"
      ],
      "outputs": [
        {
          "output_type": "display_data",
          "data": {
            "application/vnd.livy.statement-meta+json": {
              "spark_pool": "sparkpoolDev",
              "statement_id": 2,
              "statement_ids": [
                2
              ],
              "state": "finished",
              "livy_statement_state": "available",
              "spark_jobs": null,
              "session_id": "60",
              "normalized_state": "finished",
              "queued_time": "2025-08-28T10:56:20.1806673Z",
              "session_start_time": "2025-08-28T10:56:20.182285Z",
              "execution_start_time": "2025-08-28T11:01:44.4993748Z",
              "execution_finish_time": "2025-08-28T11:01:44.7908456Z",
              "parent_msg_id": "7e59060d-46db-423f-8a07-7f8400d2dafc"
            },
            "text/plain": "StatementMeta(sparkpoolDev, 60, 2, Finished, Available, Finished)"
          },
          "metadata": {}
        }
      ],
      "execution_count": 249,
      "metadata": {}
    },
    {
      "cell_type": "code",
      "source": [
        "import pandas as pd\n",
        "\n",
        "data_lake_path =\"abfss://beehive-container@dsaidatalakestorage.dfs.core.windows.net/\"\n",
        "source_path = f\"{data_lake_path}silver/processing/\"\n",
        "\n",
        "spark_df_flow = spark.read.option(\"header\", \"true\").option(\"inferSchema\", \"true\").csv(source_path + 'flow_schwartau.csv')\n",
        "spark_df_humi = spark.read.option(\"header\", \"true\").option(\"inferSchema\", \"true\").csv(source_path + 'humidity_schwartau.csv')\n",
        "spark_df_temp = spark.read.option(\"header\", \"true\").option(\"inferSchema\", \"true\").csv(source_path + 'temperature_schwartau.csv')\n",
        "spark_df_weight = spark.read.option(\"header\", \"true\").option(\"inferSchema\", \"true\").csv(source_path + 'weight_schwartau.csv')\n",
        "\n",
        "\n",
        "# Convert the Spark DataFrames to pandas DataFrames\n",
        "df_flow_schwartau = spark_df_flow.toPandas()\n",
        "df_humi_schwartau = spark_df_humi.toPandas()\n",
        "df_temp_schwartau = spark_df_temp.toPandas()\n",
        "df_weight_schwartau = spark_df_weight.toPandas()\n",
        "\n",
        "# Convert the timestamp column in each pandas DataFrame\n",
        "df_flow_schwartau['timestamp'] = pd.to_datetime(df_flow_schwartau['timestamp'])\n",
        "df_humi_schwartau['timestamp'] = pd.to_datetime(df_humi_schwartau['timestamp'])\n",
        "df_temp_schwartau['timestamp'] = pd.to_datetime(df_temp_schwartau['timestamp'])\n",
        "df_weight_schwartau['timestamp'] = pd.to_datetime(df_weight_schwartau['timestamp'])"
      ],
      "outputs": [
        {
          "output_type": "display_data",
          "data": {
            "application/vnd.livy.statement-meta+json": {
              "spark_pool": "sparkpoolDev",
              "statement_id": 3,
              "statement_ids": [
                3
              ],
              "state": "finished",
              "livy_statement_state": "available",
              "spark_jobs": null,
              "session_id": "60",
              "normalized_state": "finished",
              "queued_time": "2025-08-28T10:56:20.3581019Z",
              "session_start_time": null,
              "execution_start_time": "2025-08-28T11:01:44.8097664Z",
              "execution_finish_time": "2025-08-28T11:02:45.2682548Z",
              "parent_msg_id": "6f81beb7-c61d-49a6-9072-8f41b6ed5026"
            },
            "text/plain": "StatementMeta(sparkpoolDev, 60, 3, Finished, Available, Finished)"
          },
          "metadata": {}
        }
      ],
      "execution_count": 250,
      "metadata": {}
    },
    {
      "cell_type": "markdown",
      "source": [
        "# Phase I: Foundational Assessment and Structural Unification"
      ],
      "metadata": {}
    },
    {
      "cell_type": "markdown",
      "source": [
        "### Analyse Shapes"
      ],
      "metadata": {}
    },
    {
      "cell_type": "code",
      "source": [
        "print(df_flow_schwartau.shape)\n",
        "print(df_humi_schwartau.shape)\n",
        "print(df_temp_schwartau.shape)\n",
        "print(df_weight_schwartau.shape)"
      ],
      "outputs": [
        {
          "output_type": "display_data",
          "data": {
            "application/vnd.livy.statement-meta+json": {
              "spark_pool": "sparkpoolDev",
              "statement_id": 4,
              "statement_ids": [
                4
              ],
              "state": "finished",
              "livy_statement_state": "available",
              "spark_jobs": null,
              "session_id": "60",
              "normalized_state": "finished",
              "queued_time": "2025-08-28T10:56:20.9987479Z",
              "session_start_time": null,
              "execution_start_time": "2025-08-28T11:02:45.2845532Z",
              "execution_finish_time": "2025-08-28T11:02:45.5427583Z",
              "parent_msg_id": "3815052d-6880-445f-9cf5-a7f53a75a484"
            },
            "text/plain": "StatementMeta(sparkpoolDev, 60, 4, Finished, Available, Finished)"
          },
          "metadata": {}
        },
        {
          "output_type": "stream",
          "name": "stdout",
          "text": [
            "(2513836, 2)\n(1761, 2)\n(253430, 2)\n(1761, 2)\n"
          ]
        }
      ],
      "execution_count": 251,
      "metadata": {}
    },
    {
      "cell_type": "markdown",
      "source": [
        "## flow_schwartau"
      ],
      "metadata": {}
    },
    {
      "cell_type": "code",
      "source": [
        "df_flow_schwartau.info(show_counts=True)"
      ],
      "outputs": [
        {
          "output_type": "display_data",
          "data": {
            "application/vnd.livy.statement-meta+json": {
              "spark_pool": "sparkpoolDev",
              "statement_id": 5,
              "statement_ids": [
                5
              ],
              "state": "finished",
              "livy_statement_state": "available",
              "spark_jobs": null,
              "session_id": "60",
              "normalized_state": "finished",
              "queued_time": "2025-08-28T10:56:21.3284259Z",
              "session_start_time": null,
              "execution_start_time": "2025-08-28T11:02:45.5555421Z",
              "execution_finish_time": "2025-08-28T11:02:45.9660762Z",
              "parent_msg_id": "8ed15c0d-6182-4cbf-979b-1deb2a2c56ff"
            },
            "text/plain": "StatementMeta(sparkpoolDev, 60, 5, Finished, Available, Finished)"
          },
          "metadata": {}
        },
        {
          "output_type": "stream",
          "name": "stdout",
          "text": [
            "<class 'pandas.core.frame.DataFrame'>\nRangeIndex: 2513836 entries, 0 to 2513835\nData columns (total 2 columns):\n #   Column     Non-Null Count    Dtype         \n---  ------     --------------    -----         \n 0   timestamp  2513836 non-null  datetime64[ns]\n 1   flow       2513836 non-null  int32         \ndtypes: datetime64[ns](1), int32(1)\nmemory usage: 28.8 MB\n"
          ]
        }
      ],
      "execution_count": 252,
      "metadata": {}
    },
    {
      "cell_type": "code",
      "source": [
        "df_flow_schwartau.columns"
      ],
      "outputs": [
        {
          "output_type": "display_data",
          "data": {
            "application/vnd.livy.statement-meta+json": {
              "spark_pool": "sparkpoolDev",
              "statement_id": 6,
              "statement_ids": [
                6
              ],
              "state": "finished",
              "livy_statement_state": "available",
              "spark_jobs": null,
              "session_id": "60",
              "normalized_state": "finished",
              "queued_time": "2025-08-28T10:56:21.5153132Z",
              "session_start_time": null,
              "execution_start_time": "2025-08-28T11:02:45.9798855Z",
              "execution_finish_time": "2025-08-28T11:02:46.2449288Z",
              "parent_msg_id": "4d081328-effc-4992-bfcc-cf3df85a986e"
            },
            "text/plain": "StatementMeta(sparkpoolDev, 60, 6, Finished, Available, Finished)"
          },
          "metadata": {}
        },
        {
          "output_type": "execute_result",
          "execution_count": 13,
          "data": {
            "text/plain": "Index(['timestamp', 'flow'], dtype='object')"
          },
          "metadata": {}
        }
      ],
      "execution_count": 253,
      "metadata": {}
    },
    {
      "cell_type": "code",
      "source": [
        "df_flow_schwartau.describe()"
      ],
      "outputs": [
        {
          "output_type": "display_data",
          "data": {
            "application/vnd.livy.statement-meta+json": {
              "spark_pool": "sparkpoolDev",
              "statement_id": 7,
              "statement_ids": [
                7
              ],
              "state": "finished",
              "livy_statement_state": "available",
              "spark_jobs": null,
              "session_id": "60",
              "normalized_state": "finished",
              "queued_time": "2025-08-28T10:56:21.6729603Z",
              "session_start_time": null,
              "execution_start_time": "2025-08-28T11:02:46.2592502Z",
              "execution_finish_time": "2025-08-28T11:02:46.5389728Z",
              "parent_msg_id": "a186af1b-c048-4ebc-bf7a-a37a0f7bbd3e"
            },
            "text/plain": "StatementMeta(sparkpoolDev, 60, 7, Finished, Available, Finished)"
          },
          "metadata": {}
        },
        {
          "output_type": "execute_result",
          "execution_count": 15,
          "data": {
            "text/plain": "               flow\ncount  2.513836e+06\nmean   1.624583e+00\nstd    5.432563e+01\nmin   -6.310000e+02\n25%    0.000000e+00\n50%    0.000000e+00\n75%    0.000000e+00\nmax    7.999000e+03",
            "text/html": "<div>\n<style scoped>\n    .dataframe tbody tr th:only-of-type {\n        vertical-align: middle;\n    }\n\n    .dataframe tbody tr th {\n        vertical-align: top;\n    }\n\n    .dataframe thead th {\n        text-align: right;\n    }\n</style>\n<table border=\"1\" class=\"dataframe\">\n  <thead>\n    <tr style=\"text-align: right;\">\n      <th></th>\n      <th>flow</th>\n    </tr>\n  </thead>\n  <tbody>\n    <tr>\n      <th>count</th>\n      <td>2.513836e+06</td>\n    </tr>\n    <tr>\n      <th>mean</th>\n      <td>1.624583e+00</td>\n    </tr>\n    <tr>\n      <th>std</th>\n      <td>5.432563e+01</td>\n    </tr>\n    <tr>\n      <th>min</th>\n      <td>-6.310000e+02</td>\n    </tr>\n    <tr>\n      <th>25%</th>\n      <td>0.000000e+00</td>\n    </tr>\n    <tr>\n      <th>50%</th>\n      <td>0.000000e+00</td>\n    </tr>\n    <tr>\n      <th>75%</th>\n      <td>0.000000e+00</td>\n    </tr>\n    <tr>\n      <th>max</th>\n      <td>7.999000e+03</td>\n    </tr>\n  </tbody>\n</table>\n</div>"
          },
          "metadata": {}
        }
      ],
      "execution_count": 254,
      "metadata": {}
    },
    {
      "cell_type": "code",
      "source": [
        "df_flow_schwartau[\"timestamp\"].describe()"
      ],
      "outputs": [
        {
          "output_type": "display_data",
          "data": {
            "application/vnd.livy.statement-meta+json": {
              "spark_pool": "sparkpoolDev",
              "statement_id": 8,
              "statement_ids": [
                8
              ],
              "state": "finished",
              "livy_statement_state": "available",
              "spark_jobs": null,
              "session_id": "60",
              "normalized_state": "finished",
              "queued_time": "2025-08-28T10:56:21.8500731Z",
              "session_start_time": null,
              "execution_start_time": "2025-08-28T11:02:46.5523365Z",
              "execution_finish_time": "2025-08-28T11:02:47.1880322Z",
              "parent_msg_id": "727e8e99-eb3a-4a8c-ac05-a48681316dfe"
            },
            "text/plain": "StatementMeta(sparkpoolDev, 60, 8, Finished, Available, Finished)"
          },
          "metadata": {}
        },
        {
          "output_type": "stream",
          "name": "stderr",
          "text": [
            "/tmp/ipykernel_7324/3271389643.py:1: FutureWarning: Treating datetime data as categorical rather than numeric in `.describe` is deprecated and will be removed in a future version of pandas. Specify `datetime_is_numeric=True` to silence this warning and adopt the future behavior now.\n  df_flow_schwartau[\"timestamp\"].describe()\n"
          ]
        },
        {
          "output_type": "execute_result",
          "execution_count": 17,
          "data": {
            "text/plain": "count                 2513836\nunique                1256798\ntop       2018-10-28 02:13:00\nfreq                        4\nfirst     2017-01-01 14:15:00\nlast      2019-05-31 14:15:00\nName: timestamp, dtype: object"
          },
          "metadata": {}
        }
      ],
      "execution_count": 255,
      "metadata": {}
    },
    {
      "cell_type": "code",
      "source": [
        "df_flow_schwartau.plot(kind=\"hist\", y=\"flow\")\n",
        "plt.yscale('log')"
      ],
      "outputs": [
        {
          "output_type": "display_data",
          "data": {
            "application/vnd.livy.statement-meta+json": {
              "spark_pool": "sparkpoolDev",
              "statement_id": 9,
              "statement_ids": [
                9
              ],
              "state": "finished",
              "livy_statement_state": "available",
              "spark_jobs": null,
              "session_id": "60",
              "normalized_state": "finished",
              "queued_time": "2025-08-28T10:56:22.0082231Z",
              "session_start_time": null,
              "execution_start_time": "2025-08-28T11:02:47.2006787Z",
              "execution_finish_time": "2025-08-28T11:02:50.2019762Z",
              "parent_msg_id": "a852b5eb-d16e-454e-9726-0285e02e6ff7"
            },
            "text/plain": "StatementMeta(sparkpoolDev, 60, 9, Finished, Available, Finished)"
          },
          "metadata": {}
        },
        {
          "output_type": "display_data",
          "data": {
            "text/plain": "<Figure size 640x480 with 1 Axes>",
            "image/png": "[encoded data removed]"
          },
          "metadata": {}
        }
      ],
      "execution_count": 256,
      "metadata": {}
    },
    {
      "cell_type": "markdown",
      "source": [
        "<div class=\"alert alert-block alert-warning\">\n",
        "<b>Problem:</b> Outliers in flow.\n",
        "</div>"
      ],
      "metadata": {}
    },
    {
      "cell_type": "code",
      "source": [
        "df_flow_schwartau.isna().sum()"
      ],
      "outputs": [
        {
          "output_type": "display_data",
          "data": {
            "application/vnd.livy.statement-meta+json": {
              "spark_pool": "sparkpoolDev",
              "statement_id": 10,
              "statement_ids": [
                10
              ],
              "state": "finished",
              "livy_statement_state": "available",
              "spark_jobs": null,
              "session_id": "60",
              "normalized_state": "finished",
              "queued_time": "2025-08-28T10:56:22.1701535Z",
              "session_start_time": null,
              "execution_start_time": "2025-08-28T11:02:50.2159606Z",
              "execution_finish_time": "2025-08-28T11:02:50.551769Z",
              "parent_msg_id": "76da71f3-7d34-423f-a469-c9ba8dc7e109"
            },
            "text/plain": "StatementMeta(sparkpoolDev, 60, 10, Finished, Available, Finished)"
          },
          "metadata": {}
        },
        {
          "output_type": "execute_result",
          "execution_count": 21,
          "data": {
            "text/plain": "timestamp    0\nflow         0\ndtype: int64"
          },
          "metadata": {}
        }
      ],
      "execution_count": 257,
      "metadata": {}
    },
    {
      "cell_type": "code",
      "source": [
        "df_flow_schwartau[\"flow\"].nlargest(10)"
      ],
      "outputs": [
        {
          "output_type": "display_data",
          "data": {
            "application/vnd.livy.statement-meta+json": {
              "spark_pool": "sparkpoolDev",
              "statement_id": 11,
              "statement_ids": [
                11
              ],
              "state": "finished",
              "livy_statement_state": "available",
              "spark_jobs": null,
              "session_id": "60",
              "normalized_state": "finished",
              "queued_time": "2025-08-28T10:56:22.3296427Z",
              "session_start_time": null,
              "execution_start_time": "2025-08-28T11:02:50.5649227Z",
              "execution_finish_time": "2025-08-28T11:02:50.8219082Z",
              "parent_msg_id": "7b3f5be1-e319-4672-8e65-037353be308c"
            },
            "text/plain": "StatementMeta(sparkpoolDev, 60, 11, Finished, Available, Finished)"
          },
          "metadata": {}
        },
        {
          "output_type": "execute_result",
          "execution_count": 23,
          "data": {
            "text/plain": "2084055    7999\n2098359    7999\n2107004    7999\n2107005    7999\n2107009    7999\n2107010    7999\n2107023    3148\n2101589    3042\n1531827    2755\n2091430    2629\nName: flow, dtype: int32"
          },
          "metadata": {}
        }
      ],
      "execution_count": 258,
      "metadata": {}
    },
    {
      "cell_type": "code",
      "source": [
        "df_flow_schwartau.sort_values(by=\"timestamp\").head(10)"
      ],
      "outputs": [
        {
          "output_type": "display_data",
          "data": {
            "application/vnd.livy.statement-meta+json": {
              "spark_pool": "sparkpoolDev",
              "statement_id": 12,
              "statement_ids": [
                12
              ],
              "state": "finished",
              "livy_statement_state": "available",
              "spark_jobs": null,
              "session_id": "60",
              "normalized_state": "finished",
              "queued_time": "2025-08-28T10:56:22.4771928Z",
              "session_start_time": null,
              "execution_start_time": "2025-08-28T11:02:50.836205Z",
              "execution_finish_time": "2025-08-28T11:02:51.4871575Z",
              "parent_msg_id": "354782fa-73b7-48b0-b811-1afff7140b1a"
            },
            "text/plain": "StatementMeta(sparkpoolDev, 60, 12, Finished, Available, Finished)"
          },
          "metadata": {}
        },
        {
          "output_type": "execute_result",
          "execution_count": 25,
          "data": {
            "text/plain": "                  timestamp  flow\n0       2017-01-01 14:15:00     0\n1256918 2017-01-01 14:15:00     0\n1256919 2017-01-01 14:16:00     0\n1       2017-01-01 14:16:00     0\n2       2017-01-01 14:17:00     0\n1256920 2017-01-01 14:17:00     0\n3       2017-01-01 14:18:00     0\n1256921 2017-01-01 14:18:00     0\n4       2017-01-01 14:19:00     0\n1256922 2017-01-01 14:19:00     0",
            "text/html": "<div>\n<style scoped>\n    .dataframe tbody tr th:only-of-type {\n        vertical-align: middle;\n    }\n\n    .dataframe tbody tr th {\n        vertical-align: top;\n    }\n\n    .dataframe thead th {\n        text-align: right;\n    }\n</style>\n<table border=\"1\" class=\"dataframe\">\n  <thead>\n    <tr style=\"text-align: right;\">\n      <th></th>\n      <th>timestamp</th>\n      <th>flow</th>\n    </tr>\n  </thead>\n  <tbody>\n    <tr>\n      <th>0</th>\n      <td>2017-01-01 14:15:00</td>\n      <td>0</td>\n    </tr>\n    <tr>\n      <th>1256918</th>\n      <td>2017-01-01 14:15:00</td>\n      <td>0</td>\n    </tr>\n    <tr>\n      <th>1256919</th>\n      <td>2017-01-01 14:16:00</td>\n      <td>0</td>\n    </tr>\n    <tr>\n      <th>1</th>\n      <td>2017-01-01 14:16:00</td>\n      <td>0</td>\n    </tr>\n    <tr>\n      <th>2</th>\n      <td>2017-01-01 14:17:00</td>\n      <td>0</td>\n    </tr>\n    <tr>\n      <th>1256920</th>\n      <td>2017-01-01 14:17:00</td>\n      <td>0</td>\n    </tr>\n    <tr>\n      <th>3</th>\n      <td>2017-01-01 14:18:00</td>\n      <td>0</td>\n    </tr>\n    <tr>\n      <th>1256921</th>\n      <td>2017-01-01 14:18:00</td>\n      <td>0</td>\n    </tr>\n    <tr>\n      <th>4</th>\n      <td>2017-01-01 14:19:00</td>\n      <td>0</td>\n    </tr>\n    <tr>\n      <th>1256922</th>\n      <td>2017-01-01 14:19:00</td>\n      <td>0</td>\n    </tr>\n  </tbody>\n</table>\n</div>"
          },
          "metadata": {}
        }
      ],
      "execution_count": 259,
      "metadata": {}
    },
    {
      "cell_type": "code",
      "source": [
        "df_flow_schwartau.iloc[:(df_flow_schwartau.shape[0])//2]"
      ],
      "outputs": [
        {
          "output_type": "display_data",
          "data": {
            "application/vnd.livy.statement-meta+json": {
              "spark_pool": "sparkpoolDev",
              "statement_id": 13,
              "statement_ids": [
                13
              ],
              "state": "finished",
              "livy_statement_state": "available",
              "spark_jobs": null,
              "session_id": "60",
              "normalized_state": "finished",
              "queued_time": "2025-08-28T10:56:22.6289059Z",
              "session_start_time": null,
              "execution_start_time": "2025-08-28T11:02:51.5006285Z",
              "execution_finish_time": "2025-08-28T11:02:51.7569383Z",
              "parent_msg_id": "227bde9d-a17a-46d0-b13b-f84b756ed020"
            },
            "text/plain": "StatementMeta(sparkpoolDev, 60, 13, Finished, Available, Finished)"
          },
          "metadata": {}
        },
        {
          "output_type": "execute_result",
          "execution_count": 27,
          "data": {
            "text/plain": "                  timestamp  flow\n0       2017-01-01 14:15:00     0\n1       2017-01-01 14:16:00     0\n2       2017-01-01 14:17:00     0\n3       2017-01-01 14:18:00     0\n4       2017-01-01 14:19:00     0\n...                     ...   ...\n1256913 2019-05-31 14:11:00  -241\n1256914 2019-05-31 14:12:00  -226\n1256915 2019-05-31 14:13:00  -208\n1256916 2019-05-31 14:14:00  -217\n1256917 2019-05-31 14:15:00  -222\n\n[1256918 rows x 2 columns]",
            "text/html": "<div>\n<style scoped>\n    .dataframe tbody tr th:only-of-type {\n        vertical-align: middle;\n    }\n\n    .dataframe tbody tr th {\n        vertical-align: top;\n    }\n\n    .dataframe thead th {\n        text-align: right;\n    }\n</style>\n<table border=\"1\" class=\"dataframe\">\n  <thead>\n    <tr style=\"text-align: right;\">\n      <th></th>\n      <th>timestamp</th>\n      <th>flow</th>\n    </tr>\n  </thead>\n  <tbody>\n    <tr>\n      <th>0</th>\n      <td>2017-01-01 14:15:00</td>\n      <td>0</td>\n    </tr>\n    <tr>\n      <th>1</th>\n      <td>2017-01-01 14:16:00</td>\n      <td>0</td>\n    </tr>\n    <tr>\n      <th>2</th>\n      <td>2017-01-01 14:17:00</td>\n      <td>0</td>\n    </tr>\n    <tr>\n      <th>3</th>\n      <td>2017-01-01 14:18:00</td>\n      <td>0</td>\n    </tr>\n    <tr>\n      <th>4</th>\n      <td>2017-01-01 14:19:00</td>\n      <td>0</td>\n    </tr>\n    <tr>\n      <th>...</th>\n      <td>...</td>\n      <td>...</td>\n    </tr>\n    <tr>\n      <th>1256913</th>\n      <td>2019-05-31 14:11:00</td>\n      <td>-241</td>\n    </tr>\n    <tr>\n      <th>1256914</th>\n      <td>2019-05-31 14:12:00</td>\n      <td>-226</td>\n    </tr>\n    <tr>\n      <th>1256915</th>\n      <td>2019-05-31 14:13:00</td>\n      <td>-208</td>\n    </tr>\n    <tr>\n      <th>1256916</th>\n      <td>2019-05-31 14:14:00</td>\n      <td>-217</td>\n    </tr>\n    <tr>\n      <th>1256917</th>\n      <td>2019-05-31 14:15:00</td>\n      <td>-222</td>\n    </tr>\n  </tbody>\n</table>\n<p>1256918 rows × 2 columns</p>\n</div>"
          },
          "metadata": {}
        }
      ],
      "execution_count": 260,
      "metadata": {}
    },
    {
      "cell_type": "code",
      "source": [
        "df_flow_schwartau.iloc[(df_flow_schwartau.shape[0])//2:]"
      ],
      "outputs": [
        {
          "output_type": "display_data",
          "data": {
            "application/vnd.livy.statement-meta+json": {
              "spark_pool": "sparkpoolDev",
              "statement_id": 14,
              "statement_ids": [
                14
              ],
              "state": "finished",
              "livy_statement_state": "available",
              "spark_jobs": null,
              "session_id": "60",
              "normalized_state": "finished",
              "queued_time": "2025-08-28T10:56:22.7984201Z",
              "session_start_time": null,
              "execution_start_time": "2025-08-28T11:02:51.7708158Z",
              "execution_finish_time": "2025-08-28T11:02:52.0245898Z",
              "parent_msg_id": "caa0561b-37b8-4498-b2ac-b131af87e46b"
            },
            "text/plain": "StatementMeta(sparkpoolDev, 60, 14, Finished, Available, Finished)"
          },
          "metadata": {}
        },
        {
          "output_type": "execute_result",
          "execution_count": 29,
          "data": {
            "text/plain": "                  timestamp  flow\n1256918 2017-01-01 14:15:00     0\n1256919 2017-01-01 14:16:00     0\n1256920 2017-01-01 14:17:00     0\n1256921 2017-01-01 14:18:00     0\n1256922 2017-01-01 14:19:00     0\n...                     ...   ...\n2513831 2019-05-31 14:11:00   128\n2513832 2019-05-31 14:12:00   140\n2513833 2019-05-31 14:13:00   144\n2513834 2019-05-31 14:14:00   146\n2513835 2019-05-31 14:15:00   164\n\n[1256918 rows x 2 columns]",
            "text/html": "<div>\n<style scoped>\n    .dataframe tbody tr th:only-of-type {\n        vertical-align: middle;\n    }\n\n    .dataframe tbody tr th {\n        vertical-align: top;\n    }\n\n    .dataframe thead th {\n        text-align: right;\n    }\n</style>\n<table border=\"1\" class=\"dataframe\">\n  <thead>\n    <tr style=\"text-align: right;\">\n      <th></th>\n      <th>timestamp</th>\n      <th>flow</th>\n    </tr>\n  </thead>\n  <tbody>\n    <tr>\n      <th>1256918</th>\n      <td>2017-01-01 14:15:00</td>\n      <td>0</td>\n    </tr>\n    <tr>\n      <th>1256919</th>\n      <td>2017-01-01 14:16:00</td>\n      <td>0</td>\n    </tr>\n    <tr>\n      <th>1256920</th>\n      <td>2017-01-01 14:17:00</td>\n      <td>0</td>\n    </tr>\n    <tr>\n      <th>1256921</th>\n      <td>2017-01-01 14:18:00</td>\n      <td>0</td>\n    </tr>\n    <tr>\n      <th>1256922</th>\n      <td>2017-01-01 14:19:00</td>\n      <td>0</td>\n    </tr>\n    <tr>\n      <th>...</th>\n      <td>...</td>\n      <td>...</td>\n    </tr>\n    <tr>\n      <th>2513831</th>\n      <td>2019-05-31 14:11:00</td>\n      <td>128</td>\n    </tr>\n    <tr>\n      <th>2513832</th>\n      <td>2019-05-31 14:12:00</td>\n      <td>140</td>\n    </tr>\n    <tr>\n      <th>2513833</th>\n      <td>2019-05-31 14:13:00</td>\n      <td>144</td>\n    </tr>\n    <tr>\n      <th>2513834</th>\n      <td>2019-05-31 14:14:00</td>\n      <td>146</td>\n    </tr>\n    <tr>\n      <th>2513835</th>\n      <td>2019-05-31 14:15:00</td>\n      <td>164</td>\n    </tr>\n  </tbody>\n</table>\n<p>1256918 rows × 2 columns</p>\n</div>"
          },
          "metadata": {}
        }
      ],
      "execution_count": 261,
      "metadata": {}
    },
    {
      "cell_type": "code",
      "source": [
        "df_1 = df_flow_schwartau.iloc[:(df_flow_schwartau.shape[0])//2]\n",
        "df_2 = df_flow_schwartau.iloc[(df_flow_schwartau.shape[0])//2:]"
      ],
      "outputs": [
        {
          "output_type": "display_data",
          "data": {
            "application/vnd.livy.statement-meta+json": {
              "spark_pool": "sparkpoolDev",
              "statement_id": 15,
              "statement_ids": [
                15
              ],
              "state": "finished",
              "livy_statement_state": "available",
              "spark_jobs": null,
              "session_id": "60",
              "normalized_state": "finished",
              "queued_time": "2025-08-28T10:56:22.9719029Z",
              "session_start_time": null,
              "execution_start_time": "2025-08-28T11:02:52.0390683Z",
              "execution_finish_time": "2025-08-28T11:02:52.3093545Z",
              "parent_msg_id": "a4184505-9916-4c4c-8792-6dac60c05502"
            },
            "text/plain": "StatementMeta(sparkpoolDev, 60, 15, Finished, Available, Finished)"
          },
          "metadata": {}
        }
      ],
      "execution_count": 262,
      "metadata": {}
    },
    {
      "cell_type": "code",
      "source": [
        "df_1.describe()"
      ],
      "outputs": [
        {
          "output_type": "display_data",
          "data": {
            "application/vnd.livy.statement-meta+json": {
              "spark_pool": "sparkpoolDev",
              "statement_id": 16,
              "statement_ids": [
                16
              ],
              "state": "finished",
              "livy_statement_state": "available",
              "spark_jobs": null,
              "session_id": "60",
              "normalized_state": "finished",
              "queued_time": "2025-08-28T10:56:23.1289644Z",
              "session_start_time": null,
              "execution_start_time": "2025-08-28T11:02:52.3234016Z",
              "execution_finish_time": "2025-08-28T11:02:52.5714625Z",
              "parent_msg_id": "79fc946d-b67f-4407-bb69-d58ae9913f8b"
            },
            "text/plain": "StatementMeta(sparkpoolDev, 60, 16, Finished, Available, Finished)"
          },
          "metadata": {}
        },
        {
          "output_type": "execute_result",
          "execution_count": 33,
          "data": {
            "text/plain": "               flow\ncount  1.256918e+06\nmean  -2.153213e+01\nstd    4.229649e+01\nmin   -6.310000e+02\n25%   -2.400000e+01\n50%    0.000000e+00\n75%    0.000000e+00\nmax    0.000000e+00",
            "text/html": "<div>\n<style scoped>\n    .dataframe tbody tr th:only-of-type {\n        vertical-align: middle;\n    }\n\n    .dataframe tbody tr th {\n        vertical-align: top;\n    }\n\n    .dataframe thead th {\n        text-align: right;\n    }\n</style>\n<table border=\"1\" class=\"dataframe\">\n  <thead>\n    <tr style=\"text-align: right;\">\n      <th></th>\n      <th>flow</th>\n    </tr>\n  </thead>\n  <tbody>\n    <tr>\n      <th>count</th>\n      <td>1.256918e+06</td>\n    </tr>\n    <tr>\n      <th>mean</th>\n      <td>-2.153213e+01</td>\n    </tr>\n    <tr>\n      <th>std</th>\n      <td>4.229649e+01</td>\n    </tr>\n    <tr>\n      <th>min</th>\n      <td>-6.310000e+02</td>\n    </tr>\n    <tr>\n      <th>25%</th>\n      <td>-2.400000e+01</td>\n    </tr>\n    <tr>\n      <th>50%</th>\n      <td>0.000000e+00</td>\n    </tr>\n    <tr>\n      <th>75%</th>\n      <td>0.000000e+00</td>\n    </tr>\n    <tr>\n      <th>max</th>\n      <td>0.000000e+00</td>\n    </tr>\n  </tbody>\n</table>\n</div>"
          },
          "metadata": {}
        }
      ],
      "execution_count": 263,
      "metadata": {}
    },
    {
      "cell_type": "code",
      "source": [
        "df_2.describe()"
      ],
      "outputs": [
        {
          "output_type": "display_data",
          "data": {
            "application/vnd.livy.statement-meta+json": {
              "spark_pool": "sparkpoolDev",
              "statement_id": 17,
              "statement_ids": [
                17
              ],
              "state": "finished",
              "livy_statement_state": "available",
              "spark_jobs": null,
              "session_id": "60",
              "normalized_state": "finished",
              "queued_time": "2025-08-28T10:56:23.3017625Z",
              "session_start_time": null,
              "execution_start_time": "2025-08-28T11:02:52.5838509Z",
              "execution_finish_time": "2025-08-28T11:02:52.8386245Z",
              "parent_msg_id": "55b355c3-6ec4-446a-a418-e6fa085536df"
            },
            "text/plain": "StatementMeta(sparkpoolDev, 60, 17, Finished, Available, Finished)"
          },
          "metadata": {}
        },
        {
          "output_type": "execute_result",
          "execution_count": 35,
          "data": {
            "text/plain": "               flow\ncount  1.256918e+06\nmean   2.478130e+01\nstd    5.514607e+01\nmin    0.000000e+00\n25%    0.000000e+00\n50%    0.000000e+00\n75%    2.400000e+01\nmax    7.999000e+03",
            "text/html": "<div>\n<style scoped>\n    .dataframe tbody tr th:only-of-type {\n        vertical-align: middle;\n    }\n\n    .dataframe tbody tr th {\n        vertical-align: top;\n    }\n\n    .dataframe thead th {\n        text-align: right;\n    }\n</style>\n<table border=\"1\" class=\"dataframe\">\n  <thead>\n    <tr style=\"text-align: right;\">\n      <th></th>\n      <th>flow</th>\n    </tr>\n  </thead>\n  <tbody>\n    <tr>\n      <th>count</th>\n      <td>1.256918e+06</td>\n    </tr>\n    <tr>\n      <th>mean</th>\n      <td>2.478130e+01</td>\n    </tr>\n    <tr>\n      <th>std</th>\n      <td>5.514607e+01</td>\n    </tr>\n    <tr>\n      <th>min</th>\n      <td>0.000000e+00</td>\n    </tr>\n    <tr>\n      <th>25%</th>\n      <td>0.000000e+00</td>\n    </tr>\n    <tr>\n      <th>50%</th>\n      <td>0.000000e+00</td>\n    </tr>\n    <tr>\n      <th>75%</th>\n      <td>2.400000e+01</td>\n    </tr>\n    <tr>\n      <th>max</th>\n      <td>7.999000e+03</td>\n    </tr>\n  </tbody>\n</table>\n</div>"
          },
          "metadata": {}
        }
      ],
      "execution_count": 264,
      "metadata": {}
    },
    {
      "cell_type": "code",
      "source": [
        "df_departures_flow = df_flow_schwartau.iloc[:(df_flow_schwartau.shape[0])//2].copy()\n",
        "df_arrivals_flow = df_flow_schwartau.iloc[(df_flow_schwartau.shape[0])//2:].copy()"
      ],
      "outputs": [
        {
          "output_type": "display_data",
          "data": {
            "application/vnd.livy.statement-meta+json": {
              "spark_pool": "sparkpoolDev",
              "statement_id": 18,
              "statement_ids": [
                18
              ],
              "state": "finished",
              "livy_statement_state": "available",
              "spark_jobs": null,
              "session_id": "60",
              "normalized_state": "finished",
              "queued_time": "2025-08-28T10:56:23.4982789Z",
              "session_start_time": null,
              "execution_start_time": "2025-08-28T11:02:52.8520355Z",
              "execution_finish_time": "2025-08-28T11:02:53.1040698Z",
              "parent_msg_id": "45ddf42c-70ae-4c14-ade5-8ba31b30a0c1"
            },
            "text/plain": "StatementMeta(sparkpoolDev, 60, 18, Finished, Available, Finished)"
          },
          "metadata": {}
        }
      ],
      "execution_count": 265,
      "metadata": {}
    },
    {
      "cell_type": "code",
      "source": [
        "df_departures_flow.duplicated().sum()"
      ],
      "outputs": [
        {
          "output_type": "display_data",
          "data": {
            "application/vnd.livy.statement-meta+json": {
              "spark_pool": "sparkpoolDev",
              "statement_id": 19,
              "statement_ids": [
                19
              ],
              "state": "finished",
              "livy_statement_state": "available",
              "spark_jobs": null,
              "session_id": "60",
              "normalized_state": "finished",
              "queued_time": "2025-08-28T10:56:23.6825305Z",
              "session_start_time": null,
              "execution_start_time": "2025-08-28T11:02:53.1171801Z",
              "execution_finish_time": "2025-08-28T11:02:53.368952Z",
              "parent_msg_id": "d406169d-1a6d-493e-8ffd-76b45ba31141"
            },
            "text/plain": "StatementMeta(sparkpoolDev, 60, 19, Finished, Available, Finished)"
          },
          "metadata": {}
        },
        {
          "output_type": "execute_result",
          "execution_count": 39,
          "data": {
            "text/plain": "114"
          },
          "metadata": {}
        }
      ],
      "execution_count": 266,
      "metadata": {}
    },
    {
      "cell_type": "code",
      "source": [
        "df_arrivals_flow.duplicated().sum()"
      ],
      "outputs": [
        {
          "output_type": "display_data",
          "data": {
            "application/vnd.livy.statement-meta+json": {
              "spark_pool": "sparkpoolDev",
              "statement_id": 20,
              "statement_ids": [
                20
              ],
              "state": "finished",
              "livy_statement_state": "available",
              "spark_jobs": null,
              "session_id": "60",
              "normalized_state": "finished",
              "queued_time": "2025-08-28T10:56:23.9160875Z",
              "session_start_time": null,
              "execution_start_time": "2025-08-28T11:02:53.3832018Z",
              "execution_finish_time": "2025-08-28T11:02:53.6370069Z",
              "parent_msg_id": "4ecb97c1-e4aa-4aec-9bb2-0f0f731061b2"
            },
            "text/plain": "StatementMeta(sparkpoolDev, 60, 20, Finished, Available, Finished)"
          },
          "metadata": {}
        },
        {
          "output_type": "execute_result",
          "execution_count": 41,
          "data": {
            "text/plain": "120"
          },
          "metadata": {}
        }
      ],
      "execution_count": 267,
      "metadata": {}
    },
    {
      "cell_type": "markdown",
      "source": [
        "<div class=\"alert alert-block alert-warning\">\n",
        "<b>Problem:</b> flow has duplicates\n",
        "</div>"
      ],
      "metadata": {}
    },
    {
      "cell_type": "code",
      "source": [
        "df_departures_flow.loc[df_departures_flow.duplicated(), \"timestamp\"].dt.date.unique()"
      ],
      "outputs": [
        {
          "output_type": "display_data",
          "data": {
            "application/vnd.livy.statement-meta+json": {
              "spark_pool": "sparkpoolDev",
              "statement_id": 21,
              "statement_ids": [
                21
              ],
              "state": "finished",
              "livy_statement_state": "available",
              "spark_jobs": null,
              "session_id": "60",
              "normalized_state": "finished",
              "queued_time": "2025-08-28T10:56:24.0893906Z",
              "session_start_time": null,
              "execution_start_time": "2025-08-28T11:02:53.6499098Z",
              "execution_finish_time": "2025-08-28T11:02:53.9060493Z",
              "parent_msg_id": "eeab9144-6b3a-4040-88ce-22e9a10ddffe"
            },
            "text/plain": "StatementMeta(sparkpoolDev, 60, 21, Finished, Available, Finished)"
          },
          "metadata": {}
        },
        {
          "output_type": "execute_result",
          "execution_count": 43,
          "data": {
            "text/plain": "array([datetime.date(2017, 10, 29), datetime.date(2018, 10, 28)],\n      dtype=object)"
          },
          "metadata": {}
        }
      ],
      "execution_count": 268,
      "metadata": {}
    },
    {
      "cell_type": "code",
      "source": [
        "df_departures_flow.loc[df_departures_flow.duplicated(), \"timestamp\"].dt.day_name().unique()"
      ],
      "outputs": [
        {
          "output_type": "display_data",
          "data": {
            "application/vnd.livy.statement-meta+json": {
              "spark_pool": "sparkpoolDev",
              "statement_id": 22,
              "statement_ids": [
                22
              ],
              "state": "finished",
              "livy_statement_state": "available",
              "spark_jobs": null,
              "session_id": "60",
              "normalized_state": "finished",
              "queued_time": "2025-08-28T10:56:24.2973633Z",
              "session_start_time": null,
              "execution_start_time": "2025-08-28T11:02:53.9195874Z",
              "execution_finish_time": "2025-08-28T11:02:54.5599028Z",
              "parent_msg_id": "24a343e8-e5a8-4ad1-b866-c2ebc9ae8754"
            },
            "text/plain": "StatementMeta(sparkpoolDev, 60, 22, Finished, Available, Finished)"
          },
          "metadata": {}
        },
        {
          "output_type": "execute_result",
          "execution_count": 45,
          "data": {
            "text/plain": "array(['Sunday'], dtype=object)"
          },
          "metadata": {}
        }
      ],
      "execution_count": 269,
      "metadata": {}
    },
    {
      "cell_type": "markdown",
      "source": [
        "DST Time Issue"
      ],
      "metadata": {}
    },
    {
      "cell_type": "code",
      "source": [
        "df_3 = df_departures_flow.copy()\n",
        "df_3['timestamp'] = df_3['timestamp'].dt.tz_localize(\"Europe/Berlin\", ambiguous='infer').dt.tz_convert(\"UTC\")"
      ],
      "outputs": [
        {
          "output_type": "display_data",
          "data": {
            "application/vnd.livy.statement-meta+json": {
              "spark_pool": "sparkpoolDev",
              "statement_id": 23,
              "statement_ids": [
                23
              ],
              "state": "finished",
              "livy_statement_state": "available",
              "spark_jobs": null,
              "session_id": "60",
              "normalized_state": "finished",
              "queued_time": "2025-08-28T10:56:24.438062Z",
              "session_start_time": null,
              "execution_start_time": "2025-08-28T11:02:54.5747329Z",
              "execution_finish_time": "2025-08-28T11:02:55.7852154Z",
              "parent_msg_id": "20d26c00-d985-4f69-9242-4aa1b03568f7"
            },
            "text/plain": "StatementMeta(sparkpoolDev, 60, 23, Finished, Available, Finished)"
          },
          "metadata": {}
        }
      ],
      "execution_count": 270,
      "metadata": {}
    },
    {
      "cell_type": "code",
      "source": [
        "df_3.duplicated().sum()"
      ],
      "outputs": [
        {
          "output_type": "display_data",
          "data": {
            "application/vnd.livy.statement-meta+json": {
              "spark_pool": "sparkpoolDev",
              "statement_id": 24,
              "statement_ids": [
                24
              ],
              "state": "finished",
              "livy_statement_state": "available",
              "spark_jobs": null,
              "session_id": "60",
              "normalized_state": "finished",
              "queued_time": "2025-08-28T10:56:24.6028807Z",
              "session_start_time": null,
              "execution_start_time": "2025-08-28T11:02:55.7978005Z",
              "execution_finish_time": "2025-08-28T11:02:56.0603773Z",
              "parent_msg_id": "c1146ace-cda5-47bb-88e5-98a375fc1237"
            },
            "text/plain": "StatementMeta(sparkpoolDev, 60, 24, Finished, Available, Finished)"
          },
          "metadata": {}
        },
        {
          "output_type": "execute_result",
          "execution_count": 49,
          "data": {
            "text/plain": "0"
          },
          "metadata": {}
        }
      ],
      "execution_count": 271,
      "metadata": {}
    },
    {
      "cell_type": "code",
      "source": [
        "df_departures_flow[\"timestamp\"] = df_departures_flow['timestamp'].dt.tz_localize(\"Europe/Berlin\", ambiguous='infer').dt.tz_convert(\"UTC\")\n",
        "df_arrivals_flow[\"timestamp\"] = df_arrivals_flow['timestamp'].dt.tz_localize(\"Europe/Berlin\", ambiguous='infer').dt.tz_convert(\"UTC\")"
      ],
      "outputs": [
        {
          "output_type": "display_data",
          "data": {
            "application/vnd.livy.statement-meta+json": {
              "spark_pool": "sparkpoolDev",
              "statement_id": 25,
              "statement_ids": [
                25
              ],
              "state": "finished",
              "livy_statement_state": "available",
              "spark_jobs": null,
              "session_id": "60",
              "normalized_state": "finished",
              "queued_time": "2025-08-28T10:56:24.7760621Z",
              "session_start_time": null,
              "execution_start_time": "2025-08-28T11:02:56.0732235Z",
              "execution_finish_time": "2025-08-28T11:02:57.2888345Z",
              "parent_msg_id": "02c8aae3-007d-4dd7-ac29-fd71968d3d27"
            },
            "text/plain": "StatementMeta(sparkpoolDev, 60, 25, Finished, Available, Finished)"
          },
          "metadata": {}
        }
      ],
      "execution_count": 272,
      "metadata": {}
    },
    {
      "cell_type": "code",
      "source": [
        "print(f\"departures_flow duplicates: {df_departures_flow.duplicated().sum()}, arrivals_flow duplicates: {df_arrivals_flow.duplicated().sum()}\")"
      ],
      "outputs": [
        {
          "output_type": "display_data",
          "data": {
            "application/vnd.livy.statement-meta+json": {
              "spark_pool": "sparkpoolDev",
              "statement_id": 26,
              "statement_ids": [
                26
              ],
              "state": "finished",
              "livy_statement_state": "available",
              "spark_jobs": null,
              "session_id": "60",
              "normalized_state": "finished",
              "queued_time": "2025-08-28T10:56:24.958939Z",
              "session_start_time": null,
              "execution_start_time": "2025-08-28T11:02:57.3016611Z",
              "execution_finish_time": "2025-08-28T11:02:57.9395139Z",
              "parent_msg_id": "73583a0d-685d-44cd-91e2-19e491ff0212"
            },
            "text/plain": "StatementMeta(sparkpoolDev, 60, 26, Finished, Available, Finished)"
          },
          "metadata": {}
        },
        {
          "output_type": "stream",
          "name": "stdout",
          "text": [
            "departures_flow duplicates: 0, arrivals_flow duplicates: 0\n"
          ]
        }
      ],
      "execution_count": 273,
      "metadata": {}
    },
    {
      "cell_type": "code",
      "source": [
        "# Merge df_departures_flow and df_arrivals_flow and save it to df_flow_schwartau\n",
        "df_flow_schwartau = df_departures_flow.merge(df_arrivals_flow, on=\"timestamp\", suffixes=(\"_out\", \"_in\"))"
      ],
      "outputs": [
        {
          "output_type": "display_data",
          "data": {
            "application/vnd.livy.statement-meta+json": {
              "spark_pool": "sparkpoolDev",
              "statement_id": 27,
              "statement_ids": [
                27
              ],
              "state": "finished",
              "livy_statement_state": "available",
              "spark_jobs": null,
              "session_id": "60",
              "normalized_state": "finished",
              "queued_time": "2025-08-28T10:56:25.1367075Z",
              "session_start_time": null,
              "execution_start_time": "2025-08-28T11:02:57.9540129Z",
              "execution_finish_time": "2025-08-28T11:02:58.607459Z",
              "parent_msg_id": "ac603a45-a281-4adc-b02e-fa0035d96b50"
            },
            "text/plain": "StatementMeta(sparkpoolDev, 60, 27, Finished, Available, Finished)"
          },
          "metadata": {}
        }
      ],
      "execution_count": 274,
      "metadata": {}
    },
    {
      "cell_type": "markdown",
      "source": [
        "<div class=\"alert alert-block alert-success\">\n",
        "<b>Fixed:</b> flow duplicates\n",
        "</div>"
      ],
      "metadata": {}
    },
    {
      "cell_type": "code",
      "source": [
        "df_flow_schwartau"
      ],
      "outputs": [
        {
          "output_type": "display_data",
          "data": {
            "application/vnd.livy.statement-meta+json": {
              "spark_pool": "sparkpoolDev",
              "statement_id": 28,
              "statement_ids": [
                28
              ],
              "state": "finished",
              "livy_statement_state": "available",
              "spark_jobs": null,
              "session_id": "60",
              "normalized_state": "finished",
              "queued_time": "2025-08-28T10:56:25.3066362Z",
              "session_start_time": null,
              "execution_start_time": "2025-08-28T11:02:58.6208314Z",
              "execution_finish_time": "2025-08-28T11:02:58.872669Z",
              "parent_msg_id": "d5a0454e-9cea-4415-b41f-37656b0d733b"
            },
            "text/plain": "StatementMeta(sparkpoolDev, 60, 28, Finished, Available, Finished)"
          },
          "metadata": {}
        },
        {
          "output_type": "execute_result",
          "execution_count": 57,
          "data": {
            "text/plain": "                        timestamp  flow_out  flow_in\n0       2017-01-01 13:15:00+00:00         0        0\n1       2017-01-01 13:16:00+00:00         0        0\n2       2017-01-01 13:17:00+00:00         0        0\n3       2017-01-01 13:18:00+00:00         0        0\n4       2017-01-01 13:19:00+00:00         0        0\n...                           ...       ...      ...\n1256913 2019-05-31 12:11:00+00:00      -241      128\n1256914 2019-05-31 12:12:00+00:00      -226      140\n1256915 2019-05-31 12:13:00+00:00      -208      144\n1256916 2019-05-31 12:14:00+00:00      -217      146\n1256917 2019-05-31 12:15:00+00:00      -222      164\n\n[1256918 rows x 3 columns]",
            "text/html": "<div>\n<style scoped>\n    .dataframe tbody tr th:only-of-type {\n        vertical-align: middle;\n    }\n\n    .dataframe tbody tr th {\n        vertical-align: top;\n    }\n\n    .dataframe thead th {\n        text-align: right;\n    }\n</style>\n<table border=\"1\" class=\"dataframe\">\n  <thead>\n    <tr style=\"text-align: right;\">\n      <th></th>\n      <th>timestamp</th>\n      <th>flow_out</th>\n      <th>flow_in</th>\n    </tr>\n  </thead>\n  <tbody>\n    <tr>\n      <th>0</th>\n      <td>2017-01-01 13:15:00+00:00</td>\n      <td>0</td>\n      <td>0</td>\n    </tr>\n    <tr>\n      <th>1</th>\n      <td>2017-01-01 13:16:00+00:00</td>\n      <td>0</td>\n      <td>0</td>\n    </tr>\n    <tr>\n      <th>2</th>\n      <td>2017-01-01 13:17:00+00:00</td>\n      <td>0</td>\n      <td>0</td>\n    </tr>\n    <tr>\n      <th>3</th>\n      <td>2017-01-01 13:18:00+00:00</td>\n      <td>0</td>\n      <td>0</td>\n    </tr>\n    <tr>\n      <th>4</th>\n      <td>2017-01-01 13:19:00+00:00</td>\n      <td>0</td>\n      <td>0</td>\n    </tr>\n    <tr>\n      <th>...</th>\n      <td>...</td>\n      <td>...</td>\n      <td>...</td>\n    </tr>\n    <tr>\n      <th>1256913</th>\n      <td>2019-05-31 12:11:00+00:00</td>\n      <td>-241</td>\n      <td>128</td>\n    </tr>\n    <tr>\n      <th>1256914</th>\n      <td>2019-05-31 12:12:00+00:00</td>\n      <td>-226</td>\n      <td>140</td>\n    </tr>\n    <tr>\n      <th>1256915</th>\n      <td>2019-05-31 12:13:00+00:00</td>\n      <td>-208</td>\n      <td>144</td>\n    </tr>\n    <tr>\n      <th>1256916</th>\n      <td>2019-05-31 12:14:00+00:00</td>\n      <td>-217</td>\n      <td>146</td>\n    </tr>\n    <tr>\n      <th>1256917</th>\n      <td>2019-05-31 12:15:00+00:00</td>\n      <td>-222</td>\n      <td>164</td>\n    </tr>\n  </tbody>\n</table>\n<p>1256918 rows × 3 columns</p>\n</div>"
          },
          "metadata": {}
        }
      ],
      "execution_count": 275,
      "metadata": {}
    },
    {
      "cell_type": "markdown",
      "source": [
        "Merged and saved back to original df"
      ],
      "metadata": {}
    },
    {
      "cell_type": "code",
      "source": [
        "df_flow_schwartau.timestamp.min()"
      ],
      "outputs": [
        {
          "output_type": "display_data",
          "data": {
            "application/vnd.livy.statement-meta+json": {
              "spark_pool": "sparkpoolDev",
              "statement_id": 29,
              "statement_ids": [
                29
              ],
              "state": "finished",
              "livy_statement_state": "available",
              "spark_jobs": null,
              "session_id": "60",
              "normalized_state": "finished",
              "queued_time": "2025-08-28T10:56:25.458779Z",
              "session_start_time": null,
              "execution_start_time": "2025-08-28T11:02:58.8851308Z",
              "execution_finish_time": "2025-08-28T11:02:59.1385739Z",
              "parent_msg_id": "89d9f96a-5333-4320-bc68-65537081683f"
            },
            "text/plain": "StatementMeta(sparkpoolDev, 60, 29, Finished, Available, Finished)"
          },
          "metadata": {}
        },
        {
          "output_type": "execute_result",
          "execution_count": 59,
          "data": {
            "text/plain": "Timestamp('2017-01-01 13:15:00+0000', tz='UTC')"
          },
          "metadata": {}
        }
      ],
      "execution_count": 276,
      "metadata": {}
    },
    {
      "cell_type": "code",
      "source": [
        "df_flow_schwartau.timestamp.max()"
      ],
      "outputs": [
        {
          "output_type": "display_data",
          "data": {
            "application/vnd.livy.statement-meta+json": {
              "spark_pool": "sparkpoolDev",
              "statement_id": 30,
              "statement_ids": [
                30
              ],
              "state": "finished",
              "livy_statement_state": "available",
              "spark_jobs": null,
              "session_id": "60",
              "normalized_state": "finished",
              "queued_time": "2025-08-28T10:56:25.6413793Z",
              "session_start_time": null,
              "execution_start_time": "2025-08-28T11:02:59.1611851Z",
              "execution_finish_time": "2025-08-28T11:02:59.4143163Z",
              "parent_msg_id": "04107ea6-69e5-4762-9c85-41a404e4cf05"
            },
            "text/plain": "StatementMeta(sparkpoolDev, 60, 30, Finished, Available, Finished)"
          },
          "metadata": {}
        },
        {
          "output_type": "execute_result",
          "execution_count": 61,
          "data": {
            "text/plain": "Timestamp('2019-05-31 12:15:00+0000', tz='UTC')"
          },
          "metadata": {}
        }
      ],
      "execution_count": 277,
      "metadata": {}
    },
    {
      "cell_type": "code",
      "source": [
        "df_flow_schwartau.timestamp.max() - df_flow_schwartau.timestamp.min()"
      ],
      "outputs": [
        {
          "output_type": "display_data",
          "data": {
            "application/vnd.livy.statement-meta+json": {
              "spark_pool": "sparkpoolDev",
              "statement_id": 31,
              "statement_ids": [
                31
              ],
              "state": "finished",
              "livy_statement_state": "available",
              "spark_jobs": null,
              "session_id": "60",
              "normalized_state": "finished",
              "queued_time": "2025-08-28T10:56:25.8242499Z",
              "session_start_time": null,
              "execution_start_time": "2025-08-28T11:02:59.4279356Z",
              "execution_finish_time": "2025-08-28T11:02:59.6847727Z",
              "parent_msg_id": "286e57ec-a3b1-4879-b462-77c2e8da9262"
            },
            "text/plain": "StatementMeta(sparkpoolDev, 60, 31, Finished, Available, Finished)"
          },
          "metadata": {}
        },
        {
          "output_type": "execute_result",
          "execution_count": 63,
          "data": {
            "text/plain": "Timedelta('879 days 23:00:00')"
          },
          "metadata": {}
        }
      ],
      "execution_count": 278,
      "metadata": {}
    },
    {
      "cell_type": "code",
      "source": [
        "df_flow_schwartau['timestamp'].shift(1)"
      ],
      "outputs": [
        {
          "output_type": "display_data",
          "data": {
            "application/vnd.livy.statement-meta+json": {
              "spark_pool": "sparkpoolDev",
              "statement_id": 32,
              "statement_ids": [
                32
              ],
              "state": "finished",
              "livy_statement_state": "available",
              "spark_jobs": null,
              "session_id": "60",
              "normalized_state": "finished",
              "queued_time": "2025-08-28T10:56:26.0200021Z",
              "session_start_time": null,
              "execution_start_time": "2025-08-28T11:02:59.697668Z",
              "execution_finish_time": "2025-08-28T11:02:59.948118Z",
              "parent_msg_id": "6c8464cd-6c1e-4fe4-b315-9446ea7e5926"
            },
            "text/plain": "StatementMeta(sparkpoolDev, 60, 32, Finished, Available, Finished)"
          },
          "metadata": {}
        },
        {
          "output_type": "execute_result",
          "execution_count": 65,
          "data": {
            "text/plain": "0                               NaT\n1         2017-01-01 13:15:00+00:00\n2         2017-01-01 13:16:00+00:00\n3         2017-01-01 13:17:00+00:00\n4         2017-01-01 13:18:00+00:00\n                     ...           \n1256913   2019-05-31 12:10:00+00:00\n1256914   2019-05-31 12:11:00+00:00\n1256915   2019-05-31 12:12:00+00:00\n1256916   2019-05-31 12:13:00+00:00\n1256917   2019-05-31 12:14:00+00:00\nName: timestamp, Length: 1256918, dtype: datetime64[ns, UTC]"
          },
          "metadata": {}
        }
      ],
      "execution_count": 279,
      "metadata": {}
    },
    {
      "cell_type": "code",
      "source": [
        "(df_flow_schwartau['timestamp'] - df_flow_schwartau['timestamp'].shift(1)).nunique()"
      ],
      "outputs": [
        {
          "output_type": "display_data",
          "data": {
            "application/vnd.livy.statement-meta+json": {
              "spark_pool": "sparkpoolDev",
              "statement_id": 33,
              "statement_ids": [
                33
              ],
              "state": "finished",
              "livy_statement_state": "available",
              "spark_jobs": null,
              "session_id": "60",
              "normalized_state": "finished",
              "queued_time": "2025-08-28T10:56:26.2296201Z",
              "session_start_time": null,
              "execution_start_time": "2025-08-28T11:02:59.9636554Z",
              "execution_finish_time": "2025-08-28T11:03:00.24634Z",
              "parent_msg_id": "7be54c11-3d46-43d6-90c5-a887d39d62aa"
            },
            "text/plain": "StatementMeta(sparkpoolDev, 60, 33, Finished, Available, Finished)"
          },
          "metadata": {}
        },
        {
          "output_type": "execute_result",
          "execution_count": 67,
          "data": {
            "text/plain": "6"
          },
          "metadata": {}
        }
      ],
      "execution_count": 280,
      "metadata": {}
    },
    {
      "cell_type": "code",
      "source": [
        "(df_flow_schwartau['timestamp'] - df_flow_schwartau['timestamp'].shift(1)).unique()"
      ],
      "outputs": [
        {
          "output_type": "display_data",
          "data": {
            "application/vnd.livy.statement-meta+json": {
              "spark_pool": "sparkpoolDev",
              "statement_id": 34,
              "statement_ids": [
                34
              ],
              "state": "finished",
              "livy_statement_state": "available",
              "spark_jobs": null,
              "session_id": "60",
              "normalized_state": "finished",
              "queued_time": "2025-08-28T10:56:26.40381Z",
              "session_start_time": null,
              "execution_start_time": "2025-08-28T11:03:00.2603972Z",
              "execution_finish_time": "2025-08-28T11:03:00.5079714Z",
              "parent_msg_id": "f13b746b-b015-4ad9-8787-a2552079b6bd"
            },
            "text/plain": "StatementMeta(sparkpoolDev, 60, 34, Finished, Available, Finished)"
          },
          "metadata": {}
        },
        {
          "output_type": "execute_result",
          "execution_count": 69,
          "data": {
            "text/plain": "array([          'NaT',     60000000000,    120000000000, 466320000000000,\n        42960000000000,   9840000000000,  91140000000000],\n      dtype='timedelta64[ns]')"
          },
          "metadata": {}
        }
      ],
      "execution_count": 281,
      "metadata": {}
    },
    {
      "cell_type": "code",
      "source": [
        "(df_flow_schwartau['timestamp'] - df_flow_schwartau['timestamp'].shift(1)).value_counts()"
      ],
      "outputs": [
        {
          "output_type": "display_data",
          "data": {
            "application/vnd.livy.statement-meta+json": {
              "spark_pool": "sparkpoolDev",
              "statement_id": 35,
              "statement_ids": [
                35
              ],
              "state": "finished",
              "livy_statement_state": "available",
              "spark_jobs": null,
              "session_id": "60",
              "normalized_state": "finished",
              "queued_time": "2025-08-28T10:56:26.5601458Z",
              "session_start_time": null,
              "execution_start_time": "2025-08-28T11:03:00.523201Z",
              "execution_finish_time": "2025-08-28T11:03:00.7744817Z",
              "parent_msg_id": "37e7a9a7-b792-49b2-869d-cb9b5bafff4f"
            },
            "text/plain": "StatementMeta(sparkpoolDev, 60, 35, Finished, Available, Finished)"
          },
          "metadata": {}
        },
        {
          "output_type": "execute_result",
          "execution_count": 71,
          "data": {
            "text/plain": "0 days 00:01:00    1256857\n0 days 00:02:00         56\n5 days 09:32:00          1\n0 days 11:56:00          1\n0 days 02:44:00          1\n1 days 01:19:00          1\nName: timestamp, dtype: int64"
          },
          "metadata": {}
        }
      ],
      "execution_count": 282,
      "metadata": {}
    },
    {
      "cell_type": "markdown",
      "source": [
        "<div class=\"alert alert-block alert-warning\">\n",
        "<b>Problem:</b> not arranged homogeneous -> df.asfreq() could help\n",
        "</div>"
      ],
      "metadata": {}
    },
    {
      "cell_type": "code",
      "source": [
        "df_flow_schwartau.set_index('timestamp', inplace=True)\n",
        "df_flow_schwartau"
      ],
      "outputs": [
        {
          "output_type": "display_data",
          "data": {
            "application/vnd.livy.statement-meta+json": {
              "spark_pool": "sparkpoolDev",
              "statement_id": 36,
              "statement_ids": [
                36
              ],
              "state": "finished",
              "livy_statement_state": "available",
              "spark_jobs": null,
              "session_id": "60",
              "normalized_state": "finished",
              "queued_time": "2025-08-28T10:56:26.7511898Z",
              "session_start_time": null,
              "execution_start_time": "2025-08-28T11:03:00.7900953Z",
              "execution_finish_time": "2025-08-28T11:03:01.042095Z",
              "parent_msg_id": "70498679-1f6f-4a61-826d-8a8c4edd73be"
            },
            "text/plain": "StatementMeta(sparkpoolDev, 60, 36, Finished, Available, Finished)"
          },
          "metadata": {}
        },
        {
          "output_type": "execute_result",
          "execution_count": 73,
          "data": {
            "text/plain": "                           flow_out  flow_in\ntimestamp                                   \n2017-01-01 13:15:00+00:00         0        0\n2017-01-01 13:16:00+00:00         0        0\n2017-01-01 13:17:00+00:00         0        0\n2017-01-01 13:18:00+00:00         0        0\n2017-01-01 13:19:00+00:00         0        0\n...                             ...      ...\n2019-05-31 12:11:00+00:00      -241      128\n2019-05-31 12:12:00+00:00      -226      140\n2019-05-31 12:13:00+00:00      -208      144\n2019-05-31 12:14:00+00:00      -217      146\n2019-05-31 12:15:00+00:00      -222      164\n\n[1256918 rows x 2 columns]",
            "text/html": "<div>\n<style scoped>\n    .dataframe tbody tr th:only-of-type {\n        vertical-align: middle;\n    }\n\n    .dataframe tbody tr th {\n        vertical-align: top;\n    }\n\n    .dataframe thead th {\n        text-align: right;\n    }\n</style>\n<table border=\"1\" class=\"dataframe\">\n  <thead>\n    <tr style=\"text-align: right;\">\n      <th></th>\n      <th>flow_out</th>\n      <th>flow_in</th>\n    </tr>\n    <tr>\n      <th>timestamp</th>\n      <th></th>\n      <th></th>\n    </tr>\n  </thead>\n  <tbody>\n    <tr>\n      <th>2017-01-01 13:15:00+00:00</th>\n      <td>0</td>\n      <td>0</td>\n    </tr>\n    <tr>\n      <th>2017-01-01 13:16:00+00:00</th>\n      <td>0</td>\n      <td>0</td>\n    </tr>\n    <tr>\n      <th>2017-01-01 13:17:00+00:00</th>\n      <td>0</td>\n      <td>0</td>\n    </tr>\n    <tr>\n      <th>2017-01-01 13:18:00+00:00</th>\n      <td>0</td>\n      <td>0</td>\n    </tr>\n    <tr>\n      <th>2017-01-01 13:19:00+00:00</th>\n      <td>0</td>\n      <td>0</td>\n    </tr>\n    <tr>\n      <th>...</th>\n      <td>...</td>\n      <td>...</td>\n    </tr>\n    <tr>\n      <th>2019-05-31 12:11:00+00:00</th>\n      <td>-241</td>\n      <td>128</td>\n    </tr>\n    <tr>\n      <th>2019-05-31 12:12:00+00:00</th>\n      <td>-226</td>\n      <td>140</td>\n    </tr>\n    <tr>\n      <th>2019-05-31 12:13:00+00:00</th>\n      <td>-208</td>\n      <td>144</td>\n    </tr>\n    <tr>\n      <th>2019-05-31 12:14:00+00:00</th>\n      <td>-217</td>\n      <td>146</td>\n    </tr>\n    <tr>\n      <th>2019-05-31 12:15:00+00:00</th>\n      <td>-222</td>\n      <td>164</td>\n    </tr>\n  </tbody>\n</table>\n<p>1256918 rows × 2 columns</p>\n</div>"
          },
          "metadata": {}
        }
      ],
      "execution_count": 283,
      "metadata": {}
    },
    {
      "cell_type": "code",
      "source": [
        "df_homogenous = df_flow_schwartau.asfreq('min')\n",
        "\n",
        "print(\"DataFrame after asfreq('min'):\")\n",
        "print(df_homogenous)"
      ],
      "outputs": [
        {
          "output_type": "display_data",
          "data": {
            "application/vnd.livy.statement-meta+json": {
              "spark_pool": "sparkpoolDev",
              "statement_id": 37,
              "statement_ids": [
                37
              ],
              "state": "finished",
              "livy_statement_state": "available",
              "spark_jobs": null,
              "session_id": "60",
              "normalized_state": "finished",
              "queued_time": "2025-08-28T10:56:26.9111756Z",
              "session_start_time": null,
              "execution_start_time": "2025-08-28T11:03:01.0572324Z",
              "execution_finish_time": "2025-08-28T11:03:01.6845059Z",
              "parent_msg_id": "e041cad1-df11-4287-8eda-4fcf2fc3a205"
            },
            "text/plain": "StatementMeta(sparkpoolDev, 60, 37, Finished, Available, Finished)"
          },
          "metadata": {}
        },
        {
          "output_type": "stream",
          "name": "stdout",
          "text": [
            "DataFrame after asfreq('min'):\n                           flow_out  flow_in\ntimestamp                                   \n2017-01-01 13:15:00+00:00       0.0      0.0\n2017-01-01 13:16:00+00:00       0.0      0.0\n2017-01-01 13:17:00+00:00       0.0      0.0\n2017-01-01 13:18:00+00:00       0.0      0.0\n2017-01-01 13:19:00+00:00       0.0      0.0\n...                             ...      ...\n2019-05-31 12:11:00+00:00    -241.0    128.0\n2019-05-31 12:12:00+00:00    -226.0    140.0\n2019-05-31 12:13:00+00:00    -208.0    144.0\n2019-05-31 12:14:00+00:00    -217.0    146.0\n2019-05-31 12:15:00+00:00    -222.0    164.0\n\n[1267141 rows x 2 columns]\n"
          ]
        }
      ],
      "execution_count": 284,
      "metadata": {}
    },
    {
      "cell_type": "code",
      "source": [
        "df_homogenous.isnull().sum()"
      ],
      "outputs": [
        {
          "output_type": "display_data",
          "data": {
            "application/vnd.livy.statement-meta+json": {
              "spark_pool": "sparkpoolDev",
              "statement_id": 38,
              "statement_ids": [
                38
              ],
              "state": "finished",
              "livy_statement_state": "available",
              "spark_jobs": null,
              "session_id": "60",
              "normalized_state": "finished",
              "queued_time": "2025-08-28T10:56:27.0630956Z",
              "session_start_time": null,
              "execution_start_time": "2025-08-28T11:03:01.6980896Z",
              "execution_finish_time": "2025-08-28T11:03:01.9633254Z",
              "parent_msg_id": "605255de-9479-40ad-9560-c81e63ca0e00"
            },
            "text/plain": "StatementMeta(sparkpoolDev, 60, 38, Finished, Available, Finished)"
          },
          "metadata": {}
        },
        {
          "output_type": "execute_result",
          "execution_count": 77,
          "data": {
            "text/plain": "flow_out    10223\nflow_in     10223\ndtype: int64"
          },
          "metadata": {}
        }
      ],
      "execution_count": 285,
      "metadata": {}
    },
    {
      "cell_type": "code",
      "source": [
        "# --- Count NaN values ---\n",
        "\n",
        "# To count NaNs for every column in the DataFrame\n",
        "nan_counts_per_column = df_homogenous.isnull().sum()\n",
        "print(\"\\nNumber of NaN rows for each column:\")\n",
        "print(nan_counts_per_column)\n",
        "\n",
        "# To get the total number of NaN cells in the entire DataFrame\n",
        "total_nan_count = df_homogenous.isnull().sum().sum()\n",
        "print(f\"\\nTotal number of NaN cells in the whole DataFrame: {total_nan_count}\")"
      ],
      "outputs": [
        {
          "output_type": "display_data",
          "data": {
            "application/vnd.livy.statement-meta+json": {
              "spark_pool": "sparkpoolDev",
              "statement_id": 39,
              "statement_ids": [
                39
              ],
              "state": "finished",
              "livy_statement_state": "available",
              "spark_jobs": null,
              "session_id": "60",
              "normalized_state": "finished",
              "queued_time": "2025-08-28T10:56:27.2125709Z",
              "session_start_time": null,
              "execution_start_time": "2025-08-28T11:03:01.9800319Z",
              "execution_finish_time": "2025-08-28T11:03:02.2308269Z",
              "parent_msg_id": "7ddd0691-d2a9-4c46-ad0e-46437814a5ea"
            },
            "text/plain": "StatementMeta(sparkpoolDev, 60, 39, Finished, Available, Finished)"
          },
          "metadata": {}
        },
        {
          "output_type": "stream",
          "name": "stdout",
          "text": [
            "\nNumber of NaN rows for each column:\nflow_out    10223\nflow_in     10223\ndtype: int64\n\nTotal number of NaN cells in the whole DataFrame: 20446\n"
          ]
        }
      ],
      "execution_count": 286,
      "metadata": {}
    },
    {
      "cell_type": "markdown",
      "source": [
        "Using Forward Fill to fill the gaps"
      ],
      "metadata": {}
    },
    {
      "cell_type": "code",
      "source": [
        "df_forward_filled = df_flow_schwartau.asfreq('min', method='ffill')\n",
        "print(df_forward_filled)"
      ],
      "outputs": [
        {
          "output_type": "display_data",
          "data": {
            "application/vnd.livy.statement-meta+json": {
              "spark_pool": "sparkpoolDev",
              "statement_id": 40,
              "statement_ids": [
                40
              ],
              "state": "finished",
              "livy_statement_state": "available",
              "spark_jobs": null,
              "session_id": "60",
              "normalized_state": "finished",
              "queued_time": "2025-08-28T10:56:27.3933288Z",
              "session_start_time": null,
              "execution_start_time": "2025-08-28T11:03:02.2434806Z",
              "execution_finish_time": "2025-08-28T11:03:02.4942082Z",
              "parent_msg_id": "a323f089-9ff3-4069-8d2d-bf2d3a09c224"
            },
            "text/plain": "StatementMeta(sparkpoolDev, 60, 40, Finished, Available, Finished)"
          },
          "metadata": {}
        },
        {
          "output_type": "stream",
          "name": "stdout",
          "text": [
            "                           flow_out  flow_in\ntimestamp                                   \n2017-01-01 13:15:00+00:00         0        0\n2017-01-01 13:16:00+00:00         0        0\n2017-01-01 13:17:00+00:00         0        0\n2017-01-01 13:18:00+00:00         0        0\n2017-01-01 13:19:00+00:00         0        0\n...                             ...      ...\n2019-05-31 12:11:00+00:00      -241      128\n2019-05-31 12:12:00+00:00      -226      140\n2019-05-31 12:13:00+00:00      -208      144\n2019-05-31 12:14:00+00:00      -217      146\n2019-05-31 12:15:00+00:00      -222      164\n\n[1267141 rows x 2 columns]\n"
          ]
        }
      ],
      "execution_count": 287,
      "metadata": {}
    },
    {
      "cell_type": "code",
      "source": [
        "# --- Count NaN values ---\n",
        "\n",
        "# Count NaNs for every column in the DataFrame\n",
        "nan_counts_per_column = df_forward_filled.isnull().sum()\n",
        "print(\"\\nNumber of NaN rows for each column:\")\n",
        "print(nan_counts_per_column)\n",
        "\n",
        "# Total number of NaN cells in the entire DataFrame\n",
        "total_nan_count = df_forward_filled.isnull().sum().sum()\n",
        "print(f\"\\nTotal number of NaN cells in the whole DataFrame: {total_nan_count}\")"
      ],
      "outputs": [
        {
          "output_type": "display_data",
          "data": {
            "application/vnd.livy.statement-meta+json": {
              "spark_pool": "sparkpoolDev",
              "statement_id": 41,
              "statement_ids": [
                41
              ],
              "state": "finished",
              "livy_statement_state": "available",
              "spark_jobs": null,
              "session_id": "60",
              "normalized_state": "finished",
              "queued_time": "2025-08-28T10:56:27.576022Z",
              "session_start_time": null,
              "execution_start_time": "2025-08-28T11:03:02.5083344Z",
              "execution_finish_time": "2025-08-28T11:03:02.7579168Z",
              "parent_msg_id": "bcf4029d-b375-4113-a5b5-a7e7e58efe2d"
            },
            "text/plain": "StatementMeta(sparkpoolDev, 60, 41, Finished, Available, Finished)"
          },
          "metadata": {}
        },
        {
          "output_type": "stream",
          "name": "stdout",
          "text": [
            "\nNumber of NaN rows for each column:\nflow_out    0\nflow_in     0\ndtype: int64\n\nTotal number of NaN cells in the whole DataFrame: 0\n"
          ]
        }
      ],
      "execution_count": 288,
      "metadata": {}
    },
    {
      "cell_type": "code",
      "source": [
        "df_flow_schwartau = df_forward_filled"
      ],
      "outputs": [
        {
          "output_type": "display_data",
          "data": {
            "application/vnd.livy.statement-meta+json": {
              "spark_pool": "sparkpoolDev",
              "statement_id": 42,
              "statement_ids": [
                42
              ],
              "state": "finished",
              "livy_statement_state": "available",
              "spark_jobs": null,
              "session_id": "60",
              "normalized_state": "finished",
              "queued_time": "2025-08-28T10:56:27.7252522Z",
              "session_start_time": null,
              "execution_start_time": "2025-08-28T11:03:02.7726389Z",
              "execution_finish_time": "2025-08-28T11:03:03.0861559Z",
              "parent_msg_id": "edb6961f-7938-49c2-bde7-fa411c439b18"
            },
            "text/plain": "StatementMeta(sparkpoolDev, 60, 42, Finished, Available, Finished)"
          },
          "metadata": {}
        }
      ],
      "execution_count": 289,
      "metadata": {}
    },
    {
      "cell_type": "code",
      "source": [
        "# The .reset_index() method turns the index into a column\n",
        "df_flow_schwartau.reset_index(inplace=True)"
      ],
      "outputs": [
        {
          "output_type": "display_data",
          "data": {
            "application/vnd.livy.statement-meta+json": {
              "spark_pool": "sparkpoolDev",
              "statement_id": 43,
              "statement_ids": [
                43
              ],
              "state": "finished",
              "livy_statement_state": "available",
              "spark_jobs": null,
              "session_id": "60",
              "normalized_state": "finished",
              "queued_time": "2025-08-28T10:56:27.8769522Z",
              "session_start_time": null,
              "execution_start_time": "2025-08-28T11:03:03.101122Z",
              "execution_finish_time": "2025-08-28T11:03:03.3535269Z",
              "parent_msg_id": "333df665-a029-43cb-9c0b-62458cb89773"
            },
            "text/plain": "StatementMeta(sparkpoolDev, 60, 43, Finished, Available, Finished)"
          },
          "metadata": {}
        }
      ],
      "execution_count": 290,
      "metadata": {}
    },
    {
      "cell_type": "code",
      "source": [
        "df_flow_schwartau"
      ],
      "outputs": [
        {
          "output_type": "display_data",
          "data": {
            "application/vnd.livy.statement-meta+json": {
              "spark_pool": "sparkpoolDev",
              "statement_id": 44,
              "statement_ids": [
                44
              ],
              "state": "finished",
              "livy_statement_state": "available",
              "spark_jobs": null,
              "session_id": "60",
              "normalized_state": "finished",
              "queued_time": "2025-08-28T10:56:28.0716041Z",
              "session_start_time": null,
              "execution_start_time": "2025-08-28T11:03:03.3668027Z",
              "execution_finish_time": "2025-08-28T11:03:03.6387768Z",
              "parent_msg_id": "3f8f5ea0-9d2a-465c-941c-e9b7660955b8"
            },
            "text/plain": "StatementMeta(sparkpoolDev, 60, 44, Finished, Available, Finished)"
          },
          "metadata": {}
        },
        {
          "output_type": "execute_result",
          "execution_count": 89,
          "data": {
            "text/plain": "                        timestamp  flow_out  flow_in\n0       2017-01-01 13:15:00+00:00         0        0\n1       2017-01-01 13:16:00+00:00         0        0\n2       2017-01-01 13:17:00+00:00         0        0\n3       2017-01-01 13:18:00+00:00         0        0\n4       2017-01-01 13:19:00+00:00         0        0\n...                           ...       ...      ...\n1267136 2019-05-31 12:11:00+00:00      -241      128\n1267137 2019-05-31 12:12:00+00:00      -226      140\n1267138 2019-05-31 12:13:00+00:00      -208      144\n1267139 2019-05-31 12:14:00+00:00      -217      146\n1267140 2019-05-31 12:15:00+00:00      -222      164\n\n[1267141 rows x 3 columns]",
            "text/html": "<div>\n<style scoped>\n    .dataframe tbody tr th:only-of-type {\n        vertical-align: middle;\n    }\n\n    .dataframe tbody tr th {\n        vertical-align: top;\n    }\n\n    .dataframe thead th {\n        text-align: right;\n    }\n</style>\n<table border=\"1\" class=\"dataframe\">\n  <thead>\n    <tr style=\"text-align: right;\">\n      <th></th>\n      <th>timestamp</th>\n      <th>flow_out</th>\n      <th>flow_in</th>\n    </tr>\n  </thead>\n  <tbody>\n    <tr>\n      <th>0</th>\n      <td>2017-01-01 13:15:00+00:00</td>\n      <td>0</td>\n      <td>0</td>\n    </tr>\n    <tr>\n      <th>1</th>\n      <td>2017-01-01 13:16:00+00:00</td>\n      <td>0</td>\n      <td>0</td>\n    </tr>\n    <tr>\n      <th>2</th>\n      <td>2017-01-01 13:17:00+00:00</td>\n      <td>0</td>\n      <td>0</td>\n    </tr>\n    <tr>\n      <th>3</th>\n      <td>2017-01-01 13:18:00+00:00</td>\n      <td>0</td>\n      <td>0</td>\n    </tr>\n    <tr>\n      <th>4</th>\n      <td>2017-01-01 13:19:00+00:00</td>\n      <td>0</td>\n      <td>0</td>\n    </tr>\n    <tr>\n      <th>...</th>\n      <td>...</td>\n      <td>...</td>\n      <td>...</td>\n    </tr>\n    <tr>\n      <th>1267136</th>\n      <td>2019-05-31 12:11:00+00:00</td>\n      <td>-241</td>\n      <td>128</td>\n    </tr>\n    <tr>\n      <th>1267137</th>\n      <td>2019-05-31 12:12:00+00:00</td>\n      <td>-226</td>\n      <td>140</td>\n    </tr>\n    <tr>\n      <th>1267138</th>\n      <td>2019-05-31 12:13:00+00:00</td>\n      <td>-208</td>\n      <td>144</td>\n    </tr>\n    <tr>\n      <th>1267139</th>\n      <td>2019-05-31 12:14:00+00:00</td>\n      <td>-217</td>\n      <td>146</td>\n    </tr>\n    <tr>\n      <th>1267140</th>\n      <td>2019-05-31 12:15:00+00:00</td>\n      <td>-222</td>\n      <td>164</td>\n    </tr>\n  </tbody>\n</table>\n<p>1267141 rows × 3 columns</p>\n</div>"
          },
          "metadata": {}
        }
      ],
      "execution_count": 291,
      "metadata": {}
    },
    {
      "cell_type": "code",
      "source": [
        "(df_flow_schwartau['timestamp'] - df_flow_schwartau['timestamp'].shift(1)).value_counts()"
      ],
      "outputs": [
        {
          "output_type": "display_data",
          "data": {
            "application/vnd.livy.statement-meta+json": {
              "spark_pool": "sparkpoolDev",
              "statement_id": 45,
              "statement_ids": [
                45
              ],
              "state": "finished",
              "livy_statement_state": "available",
              "spark_jobs": null,
              "session_id": "60",
              "normalized_state": "finished",
              "queued_time": "2025-08-28T10:56:29.0715346Z",
              "session_start_time": null,
              "execution_start_time": "2025-08-28T11:03:03.6523612Z",
              "execution_finish_time": "2025-08-28T11:03:03.9220698Z",
              "parent_msg_id": "8ce1a48a-1d9e-48a4-bb92-efb5713f0672"
            },
            "text/plain": "StatementMeta(sparkpoolDev, 60, 45, Finished, Available, Finished)"
          },
          "metadata": {}
        },
        {
          "output_type": "execute_result",
          "execution_count": 91,
          "data": {
            "text/plain": "0 days 00:01:00    1267140\nName: timestamp, dtype: int64"
          },
          "metadata": {}
        }
      ],
      "execution_count": 292,
      "metadata": {}
    },
    {
      "cell_type": "markdown",
      "source": [
        "<div class=\"alert alert-block alert-success\">\n",
        "<b>Fixed:</b> not arranged homogeneous\n",
        "</div>"
      ],
      "metadata": {}
    },
    {
      "cell_type": "code",
      "source": [
        "df_flow_schwartau.plot(kind=\"hist\", y=\"flow_in\")\n",
        "plt.yscale('log')"
      ],
      "outputs": [
        {
          "output_type": "display_data",
          "data": {
            "application/vnd.livy.statement-meta+json": {
              "spark_pool": "sparkpoolDev",
              "statement_id": 46,
              "statement_ids": [
                46
              ],
              "state": "finished",
              "livy_statement_state": "available",
              "spark_jobs": null,
              "session_id": "60",
              "normalized_state": "finished",
              "queued_time": "2025-08-28T10:56:30.0848555Z",
              "session_start_time": null,
              "execution_start_time": "2025-08-28T11:03:03.9356863Z",
              "execution_finish_time": "2025-08-28T11:03:04.5838007Z",
              "parent_msg_id": "a678e733-1d06-4cba-934f-5e9251e7d661"
            },
            "text/plain": "StatementMeta(sparkpoolDev, 60, 46, Finished, Available, Finished)"
          },
          "metadata": {}
        },
        {
          "output_type": "display_data",
          "data": {
            "text/plain": "<Figure size 640x480 with 1 Axes>",
            "image/png": "[encoded data removed]"
          },
          "metadata": {}
        }
      ],
      "execution_count": 293,
      "metadata": {}
    },
    {
      "cell_type": "code",
      "source": [
        "df_flow_schwartau.plot(kind=\"hist\", y=\"flow_out\")\n",
        "plt.yscale('log')"
      ],
      "outputs": [
        {
          "output_type": "display_data",
          "data": {
            "application/vnd.livy.statement-meta+json": {
              "spark_pool": "sparkpoolDev",
              "statement_id": 47,
              "statement_ids": [
                47
              ],
              "state": "finished",
              "livy_statement_state": "available",
              "spark_jobs": null,
              "session_id": "60",
              "normalized_state": "finished",
              "queued_time": "2025-08-28T10:56:31.0763582Z",
              "session_start_time": null,
              "execution_start_time": "2025-08-28T11:03:04.5968353Z",
              "execution_finish_time": "2025-08-28T11:03:05.2488835Z",
              "parent_msg_id": "c7a6c9a8-330c-43fa-85a3-a0983a619bab"
            },
            "text/plain": "StatementMeta(sparkpoolDev, 60, 47, Finished, Available, Finished)"
          },
          "metadata": {}
        },
        {
          "output_type": "display_data",
          "data": {
            "text/plain": "<Figure size 640x480 with 1 Axes>",
            "image/png": "[encoded data removed]"
          },
          "metadata": {}
        }
      ],
      "execution_count": 294,
      "metadata": {}
    },
    {
      "cell_type": "code",
      "source": [
        "df_flow_schwartau.info()"
      ],
      "outputs": [
        {
          "output_type": "display_data",
          "data": {
            "application/vnd.livy.statement-meta+json": {
              "spark_pool": "sparkpoolDev",
              "statement_id": 48,
              "statement_ids": [
                48
              ],
              "state": "finished",
              "livy_statement_state": "available",
              "spark_jobs": null,
              "session_id": "60",
              "normalized_state": "finished",
              "queued_time": "2025-08-28T10:56:32.0762239Z",
              "session_start_time": null,
              "execution_start_time": "2025-08-28T11:03:05.2647693Z",
              "execution_finish_time": "2025-08-28T11:03:05.5298568Z",
              "parent_msg_id": "ee2f4b91-1bda-42b0-afd5-13f0ab82d422"
            },
            "text/plain": "StatementMeta(sparkpoolDev, 60, 48, Finished, Available, Finished)"
          },
          "metadata": {}
        },
        {
          "output_type": "stream",
          "name": "stdout",
          "text": [
            "<class 'pandas.core.frame.DataFrame'>\nRangeIndex: 1267141 entries, 0 to 1267140\nData columns (total 3 columns):\n #   Column     Non-Null Count    Dtype              \n---  ------     --------------    -----              \n 0   timestamp  1267141 non-null  datetime64[ns, UTC]\n 1   flow_out   1267141 non-null  int32              \n 2   flow_in    1267141 non-null  int32              \ndtypes: datetime64[ns, UTC](1), int32(2)\nmemory usage: 19.3 MB\n"
          ]
        }
      ],
      "execution_count": 295,
      "metadata": {}
    },
    {
      "cell_type": "code",
      "source": [
        "df_flow_schwartau.describe()"
      ],
      "outputs": [
        {
          "output_type": "display_data",
          "data": {
            "application/vnd.livy.statement-meta+json": {
              "spark_pool": "sparkpoolDev",
              "statement_id": 49,
              "statement_ids": [
                49
              ],
              "state": "finished",
              "livy_statement_state": "available",
              "spark_jobs": null,
              "session_id": "60",
              "normalized_state": "finished",
              "queued_time": "2025-08-28T10:56:33.0806879Z",
              "session_start_time": null,
              "execution_start_time": "2025-08-28T11:03:05.5432618Z",
              "execution_finish_time": "2025-08-28T11:03:05.8089509Z",
              "parent_msg_id": "90712dbd-bd2d-44f4-ad0a-992a42f9ef32"
            },
            "text/plain": "StatementMeta(sparkpoolDev, 60, 49, Finished, Available, Finished)"
          },
          "metadata": {}
        },
        {
          "output_type": "execute_result",
          "execution_count": 99,
          "data": {
            "text/plain": "           flow_out       flow_in\ncount  1.267141e+06  1.267141e+06\nmean  -2.150669e+01  2.467830e+01\nstd    4.215851e+01  5.495324e+01\nmin   -6.310000e+02  0.000000e+00\n25%   -2.400000e+01  0.000000e+00\n50%    0.000000e+00  0.000000e+00\n75%    0.000000e+00  2.300000e+01\nmax    0.000000e+00  7.999000e+03",
            "text/html": "<div>\n<style scoped>\n    .dataframe tbody tr th:only-of-type {\n        vertical-align: middle;\n    }\n\n    .dataframe tbody tr th {\n        vertical-align: top;\n    }\n\n    .dataframe thead th {\n        text-align: right;\n    }\n</style>\n<table border=\"1\" class=\"dataframe\">\n  <thead>\n    <tr style=\"text-align: right;\">\n      <th></th>\n      <th>flow_out</th>\n      <th>flow_in</th>\n    </tr>\n  </thead>\n  <tbody>\n    <tr>\n      <th>count</th>\n      <td>1.267141e+06</td>\n      <td>1.267141e+06</td>\n    </tr>\n    <tr>\n      <th>mean</th>\n      <td>-2.150669e+01</td>\n      <td>2.467830e+01</td>\n    </tr>\n    <tr>\n      <th>std</th>\n      <td>4.215851e+01</td>\n      <td>5.495324e+01</td>\n    </tr>\n    <tr>\n      <th>min</th>\n      <td>-6.310000e+02</td>\n      <td>0.000000e+00</td>\n    </tr>\n    <tr>\n      <th>25%</th>\n      <td>-2.400000e+01</td>\n      <td>0.000000e+00</td>\n    </tr>\n    <tr>\n      <th>50%</th>\n      <td>0.000000e+00</td>\n      <td>0.000000e+00</td>\n    </tr>\n    <tr>\n      <th>75%</th>\n      <td>0.000000e+00</td>\n      <td>2.300000e+01</td>\n    </tr>\n    <tr>\n      <th>max</th>\n      <td>0.000000e+00</td>\n      <td>7.999000e+03</td>\n    </tr>\n  </tbody>\n</table>\n</div>"
          },
          "metadata": {}
        }
      ],
      "execution_count": 296,
      "metadata": {}
    },
    {
      "cell_type": "markdown",
      "source": [
        "## humi_schwartau"
      ],
      "metadata": {}
    },
    {
      "cell_type": "code",
      "source": [
        "df_humi_schwartau.info(show_counts=True)"
      ],
      "outputs": [
        {
          "output_type": "display_data",
          "data": {
            "application/vnd.livy.statement-meta+json": {
              "spark_pool": "sparkpoolDev",
              "statement_id": 50,
              "statement_ids": [
                50
              ],
              "state": "finished",
              "livy_statement_state": "available",
              "spark_jobs": null,
              "session_id": "60",
              "normalized_state": "finished",
              "queued_time": "2025-08-28T10:56:34.0815019Z",
              "session_start_time": null,
              "execution_start_time": "2025-08-28T11:03:05.8222177Z",
              "execution_finish_time": "2025-08-28T11:03:06.0800988Z",
              "parent_msg_id": "88e80d10-ac43-47f3-801c-74247e791c9d"
            },
            "text/plain": "StatementMeta(sparkpoolDev, 60, 50, Finished, Available, Finished)"
          },
          "metadata": {}
        },
        {
          "output_type": "stream",
          "name": "stdout",
          "text": [
            "<class 'pandas.core.frame.DataFrame'>\nRangeIndex: 1761 entries, 0 to 1760\nData columns (total 2 columns):\n #   Column     Non-Null Count  Dtype         \n---  ------     --------------  -----         \n 0   timestamp  1761 non-null   datetime64[ns]\n 1   humidity   1749 non-null   float64       \ndtypes: datetime64[ns](1), float64(1)\nmemory usage: 27.6 KB\n"
          ]
        }
      ],
      "execution_count": 297,
      "metadata": {}
    },
    {
      "cell_type": "code",
      "source": [
        "df_humi_schwartau.columns"
      ],
      "outputs": [
        {
          "output_type": "display_data",
          "data": {
            "application/vnd.livy.statement-meta+json": {
              "spark_pool": "sparkpoolDev",
              "statement_id": 51,
              "statement_ids": [
                51
              ],
              "state": "finished",
              "livy_statement_state": "available",
              "spark_jobs": null,
              "session_id": "60",
              "normalized_state": "finished",
              "queued_time": "2025-08-28T10:56:35.0720785Z",
              "session_start_time": null,
              "execution_start_time": "2025-08-28T11:03:06.0954796Z",
              "execution_finish_time": "2025-08-28T11:03:06.3584738Z",
              "parent_msg_id": "0de736f1-0d5b-4986-bed8-cba4779013d1"
            },
            "text/plain": "StatementMeta(sparkpoolDev, 60, 51, Finished, Available, Finished)"
          },
          "metadata": {}
        },
        {
          "output_type": "execute_result",
          "execution_count": 103,
          "data": {
            "text/plain": "Index(['timestamp', 'humidity'], dtype='object')"
          },
          "metadata": {}
        }
      ],
      "execution_count": 298,
      "metadata": {}
    },
    {
      "cell_type": "code",
      "source": [
        "df_humi_schwartau.describe()"
      ],
      "outputs": [
        {
          "output_type": "display_data",
          "data": {
            "application/vnd.livy.statement-meta+json": {
              "spark_pool": "sparkpoolDev",
              "statement_id": 52,
              "statement_ids": [
                52
              ],
              "state": "finished",
              "livy_statement_state": "available",
              "spark_jobs": null,
              "session_id": "60",
              "normalized_state": "finished",
              "queued_time": "2025-08-28T10:56:36.0716988Z",
              "session_start_time": null,
              "execution_start_time": "2025-08-28T11:03:06.373819Z",
              "execution_finish_time": "2025-08-28T11:03:06.6202233Z",
              "parent_msg_id": "369d3a9c-ee54-4a4f-80c7-24f555c9b13a"
            },
            "text/plain": "StatementMeta(sparkpoolDev, 60, 52, Finished, Available, Finished)"
          },
          "metadata": {}
        },
        {
          "output_type": "execute_result",
          "execution_count": 105,
          "data": {
            "text/plain": "          humidity\ncount  1749.000000\nmean     83.987816\nstd      26.501959\nmin    -100.000000\n25%      79.330000\n50%      91.070000\n75%      96.610000\nmax     100.000000",
            "text/html": "<div>\n<style scoped>\n    .dataframe tbody tr th:only-of-type {\n        vertical-align: middle;\n    }\n\n    .dataframe tbody tr th {\n        vertical-align: top;\n    }\n\n    .dataframe thead th {\n        text-align: right;\n    }\n</style>\n<table border=\"1\" class=\"dataframe\">\n  <thead>\n    <tr style=\"text-align: right;\">\n      <th></th>\n      <th>humidity</th>\n    </tr>\n  </thead>\n  <tbody>\n    <tr>\n      <th>count</th>\n      <td>1749.000000</td>\n    </tr>\n    <tr>\n      <th>mean</th>\n      <td>83.987816</td>\n    </tr>\n    <tr>\n      <th>std</th>\n      <td>26.501959</td>\n    </tr>\n    <tr>\n      <th>min</th>\n      <td>-100.000000</td>\n    </tr>\n    <tr>\n      <th>25%</th>\n      <td>79.330000</td>\n    </tr>\n    <tr>\n      <th>50%</th>\n      <td>91.070000</td>\n    </tr>\n    <tr>\n      <th>75%</th>\n      <td>96.610000</td>\n    </tr>\n    <tr>\n      <th>max</th>\n      <td>100.000000</td>\n    </tr>\n  </tbody>\n</table>\n</div>"
          },
          "metadata": {}
        }
      ],
      "execution_count": 299,
      "metadata": {}
    },
    {
      "cell_type": "code",
      "source": [
        "df_humi_schwartau.plot(kind=\"hist\")\n",
        "plt.yscale('log')"
      ],
      "outputs": [
        {
          "output_type": "display_data",
          "data": {
            "application/vnd.livy.statement-meta+json": {
              "spark_pool": "sparkpoolDev",
              "statement_id": 53,
              "statement_ids": [
                53
              ],
              "state": "finished",
              "livy_statement_state": "available",
              "spark_jobs": null,
              "session_id": "60",
              "normalized_state": "finished",
              "queued_time": "2025-08-28T10:56:37.0675185Z",
              "session_start_time": null,
              "execution_start_time": "2025-08-28T11:03:06.6337205Z",
              "execution_finish_time": "2025-08-28T11:03:07.2776411Z",
              "parent_msg_id": "299852d1-1b67-4272-b82e-7ffca68a97c1"
            },
            "text/plain": "StatementMeta(sparkpoolDev, 60, 53, Finished, Available, Finished)"
          },
          "metadata": {}
        },
        {
          "output_type": "display_data",
          "data": {
            "text/plain": "<Figure size 640x480 with 1 Axes>",
            "image/png": "[encoded data removed]"
          },
          "metadata": {}
        }
      ],
      "execution_count": 300,
      "metadata": {}
    },
    {
      "cell_type": "code",
      "source": [
        "df_humi_schwartau.plot(x=\"timestamp\", y=\"humidity\") # values which go below zero can be filled with ffill() or interpolate()"
      ],
      "outputs": [
        {
          "output_type": "display_data",
          "data": {
            "application/vnd.livy.statement-meta+json": {
              "spark_pool": "sparkpoolDev",
              "statement_id": 54,
              "statement_ids": [
                54
              ],
              "state": "finished",
              "livy_statement_state": "available",
              "spark_jobs": null,
              "session_id": "60",
              "normalized_state": "finished",
              "queued_time": "2025-08-28T10:56:38.0815182Z",
              "session_start_time": null,
              "execution_start_time": "2025-08-28T11:03:07.291035Z",
              "execution_finish_time": "2025-08-28T11:03:07.9361175Z",
              "parent_msg_id": "c9a6ae05-9f39-4aea-82b2-26fd501855cb"
            },
            "text/plain": "StatementMeta(sparkpoolDev, 60, 54, Finished, Available, Finished)"
          },
          "metadata": {}
        },
        {
          "output_type": "execute_result",
          "execution_count": 109,
          "data": {
            "text/plain": "<Axes: xlabel='timestamp'>"
          },
          "metadata": {}
        },
        {
          "output_type": "display_data",
          "data": {
            "text/plain": "<Figure size 640x480 with 1 Axes>",
            "image/png": "[encoded data removed]"
          },
          "metadata": {}
        }
      ],
      "execution_count": 301,
      "metadata": {}
    },
    {
      "cell_type": "markdown",
      "source": [
        "<div class=\"alert alert-block alert-warning\">\n",
        "<b>Problem:</b> humidity can't go below 0\n",
        "</div>"
      ],
      "metadata": {}
    },
    {
      "cell_type": "code",
      "source": [
        "df_humi_schwartau.isna().sum()"
      ],
      "outputs": [
        {
          "output_type": "display_data",
          "data": {
            "application/vnd.livy.statement-meta+json": {
              "spark_pool": "sparkpoolDev",
              "statement_id": 55,
              "statement_ids": [
                55
              ],
              "state": "finished",
              "livy_statement_state": "available",
              "spark_jobs": null,
              "session_id": "60",
              "normalized_state": "finished",
              "queued_time": "2025-08-28T10:56:39.0718462Z",
              "session_start_time": null,
              "execution_start_time": "2025-08-28T11:03:07.9496372Z",
              "execution_finish_time": "2025-08-28T11:03:08.1979248Z",
              "parent_msg_id": "337f3e0f-ebd6-4120-83da-592c3abe4da9"
            },
            "text/plain": "StatementMeta(sparkpoolDev, 60, 55, Finished, Available, Finished)"
          },
          "metadata": {}
        },
        {
          "output_type": "execute_result",
          "execution_count": 111,
          "data": {
            "text/plain": "timestamp     0\nhumidity     12\ndtype: int64"
          },
          "metadata": {}
        }
      ],
      "execution_count": 302,
      "metadata": {}
    },
    {
      "cell_type": "code",
      "source": [
        "# Find where humidity is less than 0\n",
        "df_humi_schwartau.loc[df_humi_schwartau[\"humidity\"] < 0]"
      ],
      "outputs": [
        {
          "output_type": "display_data",
          "data": {
            "application/vnd.livy.statement-meta+json": {
              "spark_pool": "sparkpoolDev",
              "statement_id": 56,
              "statement_ids": [
                56
              ],
              "state": "finished",
              "livy_statement_state": "available",
              "spark_jobs": null,
              "session_id": "60",
              "normalized_state": "finished",
              "queued_time": "2025-08-28T10:56:40.0718934Z",
              "session_start_time": null,
              "execution_start_time": "2025-08-28T11:03:08.2113371Z",
              "execution_finish_time": "2025-08-28T11:03:08.4653787Z",
              "parent_msg_id": "4d84fe07-7ab7-4e60-87f4-0facc2355a58"
            },
            "text/plain": "StatementMeta(sparkpoolDev, 60, 56, Finished, Available, Finished)"
          },
          "metadata": {}
        },
        {
          "output_type": "execute_result",
          "execution_count": 113,
          "data": {
            "text/plain": "              timestamp  humidity\n51  2017-01-27 01:00:00   -100.00\n52  2017-01-27 13:00:00    -82.25\n65  2017-02-03 01:00:00   -100.00\n66  2017-02-03 13:00:00   -100.00\n67  2017-02-04 01:00:00   -100.00\n68  2017-02-04 13:00:00   -100.00\n69  2017-02-05 01:00:00   -100.00\n70  2017-02-05 13:00:00   -100.00\n71  2017-02-06 01:00:00   -100.00\n72  2017-02-06 13:00:00   -100.00\n73  2017-02-07 01:00:00   -100.00\n74  2017-02-07 13:00:00   -100.00\n75  2017-02-08 01:00:00   -100.00\n76  2017-02-08 13:00:00   -100.00\n77  2017-02-09 01:00:00   -100.00\n78  2017-02-09 13:00:00   -100.00\n79  2017-02-10 01:00:00    -62.42\n80  2017-02-10 13:00:00    -98.45\n81  2017-02-11 01:00:00    -11.19\n493 2017-09-05 02:00:00    -33.33\n494 2017-09-05 14:00:00    -94.92\n505 2017-09-11 02:00:00    -48.10\n532 2017-09-24 14:00:00    -52.25\n533 2017-09-25 02:00:00    -93.45\n534 2017-09-25 14:00:00    -97.95\n535 2017-09-26 02:00:00   -100.00\n536 2017-09-26 14:00:00   -100.00\n537 2017-09-27 02:00:00    -15.61\n538 2017-09-27 14:00:00    -75.84\n539 2017-09-28 02:00:00    -99.72\n971 2018-05-02 02:00:00   -100.00",
            "text/html": "<div>\n<style scoped>\n    .dataframe tbody tr th:only-of-type {\n        vertical-align: middle;\n    }\n\n    .dataframe tbody tr th {\n        vertical-align: top;\n    }\n\n    .dataframe thead th {\n        text-align: right;\n    }\n</style>\n<table border=\"1\" class=\"dataframe\">\n  <thead>\n    <tr style=\"text-align: right;\">\n      <th></th>\n      <th>timestamp</th>\n      <th>humidity</th>\n    </tr>\n  </thead>\n  <tbody>\n    <tr>\n      <th>51</th>\n      <td>2017-01-27 01:00:00</td>\n      <td>-100.00</td>\n    </tr>\n    <tr>\n      <th>52</th>\n      <td>2017-01-27 13:00:00</td>\n      <td>-82.25</td>\n    </tr>\n    <tr>\n      <th>65</th>\n      <td>2017-02-03 01:00:00</td>\n      <td>-100.00</td>\n    </tr>\n    <tr>\n      <th>66</th>\n      <td>2017-02-03 13:00:00</td>\n      <td>-100.00</td>\n    </tr>\n    <tr>\n      <th>67</th>\n      <td>2017-02-04 01:00:00</td>\n      <td>-100.00</td>\n    </tr>\n    <tr>\n      <th>68</th>\n      <td>2017-02-04 13:00:00</td>\n      <td>-100.00</td>\n    </tr>\n    <tr>\n      <th>69</th>\n      <td>2017-02-05 01:00:00</td>\n      <td>-100.00</td>\n    </tr>\n    <tr>\n      <th>70</th>\n      <td>2017-02-05 13:00:00</td>\n      <td>-100.00</td>\n    </tr>\n    <tr>\n      <th>71</th>\n      <td>2017-02-06 01:00:00</td>\n      <td>-100.00</td>\n    </tr>\n    <tr>\n      <th>72</th>\n      <td>2017-02-06 13:00:00</td>\n      <td>-100.00</td>\n    </tr>\n    <tr>\n      <th>73</th>\n      <td>2017-02-07 01:00:00</td>\n      <td>-100.00</td>\n    </tr>\n    <tr>\n      <th>74</th>\n      <td>2017-02-07 13:00:00</td>\n      <td>-100.00</td>\n    </tr>\n    <tr>\n      <th>75</th>\n      <td>2017-02-08 01:00:00</td>\n      <td>-100.00</td>\n    </tr>\n    <tr>\n      <th>76</th>\n      <td>2017-02-08 13:00:00</td>\n      <td>-100.00</td>\n    </tr>\n    <tr>\n      <th>77</th>\n      <td>2017-02-09 01:00:00</td>\n      <td>-100.00</td>\n    </tr>\n    <tr>\n      <th>78</th>\n      <td>2017-02-09 13:00:00</td>\n      <td>-100.00</td>\n    </tr>\n    <tr>\n      <th>79</th>\n      <td>2017-02-10 01:00:00</td>\n      <td>-62.42</td>\n    </tr>\n    <tr>\n      <th>80</th>\n      <td>2017-02-10 13:00:00</td>\n      <td>-98.45</td>\n    </tr>\n    <tr>\n      <th>81</th>\n      <td>2017-02-11 01:00:00</td>\n      <td>-11.19</td>\n    </tr>\n    <tr>\n      <th>493</th>\n      <td>2017-09-05 02:00:00</td>\n      <td>-33.33</td>\n    </tr>\n    <tr>\n      <th>494</th>\n      <td>2017-09-05 14:00:00</td>\n      <td>-94.92</td>\n    </tr>\n    <tr>\n      <th>505</th>\n      <td>2017-09-11 02:00:00</td>\n      <td>-48.10</td>\n    </tr>\n    <tr>\n      <th>532</th>\n      <td>2017-09-24 14:00:00</td>\n      <td>-52.25</td>\n    </tr>\n    <tr>\n      <th>533</th>\n      <td>2017-09-25 02:00:00</td>\n      <td>-93.45</td>\n    </tr>\n    <tr>\n      <th>534</th>\n      <td>2017-09-25 14:00:00</td>\n      <td>-97.95</td>\n    </tr>\n    <tr>\n      <th>535</th>\n      <td>2017-09-26 02:00:00</td>\n      <td>-100.00</td>\n    </tr>\n    <tr>\n      <th>536</th>\n      <td>2017-09-26 14:00:00</td>\n      <td>-100.00</td>\n    </tr>\n    <tr>\n      <th>537</th>\n      <td>2017-09-27 02:00:00</td>\n      <td>-15.61</td>\n    </tr>\n    <tr>\n      <th>538</th>\n      <td>2017-09-27 14:00:00</td>\n      <td>-75.84</td>\n    </tr>\n    <tr>\n      <th>539</th>\n      <td>2017-09-28 02:00:00</td>\n      <td>-99.72</td>\n    </tr>\n    <tr>\n      <th>971</th>\n      <td>2018-05-02 02:00:00</td>\n      <td>-100.00</td>\n    </tr>\n  </tbody>\n</table>\n</div>"
          },
          "metadata": {}
        }
      ],
      "execution_count": 303,
      "metadata": {}
    },
    {
      "cell_type": "code",
      "source": [
        "# Set that value to NaN\n",
        "df_humi_schwartau.loc[df_humi_schwartau['humidity'] < 0, 'humidity'] = np.nan\n",
        "\n",
        "df_humi_schwartau.loc[df_humi_schwartau[\"humidity\"] < 0].count()"
      ],
      "outputs": [
        {
          "output_type": "display_data",
          "data": {
            "application/vnd.livy.statement-meta+json": {
              "spark_pool": "sparkpoolDev",
              "statement_id": 57,
              "statement_ids": [
                57
              ],
              "state": "finished",
              "livy_statement_state": "available",
              "spark_jobs": null,
              "session_id": "60",
              "normalized_state": "finished",
              "queued_time": "2025-08-28T10:56:41.0675531Z",
              "session_start_time": null,
              "execution_start_time": "2025-08-28T11:03:08.4787717Z",
              "execution_finish_time": "2025-08-28T11:03:08.7289021Z",
              "parent_msg_id": "26679667-0f73-4404-a234-333c20f3e2ea"
            },
            "text/plain": "StatementMeta(sparkpoolDev, 60, 57, Finished, Available, Finished)"
          },
          "metadata": {}
        },
        {
          "output_type": "execute_result",
          "execution_count": 115,
          "data": {
            "text/plain": "timestamp    0\nhumidity     0\ndtype: int64"
          },
          "metadata": {}
        }
      ],
      "execution_count": 304,
      "metadata": {}
    },
    {
      "cell_type": "code",
      "source": [
        "df_humi_schwartau.isnull().sum()"
      ],
      "outputs": [
        {
          "output_type": "display_data",
          "data": {
            "application/vnd.livy.statement-meta+json": {
              "spark_pool": "sparkpoolDev",
              "statement_id": 58,
              "statement_ids": [
                58
              ],
              "state": "finished",
              "livy_statement_state": "available",
              "spark_jobs": null,
              "session_id": "60",
              "normalized_state": "finished",
              "queued_time": "2025-08-28T10:56:42.0810161Z",
              "session_start_time": null,
              "execution_start_time": "2025-08-28T11:03:08.7442485Z",
              "execution_finish_time": "2025-08-28T11:03:08.9918276Z",
              "parent_msg_id": "c97c538f-1171-4625-8619-5a08f714afef"
            },
            "text/plain": "StatementMeta(sparkpoolDev, 60, 58, Finished, Available, Finished)"
          },
          "metadata": {}
        },
        {
          "output_type": "execute_result",
          "execution_count": 117,
          "data": {
            "text/plain": "timestamp     0\nhumidity     43\ndtype: int64"
          },
          "metadata": {}
        }
      ],
      "execution_count": 305,
      "metadata": {}
    },
    {
      "cell_type": "markdown",
      "source": [
        "<div class=\"alert alert-block alert-warning\">\n",
        "<b>Problem:</b> humidity has null values\n",
        "</div>"
      ],
      "metadata": {}
    },
    {
      "cell_type": "code",
      "source": [
        "df_humi_schwartau[\"humidity\"]=df_humi_schwartau[\"humidity\"].interpolate()\n",
        "df_humi_schwartau.isnull().sum()"
      ],
      "outputs": [
        {
          "output_type": "display_data",
          "data": {
            "application/vnd.livy.statement-meta+json": {
              "spark_pool": "sparkpoolDev",
              "statement_id": 59,
              "statement_ids": [
                59
              ],
              "state": "finished",
              "livy_statement_state": "available",
              "spark_jobs": null,
              "session_id": "60",
              "normalized_state": "finished",
              "queued_time": "2025-08-28T10:56:43.0758535Z",
              "session_start_time": null,
              "execution_start_time": "2025-08-28T11:03:09.0101682Z",
              "execution_finish_time": "2025-08-28T11:03:09.2757246Z",
              "parent_msg_id": "6a7f0a7b-1831-4407-95c4-b466c66c9e82"
            },
            "text/plain": "StatementMeta(sparkpoolDev, 60, 59, Finished, Available, Finished)"
          },
          "metadata": {}
        },
        {
          "output_type": "execute_result",
          "execution_count": 119,
          "data": {
            "text/plain": "timestamp    0\nhumidity     0\ndtype: int64"
          },
          "metadata": {}
        }
      ],
      "execution_count": 306,
      "metadata": {}
    },
    {
      "cell_type": "markdown",
      "source": [
        "<div class=\"alert alert-block alert-success\">\n",
        "<b>Fixed:</b> humidity values below 0 and null values\n",
        "</div>"
      ],
      "metadata": {}
    },
    {
      "cell_type": "code",
      "source": [
        "df_humi_schwartau.plot(x=\"timestamp\", y=\"humidity\") # There are still some outliers. But we don't got values under 0 anymore."
      ],
      "outputs": [
        {
          "output_type": "display_data",
          "data": {
            "application/vnd.livy.statement-meta+json": {
              "spark_pool": "sparkpoolDev",
              "statement_id": 60,
              "statement_ids": [
                60
              ],
              "state": "finished",
              "livy_statement_state": "available",
              "spark_jobs": null,
              "session_id": "60",
              "normalized_state": "finished",
              "queued_time": "2025-08-28T10:56:44.0760587Z",
              "session_start_time": null,
              "execution_start_time": "2025-08-28T11:03:09.2896218Z",
              "execution_finish_time": "2025-08-28T11:03:09.9374179Z",
              "parent_msg_id": "0cad97d5-8214-4fee-9992-3695de161f61"
            },
            "text/plain": "StatementMeta(sparkpoolDev, 60, 60, Finished, Available, Finished)"
          },
          "metadata": {}
        },
        {
          "output_type": "execute_result",
          "execution_count": 121,
          "data": {
            "text/plain": "<Axes: xlabel='timestamp'>"
          },
          "metadata": {}
        },
        {
          "output_type": "display_data",
          "data": {
            "text/plain": "<Figure size 640x480 with 1 Axes>",
            "image/png": "[encoded data removed]"
          },
          "metadata": {}
        }
      ],
      "execution_count": 307,
      "metadata": {}
    },
    {
      "cell_type": "markdown",
      "source": [
        "<div class=\"alert alert-block alert-warning\">\n",
        "<b>Problem:</b> Outliers in humidity df\n",
        "</div>"
      ],
      "metadata": {}
    },
    {
      "cell_type": "code",
      "source": [
        "df_humi_schwartau.duplicated().sum()"
      ],
      "outputs": [
        {
          "output_type": "display_data",
          "data": {
            "application/vnd.livy.statement-meta+json": {
              "spark_pool": "sparkpoolDev",
              "statement_id": 61,
              "statement_ids": [
                61
              ],
              "state": "finished",
              "livy_statement_state": "available",
              "spark_jobs": null,
              "session_id": "60",
              "normalized_state": "finished",
              "queued_time": "2025-08-28T10:56:45.0765754Z",
              "session_start_time": null,
              "execution_start_time": "2025-08-28T11:03:09.9522087Z",
              "execution_finish_time": "2025-08-28T11:03:10.1969959Z",
              "parent_msg_id": "13097040-65c4-4f99-8dae-c78e56d90e26"
            },
            "text/plain": "StatementMeta(sparkpoolDev, 60, 61, Finished, Available, Finished)"
          },
          "metadata": {}
        },
        {
          "output_type": "execute_result",
          "execution_count": 123,
          "data": {
            "text/plain": "0"
          },
          "metadata": {}
        }
      ],
      "execution_count": 308,
      "metadata": {}
    },
    {
      "cell_type": "code",
      "source": [
        "(df_humi_schwartau['timestamp'] - df_humi_schwartau['timestamp'].shift(1)).unique()"
      ],
      "outputs": [
        {
          "output_type": "display_data",
          "data": {
            "application/vnd.livy.statement-meta+json": {
              "spark_pool": "sparkpoolDev",
              "statement_id": 62,
              "statement_ids": [
                62
              ],
              "state": "finished",
              "livy_statement_state": "available",
              "spark_jobs": null,
              "session_id": "60",
              "normalized_state": "finished",
              "queued_time": "2025-08-28T10:56:46.0821652Z",
              "session_start_time": null,
              "execution_start_time": "2025-08-28T11:03:10.2100926Z",
              "execution_finish_time": "2025-08-28T11:03:10.4668614Z",
              "parent_msg_id": "544fb514-3b89-4e78-bca1-2476b1af7e5b"
            },
            "text/plain": "StatementMeta(sparkpoolDev, 60, 62, Finished, Available, Finished)"
          },
          "metadata": {}
        },
        {
          "output_type": "execute_result",
          "execution_count": 125,
          "data": {
            "text/plain": "array([         'NaT', 43200000000000, 46800000000000, 39600000000000],\n      dtype='timedelta64[ns]')"
          },
          "metadata": {}
        }
      ],
      "execution_count": 309,
      "metadata": {}
    },
    {
      "cell_type": "code",
      "source": [
        "(df_humi_schwartau['timestamp'] - df_humi_schwartau['timestamp'].shift(1)).value_counts()"
      ],
      "outputs": [
        {
          "output_type": "display_data",
          "data": {
            "application/vnd.livy.statement-meta+json": {
              "spark_pool": "sparkpoolDev",
              "statement_id": 63,
              "statement_ids": [
                63
              ],
              "state": "finished",
              "livy_statement_state": "available",
              "spark_jobs": null,
              "session_id": "60",
              "normalized_state": "finished",
              "queued_time": "2025-08-28T10:56:47.0760738Z",
              "session_start_time": null,
              "execution_start_time": "2025-08-28T11:03:10.4797703Z",
              "execution_finish_time": "2025-08-28T11:03:10.7296561Z",
              "parent_msg_id": "9b75eb8e-95ea-418a-8bf6-67cae9f22998"
            },
            "text/plain": "StatementMeta(sparkpoolDev, 60, 63, Finished, Available, Finished)"
          },
          "metadata": {}
        },
        {
          "output_type": "execute_result",
          "execution_count": 127,
          "data": {
            "text/plain": "0 days 12:00:00    1755\n0 days 13:00:00       3\n0 days 11:00:00       2\nName: timestamp, dtype: int64"
          },
          "metadata": {}
        }
      ],
      "execution_count": 310,
      "metadata": {}
    },
    {
      "cell_type": "markdown",
      "source": [
        "<div class=\"alert alert-block alert-warning\">\n",
        "<b>Problem:</b> not arranged homogeneous\n",
        "</div>"
      ],
      "metadata": {}
    },
    {
      "cell_type": "code",
      "source": [
        "df_humi_schwartau['timestamp']"
      ],
      "outputs": [
        {
          "output_type": "display_data",
          "data": {
            "application/vnd.livy.statement-meta+json": {
              "spark_pool": "sparkpoolDev",
              "statement_id": 64,
              "statement_ids": [
                64
              ],
              "state": "finished",
              "livy_statement_state": "available",
              "spark_jobs": null,
              "session_id": "60",
              "normalized_state": "finished",
              "queued_time": "2025-08-28T10:56:48.080411Z",
              "session_start_time": null,
              "execution_start_time": "2025-08-28T11:03:10.7442865Z",
              "execution_finish_time": "2025-08-28T11:03:11.1536573Z",
              "parent_msg_id": "c42690cf-9301-4730-a7dd-37a2f7f4043f"
            },
            "text/plain": "StatementMeta(sparkpoolDev, 60, 64, Finished, Available, Finished)"
          },
          "metadata": {}
        },
        {
          "output_type": "execute_result",
          "execution_count": 129,
          "data": {
            "text/plain": "0      2017-01-01 13:00:00\n1      2017-01-02 01:00:00\n2      2017-01-02 13:00:00\n3      2017-01-03 01:00:00\n4      2017-01-03 13:00:00\n               ...        \n1756   2019-05-29 14:00:00\n1757   2019-05-30 02:00:00\n1758   2019-05-30 14:00:00\n1759   2019-05-31 02:00:00\n1760   2019-05-31 14:00:00\nName: timestamp, Length: 1761, dtype: datetime64[ns]"
          },
          "metadata": {}
        }
      ],
      "execution_count": 311,
      "metadata": {}
    },
    {
      "cell_type": "code",
      "source": [
        "#In Germany, Daylight Saving Time (DST) ended on:\n",
        "\n",
        "#🗓 Sunday, October 29, 2017\n",
        "#🕓 At 03:00 AM, clocks were set back to 02:00 AM\n",
        "\n",
        "#There were two different 02:00:00 timestamps on that day:\n",
        "#2017-10-29 02:00:00+02:00 -> DST (CEST, UTC+2) -> Before clock change\n",
        "#2017-10-29 02:00:00+01:00 -> Standard Time (CET, UTC+1) -> After clock change"
      ],
      "outputs": [
        {
          "output_type": "display_data",
          "data": {
            "application/vnd.livy.statement-meta+json": {
              "spark_pool": "sparkpoolDev",
              "statement_id": 65,
              "statement_ids": [
                65
              ],
              "state": "finished",
              "livy_statement_state": "available",
              "spark_jobs": null,
              "session_id": "60",
              "normalized_state": "finished",
              "queued_time": "2025-08-28T10:56:49.0978502Z",
              "session_start_time": null,
              "execution_start_time": "2025-08-28T11:03:11.1675042Z",
              "execution_finish_time": "2025-08-28T11:03:11.4352802Z",
              "parent_msg_id": "2b6ea9d4-6b5c-43f2-aae8-84f13ecd59f6"
            },
            "text/plain": "StatementMeta(sparkpoolDev, 60, 65, Finished, Available, Finished)"
          },
          "metadata": {}
        }
      ],
      "execution_count": 312,
      "metadata": {}
    },
    {
      "cell_type": "markdown",
      "source": [
        "<div class=\"alert alert-block alert-warning\">\n",
        "<b>Problem:</b> AmbiguousTimeError: 2017-10-29 02:00:00\n",
        "</div>"
      ],
      "metadata": {}
    },
    {
      "cell_type": "code",
      "source": [
        "# Ensure the DataFrame is sorted first\n",
        "df_humi_schwartau = df_humi_schwartau.sort_values(by='timestamp').reset_index(drop=True)\n",
        "\n",
        "# --- The Key Step: Assign the result back to the column ---\n",
        "print(\"Localizing and converting timestamps...\")\n",
        "df_humi_schwartau['timestamp'] = df_humi_schwartau['timestamp'].dt.tz_localize(\n",
        "    'Europe/Berlin',\n",
        "    ambiguous='NaT',\n",
        "    nonexistent='NaT'\n",
        ").dt.tz_convert('UTC')\n",
        "print(\"Operation complete.\")\n",
        "\n",
        "print(\"\\nVerifying the new data type:\")\n",
        "print(df_humi_schwartau['timestamp'].dtype)"
      ],
      "outputs": [
        {
          "output_type": "display_data",
          "data": {
            "application/vnd.livy.statement-meta+json": {
              "spark_pool": "sparkpoolDev",
              "statement_id": 66,
              "statement_ids": [
                66
              ],
              "state": "finished",
              "livy_statement_state": "available",
              "spark_jobs": null,
              "session_id": "60",
              "normalized_state": "finished",
              "queued_time": "2025-08-28T10:56:50.0805162Z",
              "session_start_time": null,
              "execution_start_time": "2025-08-28T11:03:11.4489843Z",
              "execution_finish_time": "2025-08-28T11:03:11.7017737Z",
              "parent_msg_id": "0a116cc7-66c4-4f3a-9a5c-6ac34b77d13f"
            },
            "text/plain": "StatementMeta(sparkpoolDev, 60, 66, Finished, Available, Finished)"
          },
          "metadata": {}
        },
        {
          "output_type": "stream",
          "name": "stdout",
          "text": [
            "Localizing and converting timestamps...\nOperation complete.\n\nVerifying the new data type:\ndatetime64[ns, UTC]\n"
          ]
        }
      ],
      "execution_count": 313,
      "metadata": {}
    },
    {
      "cell_type": "code",
      "source": [
        "print(f\"Number of NaT values to fix: {df_humi_schwartau['timestamp'].isnull().sum()}\")"
      ],
      "outputs": [
        {
          "output_type": "display_data",
          "data": {
            "application/vnd.livy.statement-meta+json": {
              "spark_pool": "sparkpoolDev",
              "statement_id": 67,
              "statement_ids": [
                67
              ],
              "state": "finished",
              "livy_statement_state": "available",
              "spark_jobs": null,
              "session_id": "60",
              "normalized_state": "finished",
              "queued_time": "2025-08-28T10:56:51.0813278Z",
              "session_start_time": null,
              "execution_start_time": "2025-08-28T11:03:11.716644Z",
              "execution_finish_time": "2025-08-28T11:03:11.9794477Z",
              "parent_msg_id": "0cd67ca9-a1be-412f-807c-b640c230af90"
            },
            "text/plain": "StatementMeta(sparkpoolDev, 60, 67, Finished, Available, Finished)"
          },
          "metadata": {}
        },
        {
          "output_type": "stream",
          "name": "stdout",
          "text": [
            "Number of NaT values to fix: 2\n"
          ]
        }
      ],
      "execution_count": 314,
      "metadata": {}
    },
    {
      "cell_type": "code",
      "source": [
        "# 1. Sort the DataFrame by its index to ensure correct row order.\n",
        "#    Interpolation depends on the previous and next rows being correct.\n",
        "df_humi_schwartau.sort_index(inplace=True)\n",
        "\n",
        "# 2. Create the numeric series from the timestamp column.\n",
        "#    NaT becomes a large negative integer here.\n",
        "numeric_ts = df_humi_schwartau['timestamp'].astype('int64')\n",
        "\n",
        "# 3. Replace the integer representation of NaT with a standard NaN.\n",
        "#    The interpolate() function is designed to work with np.nan.\n",
        "numeric_ts.replace(pd.NaT.value, np.nan, inplace=True)\n",
        "\n",
        "# 4. Interpolate the numeric series.\n",
        "numeric_ts.interpolate(inplace=True)\n",
        "\n",
        "# 5. Convert the interpolated numeric values back to a UTC datetime format.\n",
        "df_humi_schwartau['timestamp'] = pd.to_datetime(numeric_ts.astype('int64'), utc=True)\n",
        "\n",
        "print(\"Value at index 601:\")\n",
        "print(df_humi_schwartau.loc[601])\n",
        "\n",
        "print(\"\\nDataFrame around the previously missing value:\")\n",
        "print(df_humi_schwartau.loc[600:602])"
      ],
      "outputs": [
        {
          "output_type": "display_data",
          "data": {
            "application/vnd.livy.statement-meta+json": {
              "spark_pool": "sparkpoolDev",
              "statement_id": 68,
              "statement_ids": [
                68
              ],
              "state": "finished",
              "livy_statement_state": "available",
              "spark_jobs": null,
              "session_id": "60",
              "normalized_state": "finished",
              "queued_time": "2025-08-28T10:56:52.0727134Z",
              "session_start_time": null,
              "execution_start_time": "2025-08-28T11:03:11.993531Z",
              "execution_finish_time": "2025-08-28T11:03:12.2469779Z",
              "parent_msg_id": "054882aa-4532-493b-a8be-c3e70cbaedfb"
            },
            "text/plain": "StatementMeta(sparkpoolDev, 60, 68, Finished, Available, Finished)"
          },
          "metadata": {}
        },
        {
          "output_type": "stream",
          "name": "stdout",
          "text": [
            "Value at index 601:\ntimestamp    2017-10-29 00:00:00+00:00\nhumidity                         93.11\nName: 601, dtype: object\n\nDataFrame around the previously missing value:\n                    timestamp  humidity\n600 2017-10-28 12:00:00+00:00     92.81\n601 2017-10-29 00:00:00+00:00     93.11\n602 2017-10-29 12:00:00+00:00     93.30\n"
          ]
        }
      ],
      "execution_count": 315,
      "metadata": {}
    },
    {
      "cell_type": "code",
      "source": [
        "df_humi_schwartau.loc[595:605]"
      ],
      "outputs": [
        {
          "output_type": "display_data",
          "data": {
            "application/vnd.livy.statement-meta+json": {
              "spark_pool": "sparkpoolDev",
              "statement_id": 69,
              "statement_ids": [
                69
              ],
              "state": "finished",
              "livy_statement_state": "available",
              "spark_jobs": null,
              "session_id": "60",
              "normalized_state": "finished",
              "queued_time": "2025-08-28T10:56:53.0765293Z",
              "session_start_time": null,
              "execution_start_time": "2025-08-28T11:03:12.2629348Z",
              "execution_finish_time": "2025-08-28T11:03:12.5092174Z",
              "parent_msg_id": "20600d99-75af-4f98-a32f-e01b704488ba"
            },
            "text/plain": "StatementMeta(sparkpoolDev, 60, 69, Finished, Available, Finished)"
          },
          "metadata": {}
        },
        {
          "output_type": "execute_result",
          "execution_count": 139,
          "data": {
            "text/plain": "                    timestamp  humidity\n595 2017-10-26 00:00:00+00:00     94.75\n596 2017-10-26 12:00:00+00:00     94.20\n597 2017-10-27 00:00:00+00:00     94.45\n598 2017-10-27 12:00:00+00:00     93.94\n599 2017-10-28 00:00:00+00:00     92.78\n600 2017-10-28 12:00:00+00:00     92.81\n601 2017-10-29 00:00:00+00:00     93.11\n602 2017-10-29 12:00:00+00:00     93.30\n603 2017-10-30 00:00:00+00:00     93.50\n604 2017-10-30 12:00:00+00:00     91.68\n605 2017-10-31 00:00:00+00:00     90.23",
            "text/html": "<div>\n<style scoped>\n    .dataframe tbody tr th:only-of-type {\n        vertical-align: middle;\n    }\n\n    .dataframe tbody tr th {\n        vertical-align: top;\n    }\n\n    .dataframe thead th {\n        text-align: right;\n    }\n</style>\n<table border=\"1\" class=\"dataframe\">\n  <thead>\n    <tr style=\"text-align: right;\">\n      <th></th>\n      <th>timestamp</th>\n      <th>humidity</th>\n    </tr>\n  </thead>\n  <tbody>\n    <tr>\n      <th>595</th>\n      <td>2017-10-26 00:00:00+00:00</td>\n      <td>94.75</td>\n    </tr>\n    <tr>\n      <th>596</th>\n      <td>2017-10-26 12:00:00+00:00</td>\n      <td>94.20</td>\n    </tr>\n    <tr>\n      <th>597</th>\n      <td>2017-10-27 00:00:00+00:00</td>\n      <td>94.45</td>\n    </tr>\n    <tr>\n      <th>598</th>\n      <td>2017-10-27 12:00:00+00:00</td>\n      <td>93.94</td>\n    </tr>\n    <tr>\n      <th>599</th>\n      <td>2017-10-28 00:00:00+00:00</td>\n      <td>92.78</td>\n    </tr>\n    <tr>\n      <th>600</th>\n      <td>2017-10-28 12:00:00+00:00</td>\n      <td>92.81</td>\n    </tr>\n    <tr>\n      <th>601</th>\n      <td>2017-10-29 00:00:00+00:00</td>\n      <td>93.11</td>\n    </tr>\n    <tr>\n      <th>602</th>\n      <td>2017-10-29 12:00:00+00:00</td>\n      <td>93.30</td>\n    </tr>\n    <tr>\n      <th>603</th>\n      <td>2017-10-30 00:00:00+00:00</td>\n      <td>93.50</td>\n    </tr>\n    <tr>\n      <th>604</th>\n      <td>2017-10-30 12:00:00+00:00</td>\n      <td>91.68</td>\n    </tr>\n    <tr>\n      <th>605</th>\n      <td>2017-10-31 00:00:00+00:00</td>\n      <td>90.23</td>\n    </tr>\n  </tbody>\n</table>\n</div>"
          },
          "metadata": {}
        }
      ],
      "execution_count": 316,
      "metadata": {}
    },
    {
      "cell_type": "code",
      "source": [
        "# 1. Set your clean timestamp column as the index of the DataFrame\n",
        "df_humi_schwartau = df_humi_schwartau.set_index('timestamp')\n",
        "\n",
        "# 2. Resample the DataFrame to a 12-hour ('12H') frequency.\n",
        "#    We must tell pandas how to aggregate the other data columns. '.mean()' is common.\n",
        "#    You could also use .first(), .last(), .sum(), etc. depending on your data.\n",
        "df_final_humi = df_humi_schwartau.resample('12h').mean()\n",
        "\n",
        "# 3. (Optional) Reset the index if you want 'timestamp' back as a column\n",
        "df_final_humi = df_final_humi.reset_index()"
      ],
      "outputs": [
        {
          "output_type": "display_data",
          "data": {
            "application/vnd.livy.statement-meta+json": {
              "spark_pool": "sparkpoolDev",
              "statement_id": 70,
              "statement_ids": [
                70
              ],
              "state": "finished",
              "livy_statement_state": "available",
              "spark_jobs": null,
              "session_id": "60",
              "normalized_state": "finished",
              "queued_time": "2025-08-28T10:56:54.0823617Z",
              "session_start_time": null,
              "execution_start_time": "2025-08-28T11:03:12.5271925Z",
              "execution_finish_time": "2025-08-28T11:03:12.7740697Z",
              "parent_msg_id": "a1b00642-3faf-48b5-aa70-68c9997cbe2f"
            },
            "text/plain": "StatementMeta(sparkpoolDev, 60, 70, Finished, Available, Finished)"
          },
          "metadata": {}
        }
      ],
      "execution_count": 317,
      "metadata": {}
    },
    {
      "cell_type": "code",
      "source": [
        "(df_final_humi['timestamp'] - df_final_humi['timestamp'].shift(1)).value_counts()"
      ],
      "outputs": [
        {
          "output_type": "display_data",
          "data": {
            "application/vnd.livy.statement-meta+json": {
              "spark_pool": "sparkpoolDev",
              "statement_id": 71,
              "statement_ids": [
                71
              ],
              "state": "finished",
              "livy_statement_state": "available",
              "spark_jobs": null,
              "session_id": "60",
              "normalized_state": "finished",
              "queued_time": "2025-08-28T10:56:55.0811642Z",
              "session_start_time": null,
              "execution_start_time": "2025-08-28T11:03:12.7868326Z",
              "execution_finish_time": "2025-08-28T11:03:13.0374365Z",
              "parent_msg_id": "6916eb82-aea2-4c44-9c91-95f415dc6da6"
            },
            "text/plain": "StatementMeta(sparkpoolDev, 60, 71, Finished, Available, Finished)"
          },
          "metadata": {}
        },
        {
          "output_type": "execute_result",
          "execution_count": 143,
          "data": {
            "text/plain": "0 days 12:00:00    1760\nName: timestamp, dtype: int64"
          },
          "metadata": {}
        }
      ],
      "execution_count": 318,
      "metadata": {}
    },
    {
      "cell_type": "code",
      "source": [
        "df_final_humi.loc[595:605]"
      ],
      "outputs": [
        {
          "output_type": "display_data",
          "data": {
            "application/vnd.livy.statement-meta+json": {
              "spark_pool": "sparkpoolDev",
              "statement_id": 72,
              "statement_ids": [
                72
              ],
              "state": "finished",
              "livy_statement_state": "available",
              "spark_jobs": null,
              "session_id": "60",
              "normalized_state": "finished",
              "queued_time": "2025-08-28T10:57:04.089729Z",
              "session_start_time": null,
              "execution_start_time": "2025-08-28T11:03:13.0518338Z",
              "execution_finish_time": "2025-08-28T11:03:13.3059082Z",
              "parent_msg_id": "a2196bf2-c913-4298-a885-04a477a5bc0e"
            },
            "text/plain": "StatementMeta(sparkpoolDev, 60, 72, Finished, Available, Finished)"
          },
          "metadata": {}
        },
        {
          "output_type": "execute_result",
          "execution_count": 145,
          "data": {
            "text/plain": "                    timestamp  humidity\n595 2017-10-26 00:00:00+00:00     94.75\n596 2017-10-26 12:00:00+00:00     94.20\n597 2017-10-27 00:00:00+00:00     94.45\n598 2017-10-27 12:00:00+00:00     93.94\n599 2017-10-28 00:00:00+00:00     92.78\n600 2017-10-28 12:00:00+00:00     92.81\n601 2017-10-29 00:00:00+00:00     93.11\n602 2017-10-29 12:00:00+00:00     93.30\n603 2017-10-30 00:00:00+00:00     93.50\n604 2017-10-30 12:00:00+00:00     91.68\n605 2017-10-31 00:00:00+00:00     90.23",
            "text/html": "<div>\n<style scoped>\n    .dataframe tbody tr th:only-of-type {\n        vertical-align: middle;\n    }\n\n    .dataframe tbody tr th {\n        vertical-align: top;\n    }\n\n    .dataframe thead th {\n        text-align: right;\n    }\n</style>\n<table border=\"1\" class=\"dataframe\">\n  <thead>\n    <tr style=\"text-align: right;\">\n      <th></th>\n      <th>timestamp</th>\n      <th>humidity</th>\n    </tr>\n  </thead>\n  <tbody>\n    <tr>\n      <th>595</th>\n      <td>2017-10-26 00:00:00+00:00</td>\n      <td>94.75</td>\n    </tr>\n    <tr>\n      <th>596</th>\n      <td>2017-10-26 12:00:00+00:00</td>\n      <td>94.20</td>\n    </tr>\n    <tr>\n      <th>597</th>\n      <td>2017-10-27 00:00:00+00:00</td>\n      <td>94.45</td>\n    </tr>\n    <tr>\n      <th>598</th>\n      <td>2017-10-27 12:00:00+00:00</td>\n      <td>93.94</td>\n    </tr>\n    <tr>\n      <th>599</th>\n      <td>2017-10-28 00:00:00+00:00</td>\n      <td>92.78</td>\n    </tr>\n    <tr>\n      <th>600</th>\n      <td>2017-10-28 12:00:00+00:00</td>\n      <td>92.81</td>\n    </tr>\n    <tr>\n      <th>601</th>\n      <td>2017-10-29 00:00:00+00:00</td>\n      <td>93.11</td>\n    </tr>\n    <tr>\n      <th>602</th>\n      <td>2017-10-29 12:00:00+00:00</td>\n      <td>93.30</td>\n    </tr>\n    <tr>\n      <th>603</th>\n      <td>2017-10-30 00:00:00+00:00</td>\n      <td>93.50</td>\n    </tr>\n    <tr>\n      <th>604</th>\n      <td>2017-10-30 12:00:00+00:00</td>\n      <td>91.68</td>\n    </tr>\n    <tr>\n      <th>605</th>\n      <td>2017-10-31 00:00:00+00:00</td>\n      <td>90.23</td>\n    </tr>\n  </tbody>\n</table>\n</div>"
          },
          "metadata": {}
        }
      ],
      "execution_count": 319,
      "metadata": {}
    },
    {
      "cell_type": "code",
      "source": [
        "df_humi_schwartau = df_final_humi"
      ],
      "outputs": [
        {
          "output_type": "display_data",
          "data": {
            "application/vnd.livy.statement-meta+json": {
              "spark_pool": "sparkpoolDev",
              "statement_id": 73,
              "statement_ids": [
                73
              ],
              "state": "finished",
              "livy_statement_state": "available",
              "spark_jobs": null,
              "session_id": "60",
              "normalized_state": "finished",
              "queued_time": "2025-08-28T10:57:46.0673621Z",
              "session_start_time": null,
              "execution_start_time": "2025-08-28T11:03:13.324239Z",
              "execution_finish_time": "2025-08-28T11:03:13.5756398Z",
              "parent_msg_id": "f71f626b-e1b8-4a3c-8a7b-388c054ef0ef"
            },
            "text/plain": "StatementMeta(sparkpoolDev, 60, 73, Finished, Available, Finished)"
          },
          "metadata": {}
        }
      ],
      "execution_count": 320,
      "metadata": {}
    },
    {
      "cell_type": "code",
      "source": [
        "df_humi_schwartau"
      ],
      "outputs": [
        {
          "output_type": "display_data",
          "data": {
            "application/vnd.livy.statement-meta+json": {
              "spark_pool": "sparkpoolDev",
              "statement_id": 74,
              "statement_ids": [
                74
              ],
              "state": "finished",
              "livy_statement_state": "available",
              "spark_jobs": null,
              "session_id": "60",
              "normalized_state": "finished",
              "queued_time": "2025-08-28T10:58:46.0724046Z",
              "session_start_time": null,
              "execution_start_time": "2025-08-28T11:03:13.5889782Z",
              "execution_finish_time": "2025-08-28T11:03:13.8416689Z",
              "parent_msg_id": "4043b50d-3354-48af-9353-5657d0d1c024"
            },
            "text/plain": "StatementMeta(sparkpoolDev, 60, 74, Finished, Available, Finished)"
          },
          "metadata": {}
        },
        {
          "output_type": "execute_result",
          "execution_count": 149,
          "data": {
            "text/plain": "                     timestamp  humidity\n0    2017-01-01 12:00:00+00:00     98.04\n1    2017-01-02 00:00:00+00:00     98.61\n2    2017-01-02 12:00:00+00:00     99.00\n3    2017-01-03 00:00:00+00:00     98.49\n4    2017-01-03 12:00:00+00:00     98.32\n...                        ...       ...\n1756 2019-05-29 12:00:00+00:00     92.87\n1757 2019-05-30 00:00:00+00:00     94.77\n1758 2019-05-30 12:00:00+00:00     94.90\n1759 2019-05-31 00:00:00+00:00     95.84\n1760 2019-05-31 12:00:00+00:00     92.79\n\n[1761 rows x 2 columns]",
            "text/html": "<div>\n<style scoped>\n    .dataframe tbody tr th:only-of-type {\n        vertical-align: middle;\n    }\n\n    .dataframe tbody tr th {\n        vertical-align: top;\n    }\n\n    .dataframe thead th {\n        text-align: right;\n    }\n</style>\n<table border=\"1\" class=\"dataframe\">\n  <thead>\n    <tr style=\"text-align: right;\">\n      <th></th>\n      <th>timestamp</th>\n      <th>humidity</th>\n    </tr>\n  </thead>\n  <tbody>\n    <tr>\n      <th>0</th>\n      <td>2017-01-01 12:00:00+00:00</td>\n      <td>98.04</td>\n    </tr>\n    <tr>\n      <th>1</th>\n      <td>2017-01-02 00:00:00+00:00</td>\n      <td>98.61</td>\n    </tr>\n    <tr>\n      <th>2</th>\n      <td>2017-01-02 12:00:00+00:00</td>\n      <td>99.00</td>\n    </tr>\n    <tr>\n      <th>3</th>\n      <td>2017-01-03 00:00:00+00:00</td>\n      <td>98.49</td>\n    </tr>\n    <tr>\n      <th>4</th>\n      <td>2017-01-03 12:00:00+00:00</td>\n      <td>98.32</td>\n    </tr>\n    <tr>\n      <th>...</th>\n      <td>...</td>\n      <td>...</td>\n    </tr>\n    <tr>\n      <th>1756</th>\n      <td>2019-05-29 12:00:00+00:00</td>\n      <td>92.87</td>\n    </tr>\n    <tr>\n      <th>1757</th>\n      <td>2019-05-30 00:00:00+00:00</td>\n      <td>94.77</td>\n    </tr>\n    <tr>\n      <th>1758</th>\n      <td>2019-05-30 12:00:00+00:00</td>\n      <td>94.90</td>\n    </tr>\n    <tr>\n      <th>1759</th>\n      <td>2019-05-31 00:00:00+00:00</td>\n      <td>95.84</td>\n    </tr>\n    <tr>\n      <th>1760</th>\n      <td>2019-05-31 12:00:00+00:00</td>\n      <td>92.79</td>\n    </tr>\n  </tbody>\n</table>\n<p>1761 rows × 2 columns</p>\n</div>"
          },
          "metadata": {}
        }
      ],
      "execution_count": 321,
      "metadata": {}
    },
    {
      "cell_type": "code",
      "source": [
        "(df_humi_schwartau['timestamp'] - df_humi_schwartau['timestamp'].shift(1)).value_counts()"
      ],
      "outputs": [
        {
          "output_type": "display_data",
          "data": {
            "application/vnd.livy.statement-meta+json": {
              "spark_pool": "sparkpoolDev",
              "statement_id": 75,
              "statement_ids": [
                75
              ],
              "state": "finished",
              "livy_statement_state": "available",
              "spark_jobs": null,
              "session_id": "60",
              "normalized_state": "finished",
              "queued_time": "2025-08-28T10:59:46.0721619Z",
              "session_start_time": null,
              "execution_start_time": "2025-08-28T11:03:13.8543832Z",
              "execution_finish_time": "2025-08-28T11:03:14.108402Z",
              "parent_msg_id": "a47b70da-6aca-4aa5-b1fd-0e92ea933058"
            },
            "text/plain": "StatementMeta(sparkpoolDev, 60, 75, Finished, Available, Finished)"
          },
          "metadata": {}
        },
        {
          "output_type": "execute_result",
          "execution_count": 151,
          "data": {
            "text/plain": "0 days 12:00:00    1760\nName: timestamp, dtype: int64"
          },
          "metadata": {}
        }
      ],
      "execution_count": 322,
      "metadata": {}
    },
    {
      "cell_type": "code",
      "source": [
        "df_humi_schwartau.info()"
      ],
      "outputs": [
        {
          "output_type": "display_data",
          "data": {
            "application/vnd.livy.statement-meta+json": {
              "spark_pool": "sparkpoolDev",
              "statement_id": 76,
              "statement_ids": [
                76
              ],
              "state": "finished",
              "livy_statement_state": "available",
              "spark_jobs": null,
              "session_id": "60",
              "normalized_state": "finished",
              "queued_time": "2025-08-28T11:00:46.0818736Z",
              "session_start_time": null,
              "execution_start_time": "2025-08-28T11:03:14.1219781Z",
              "execution_finish_time": "2025-08-28T11:03:14.4559677Z",
              "parent_msg_id": "0a045256-c639-442a-872c-c902f4fd85f3"
            },
            "text/plain": "StatementMeta(sparkpoolDev, 60, 76, Finished, Available, Finished)"
          },
          "metadata": {}
        },
        {
          "output_type": "stream",
          "name": "stdout",
          "text": [
            "<class 'pandas.core.frame.DataFrame'>\nRangeIndex: 1761 entries, 0 to 1760\nData columns (total 2 columns):\n #   Column     Non-Null Count  Dtype              \n---  ------     --------------  -----              \n 0   timestamp  1761 non-null   datetime64[ns, UTC]\n 1   humidity   1761 non-null   float64            \ndtypes: datetime64[ns, UTC](1), float64(1)\nmemory usage: 27.6 KB\n"
          ]
        }
      ],
      "execution_count": 323,
      "metadata": {}
    },
    {
      "cell_type": "markdown",
      "source": [
        "<div class=\"alert alert-block alert-success\">\n",
        "<b>Fixed:</b> Not arranged homogeneous and Ambiguous Time Error\n",
        "</div>"
      ],
      "metadata": {}
    },
    {
      "cell_type": "code",
      "source": [
        "df_humi_schwartau.loc[df_humi_schwartau['timestamp'].dt.strftime('%Y-%m-%d') == \"2017-10-29\"]"
      ],
      "outputs": [
        {
          "output_type": "display_data",
          "data": {
            "application/vnd.livy.statement-meta+json": {
              "spark_pool": "sparkpoolDev",
              "statement_id": 77,
              "statement_ids": [
                77
              ],
              "state": "finished",
              "livy_statement_state": "available",
              "spark_jobs": null,
              "session_id": "60",
              "normalized_state": "finished",
              "queued_time": "2025-08-28T11:01:46.0692868Z",
              "session_start_time": null,
              "execution_start_time": "2025-08-28T11:03:14.4697224Z",
              "execution_finish_time": "2025-08-28T11:03:14.7471708Z",
              "parent_msg_id": "8ee764c9-c1fe-4c77-8b79-1b6c083714e0"
            },
            "text/plain": "StatementMeta(sparkpoolDev, 60, 77, Finished, Available, Finished)"
          },
          "metadata": {}
        },
        {
          "output_type": "execute_result",
          "execution_count": 155,
          "data": {
            "text/plain": "                    timestamp  humidity\n601 2017-10-29 00:00:00+00:00     93.11\n602 2017-10-29 12:00:00+00:00     93.30",
            "text/html": "<div>\n<style scoped>\n    .dataframe tbody tr th:only-of-type {\n        vertical-align: middle;\n    }\n\n    .dataframe tbody tr th {\n        vertical-align: top;\n    }\n\n    .dataframe thead th {\n        text-align: right;\n    }\n</style>\n<table border=\"1\" class=\"dataframe\">\n  <thead>\n    <tr style=\"text-align: right;\">\n      <th></th>\n      <th>timestamp</th>\n      <th>humidity</th>\n    </tr>\n  </thead>\n  <tbody>\n    <tr>\n      <th>601</th>\n      <td>2017-10-29 00:00:00+00:00</td>\n      <td>93.11</td>\n    </tr>\n    <tr>\n      <th>602</th>\n      <td>2017-10-29 12:00:00+00:00</td>\n      <td>93.30</td>\n    </tr>\n  </tbody>\n</table>\n</div>"
          },
          "metadata": {}
        }
      ],
      "execution_count": 324,
      "metadata": {}
    },
    {
      "cell_type": "code",
      "source": [
        "df_humi_schwartau.loc[df_humi_schwartau['timestamp'].dt.strftime('%Y-%m-%d') == \"2018-10-28\"]"
      ],
      "outputs": [
        {
          "output_type": "display_data",
          "data": {
            "application/vnd.livy.statement-meta+json": {
              "spark_pool": "sparkpoolDev",
              "statement_id": 78,
              "statement_ids": [
                78
              ],
              "state": "finished",
              "livy_statement_state": "available",
              "spark_jobs": null,
              "session_id": "60",
              "normalized_state": "finished",
              "queued_time": "2025-08-28T11:02:46.9134644Z",
              "session_start_time": null,
              "execution_start_time": "2025-08-28T11:03:14.7613738Z",
              "execution_finish_time": "2025-08-28T11:03:15.013563Z",
              "parent_msg_id": "7fad33e9-3244-4204-9984-b789e00b41ab"
            },
            "text/plain": "StatementMeta(sparkpoolDev, 60, 78, Finished, Available, Finished)"
          },
          "metadata": {}
        },
        {
          "output_type": "execute_result",
          "execution_count": 157,
          "data": {
            "text/plain": "                     timestamp  humidity\n1329 2018-10-28 00:00:00+00:00     96.52\n1330 2018-10-28 12:00:00+00:00     96.55",
            "text/html": "<div>\n<style scoped>\n    .dataframe tbody tr th:only-of-type {\n        vertical-align: middle;\n    }\n\n    .dataframe tbody tr th {\n        vertical-align: top;\n    }\n\n    .dataframe thead th {\n        text-align: right;\n    }\n</style>\n<table border=\"1\" class=\"dataframe\">\n  <thead>\n    <tr style=\"text-align: right;\">\n      <th></th>\n      <th>timestamp</th>\n      <th>humidity</th>\n    </tr>\n  </thead>\n  <tbody>\n    <tr>\n      <th>1329</th>\n      <td>2018-10-28 00:00:00+00:00</td>\n      <td>96.52</td>\n    </tr>\n    <tr>\n      <th>1330</th>\n      <td>2018-10-28 12:00:00+00:00</td>\n      <td>96.55</td>\n    </tr>\n  </tbody>\n</table>\n</div>"
          },
          "metadata": {}
        }
      ],
      "execution_count": 325,
      "metadata": {}
    },
    {
      "cell_type": "code",
      "source": [
        "df_humi_schwartau.loc[595:605]"
      ],
      "outputs": [
        {
          "output_type": "display_data",
          "data": {
            "application/vnd.livy.statement-meta+json": {
              "spark_pool": "sparkpoolDev",
              "statement_id": 79,
              "statement_ids": [
                79
              ],
              "state": "finished",
              "livy_statement_state": "available",
              "spark_jobs": null,
              "session_id": "60",
              "normalized_state": "finished",
              "queued_time": "2025-08-28T11:03:46.1504906Z",
              "session_start_time": null,
              "execution_start_time": "2025-08-28T11:03:46.1523887Z",
              "execution_finish_time": "2025-08-28T11:03:46.4236828Z",
              "parent_msg_id": "d185e030-7b30-4e1f-9bff-554d901b01b5"
            },
            "text/plain": "StatementMeta(sparkpoolDev, 60, 79, Finished, Available, Finished)"
          },
          "metadata": {}
        },
        {
          "output_type": "execute_result",
          "execution_count": 159,
          "data": {
            "text/plain": "                    timestamp  humidity\n595 2017-10-26 00:00:00+00:00     94.75\n596 2017-10-26 12:00:00+00:00     94.20\n597 2017-10-27 00:00:00+00:00     94.45\n598 2017-10-27 12:00:00+00:00     93.94\n599 2017-10-28 00:00:00+00:00     92.78\n600 2017-10-28 12:00:00+00:00     92.81\n601 2017-10-29 00:00:00+00:00     93.11\n602 2017-10-29 12:00:00+00:00     93.30\n603 2017-10-30 00:00:00+00:00     93.50\n604 2017-10-30 12:00:00+00:00     91.68\n605 2017-10-31 00:00:00+00:00     90.23",
            "text/html": "<div>\n<style scoped>\n    .dataframe tbody tr th:only-of-type {\n        vertical-align: middle;\n    }\n\n    .dataframe tbody tr th {\n        vertical-align: top;\n    }\n\n    .dataframe thead th {\n        text-align: right;\n    }\n</style>\n<table border=\"1\" class=\"dataframe\">\n  <thead>\n    <tr style=\"text-align: right;\">\n      <th></th>\n      <th>timestamp</th>\n      <th>humidity</th>\n    </tr>\n  </thead>\n  <tbody>\n    <tr>\n      <th>595</th>\n      <td>2017-10-26 00:00:00+00:00</td>\n      <td>94.75</td>\n    </tr>\n    <tr>\n      <th>596</th>\n      <td>2017-10-26 12:00:00+00:00</td>\n      <td>94.20</td>\n    </tr>\n    <tr>\n      <th>597</th>\n      <td>2017-10-27 00:00:00+00:00</td>\n      <td>94.45</td>\n    </tr>\n    <tr>\n      <th>598</th>\n      <td>2017-10-27 12:00:00+00:00</td>\n      <td>93.94</td>\n    </tr>\n    <tr>\n      <th>599</th>\n      <td>2017-10-28 00:00:00+00:00</td>\n      <td>92.78</td>\n    </tr>\n    <tr>\n      <th>600</th>\n      <td>2017-10-28 12:00:00+00:00</td>\n      <td>92.81</td>\n    </tr>\n    <tr>\n      <th>601</th>\n      <td>2017-10-29 00:00:00+00:00</td>\n      <td>93.11</td>\n    </tr>\n    <tr>\n      <th>602</th>\n      <td>2017-10-29 12:00:00+00:00</td>\n      <td>93.30</td>\n    </tr>\n    <tr>\n      <th>603</th>\n      <td>2017-10-30 00:00:00+00:00</td>\n      <td>93.50</td>\n    </tr>\n    <tr>\n      <th>604</th>\n      <td>2017-10-30 12:00:00+00:00</td>\n      <td>91.68</td>\n    </tr>\n    <tr>\n      <th>605</th>\n      <td>2017-10-31 00:00:00+00:00</td>\n      <td>90.23</td>\n    </tr>\n  </tbody>\n</table>\n</div>"
          },
          "metadata": {}
        }
      ],
      "execution_count": 326,
      "metadata": {}
    },
    {
      "cell_type": "code",
      "source": [
        "#df_humi_schwartau[\"timestamp\"] = df_humi_schwartau[\"timestamp\"].dt.tz_localize(\"Europe/Berlin\", ambiguous=pd.Series(True, index=df_humi_schwartau.index)).dt.tz_convert(\"UTC\")"
      ],
      "outputs": [
        {
          "output_type": "display_data",
          "data": {
            "application/vnd.livy.statement-meta+json": {
              "spark_pool": "sparkpoolDev",
              "statement_id": 80,
              "statement_ids": [
                80
              ],
              "state": "finished",
              "livy_statement_state": "available",
              "spark_jobs": null,
              "session_id": "60",
              "normalized_state": "finished",
              "queued_time": "2025-08-28T11:05:39.0331016Z",
              "session_start_time": null,
              "execution_start_time": "2025-08-28T11:05:39.0348257Z",
              "execution_finish_time": "2025-08-28T11:05:39.3091078Z",
              "parent_msg_id": "7de51e83-d037-4176-91e0-c5d5b2e28d84"
            },
            "text/plain": "StatementMeta(sparkpoolDev, 60, 80, Finished, Available, Finished)"
          },
          "metadata": {}
        }
      ],
      "execution_count": 327,
      "metadata": {}
    },
    {
      "cell_type": "markdown",
      "source": [
        "## temp_schwartau"
      ],
      "metadata": {}
    },
    {
      "cell_type": "code",
      "source": [
        "df_temp_schwartau.info(show_counts=True)"
      ],
      "outputs": [
        {
          "output_type": "display_data",
          "data": {
            "application/vnd.livy.statement-meta+json": {
              "spark_pool": "sparkpoolDev",
              "statement_id": 81,
              "statement_ids": [
                81
              ],
              "state": "finished",
              "livy_statement_state": "available",
              "spark_jobs": null,
              "session_id": "60",
              "normalized_state": "finished",
              "queued_time": "2025-08-28T11:05:39.2031047Z",
              "session_start_time": null,
              "execution_start_time": "2025-08-28T11:05:39.3279112Z",
              "execution_finish_time": "2025-08-28T11:05:39.6363024Z",
              "parent_msg_id": "a0de2606-8f97-4851-b492-ba0e98b869f2"
            },
            "text/plain": "StatementMeta(sparkpoolDev, 60, 81, Finished, Available, Finished)"
          },
          "metadata": {}
        },
        {
          "output_type": "stream",
          "name": "stdout",
          "text": [
            "<class 'pandas.core.frame.DataFrame'>\nRangeIndex: 253430 entries, 0 to 253429\nData columns (total 2 columns):\n #   Column       Non-Null Count   Dtype         \n---  ------       --------------   -----         \n 0   timestamp    253430 non-null  datetime64[ns]\n 1   temperature  251398 non-null  float64       \ndtypes: datetime64[ns](1), float64(1)\nmemory usage: 3.9 MB\n"
          ]
        }
      ],
      "execution_count": 328,
      "metadata": {}
    },
    {
      "cell_type": "code",
      "source": [
        "df_temp_schwartau.columns"
      ],
      "outputs": [
        {
          "output_type": "display_data",
          "data": {
            "application/vnd.livy.statement-meta+json": {
              "spark_pool": "sparkpoolDev",
              "statement_id": 82,
              "statement_ids": [
                82
              ],
              "state": "finished",
              "livy_statement_state": "available",
              "spark_jobs": null,
              "session_id": "60",
              "normalized_state": "finished",
              "queued_time": "2025-08-28T11:05:39.7151518Z",
              "session_start_time": null,
              "execution_start_time": "2025-08-28T11:05:39.7166783Z",
              "execution_finish_time": "2025-08-28T11:05:39.9633542Z",
              "parent_msg_id": "336e407b-de41-49be-9e01-e974017d8a43"
            },
            "text/plain": "StatementMeta(sparkpoolDev, 60, 82, Finished, Available, Finished)"
          },
          "metadata": {}
        },
        {
          "output_type": "execute_result",
          "execution_count": 165,
          "data": {
            "text/plain": "Index(['timestamp', 'temperature'], dtype='object')"
          },
          "metadata": {}
        }
      ],
      "execution_count": 329,
      "metadata": {}
    },
    {
      "cell_type": "code",
      "source": [
        "df_temp_schwartau.describe()"
      ],
      "outputs": [
        {
          "output_type": "display_data",
          "data": {
            "application/vnd.livy.statement-meta+json": {
              "spark_pool": "sparkpoolDev",
              "statement_id": 83,
              "statement_ids": [
                83
              ],
              "state": "finished",
              "livy_statement_state": "available",
              "spark_jobs": null,
              "session_id": "60",
              "normalized_state": "finished",
              "queued_time": "2025-08-28T11:05:40.6156703Z",
              "session_start_time": null,
              "execution_start_time": "2025-08-28T11:05:40.61713Z",
              "execution_finish_time": "2025-08-28T11:05:40.8740846Z",
              "parent_msg_id": "d0fc17f3-44e0-44fd-9794-923189baed3e"
            },
            "text/plain": "StatementMeta(sparkpoolDev, 60, 83, Finished, Available, Finished)"
          },
          "metadata": {}
        },
        {
          "output_type": "execute_result",
          "execution_count": 167,
          "data": {
            "text/plain": "         temperature\ncount  251398.000000\nmean       22.609671\nstd        11.702222\nmin        -7.260000\n25%        12.450000\n50%        24.480000\n75%        34.220000\nmax        37.530000",
            "text/html": "<div>\n<style scoped>\n    .dataframe tbody tr th:only-of-type {\n        vertical-align: middle;\n    }\n\n    .dataframe tbody tr th {\n        vertical-align: top;\n    }\n\n    .dataframe thead th {\n        text-align: right;\n    }\n</style>\n<table border=\"1\" class=\"dataframe\">\n  <thead>\n    <tr style=\"text-align: right;\">\n      <th></th>\n      <th>temperature</th>\n    </tr>\n  </thead>\n  <tbody>\n    <tr>\n      <th>count</th>\n      <td>251398.000000</td>\n    </tr>\n    <tr>\n      <th>mean</th>\n      <td>22.609671</td>\n    </tr>\n    <tr>\n      <th>std</th>\n      <td>11.702222</td>\n    </tr>\n    <tr>\n      <th>min</th>\n      <td>-7.260000</td>\n    </tr>\n    <tr>\n      <th>25%</th>\n      <td>12.450000</td>\n    </tr>\n    <tr>\n      <th>50%</th>\n      <td>24.480000</td>\n    </tr>\n    <tr>\n      <th>75%</th>\n      <td>34.220000</td>\n    </tr>\n    <tr>\n      <th>max</th>\n      <td>37.530000</td>\n    </tr>\n  </tbody>\n</table>\n</div>"
          },
          "metadata": {}
        }
      ],
      "execution_count": 330,
      "metadata": {}
    },
    {
      "cell_type": "code",
      "source": [
        "df_temp_schwartau.duplicated().sum()"
      ],
      "outputs": [
        {
          "output_type": "display_data",
          "data": {
            "application/vnd.livy.statement-meta+json": {
              "spark_pool": "sparkpoolDev",
              "statement_id": 84,
              "statement_ids": [
                84
              ],
              "state": "finished",
              "livy_statement_state": "available",
              "spark_jobs": null,
              "session_id": "60",
              "normalized_state": "finished",
              "queued_time": "2025-08-28T11:05:41.6848394Z",
              "session_start_time": null,
              "execution_start_time": "2025-08-28T11:05:41.6865364Z",
              "execution_finish_time": "2025-08-28T11:05:41.9340795Z",
              "parent_msg_id": "1c025d32-916d-48ea-a4da-c906a4615b1d"
            },
            "text/plain": "StatementMeta(sparkpoolDev, 60, 84, Finished, Available, Finished)"
          },
          "metadata": {}
        },
        {
          "output_type": "execute_result",
          "execution_count": 169,
          "data": {
            "text/plain": "0"
          },
          "metadata": {}
        }
      ],
      "execution_count": 331,
      "metadata": {}
    },
    {
      "cell_type": "code",
      "source": [
        "df_temp_schwartau.plot(kind=\"hist\")\n",
        "plt.yscale('log')"
      ],
      "outputs": [
        {
          "output_type": "display_data",
          "data": {
            "application/vnd.livy.statement-meta+json": {
              "spark_pool": "sparkpoolDev",
              "statement_id": 85,
              "statement_ids": [
                85
              ],
              "state": "finished",
              "livy_statement_state": "available",
              "spark_jobs": null,
              "session_id": "60",
              "normalized_state": "finished",
              "queued_time": "2025-08-28T11:05:42.76688Z",
              "session_start_time": null,
              "execution_start_time": "2025-08-28T11:05:42.7686062Z",
              "execution_finish_time": "2025-08-28T11:05:43.4318299Z",
              "parent_msg_id": "fefb124c-570c-477d-98c8-23ea0816d027"
            },
            "text/plain": "StatementMeta(sparkpoolDev, 60, 85, Finished, Available, Finished)"
          },
          "metadata": {}
        },
        {
          "output_type": "display_data",
          "data": {
            "text/plain": "<Figure size 640x480 with 1 Axes>",
            "image/png": "[encoded data removed]"
          },
          "metadata": {}
        }
      ],
      "execution_count": 332,
      "metadata": {}
    },
    {
      "cell_type": "code",
      "source": [
        "df_temp_schwartau.plot(x=\"timestamp\", y=\"temperature\")"
      ],
      "outputs": [
        {
          "output_type": "display_data",
          "data": {
            "application/vnd.livy.statement-meta+json": {
              "spark_pool": "sparkpoolDev",
              "statement_id": 86,
              "statement_ids": [
                86
              ],
              "state": "finished",
              "livy_statement_state": "available",
              "spark_jobs": null,
              "session_id": "60",
              "normalized_state": "finished",
              "queued_time": "2025-08-28T11:05:43.6855491Z",
              "session_start_time": null,
              "execution_start_time": "2025-08-28T11:05:43.6872944Z",
              "execution_finish_time": "2025-08-28T11:05:44.9121777Z",
              "parent_msg_id": "16bb8c0a-d941-4b76-a7c7-490ac7ba242d"
            },
            "text/plain": "StatementMeta(sparkpoolDev, 60, 86, Finished, Available, Finished)"
          },
          "metadata": {}
        },
        {
          "output_type": "execute_result",
          "execution_count": 173,
          "data": {
            "text/plain": "<Axes: xlabel='timestamp'>"
          },
          "metadata": {}
        },
        {
          "output_type": "display_data",
          "data": {
            "text/plain": "<Figure size 640x480 with 1 Axes>",
            "image/png": "[encoded data removed]"
          },
          "metadata": {}
        }
      ],
      "execution_count": 333,
      "metadata": {}
    },
    {
      "cell_type": "code",
      "source": [
        "df_temp_schwartau.isna().sum()"
      ],
      "outputs": [
        {
          "output_type": "display_data",
          "data": {
            "application/vnd.livy.statement-meta+json": {
              "spark_pool": "sparkpoolDev",
              "statement_id": 87,
              "statement_ids": [
                87
              ],
              "state": "finished",
              "livy_statement_state": "available",
              "spark_jobs": null,
              "session_id": "60",
              "normalized_state": "finished",
              "queued_time": "2025-08-28T11:05:44.5801104Z",
              "session_start_time": null,
              "execution_start_time": "2025-08-28T11:05:44.9334789Z",
              "execution_finish_time": "2025-08-28T11:05:45.1856248Z",
              "parent_msg_id": "32b0f144-219a-4ef6-8256-9414f372f4b9"
            },
            "text/plain": "StatementMeta(sparkpoolDev, 60, 87, Finished, Available, Finished)"
          },
          "metadata": {}
        },
        {
          "output_type": "execute_result",
          "execution_count": 175,
          "data": {
            "text/plain": "timestamp         0\ntemperature    2032\ndtype: int64"
          },
          "metadata": {}
        }
      ],
      "execution_count": 334,
      "metadata": {}
    },
    {
      "cell_type": "markdown",
      "source": [
        "<div class=\"alert alert-block alert-warning\">\n",
        "<b>Problem:</b> temperature has null values\n",
        "</div>"
      ],
      "metadata": {}
    },
    {
      "cell_type": "code",
      "source": [
        "df_temp_schwartau[\"temperature\"] = df_temp_schwartau[\"temperature\"].interpolate()"
      ],
      "outputs": [
        {
          "output_type": "display_data",
          "data": {
            "application/vnd.livy.statement-meta+json": {
              "spark_pool": "sparkpoolDev",
              "statement_id": 88,
              "statement_ids": [
                88
              ],
              "state": "finished",
              "livy_statement_state": "available",
              "spark_jobs": null,
              "session_id": "60",
              "normalized_state": "finished",
              "queued_time": "2025-08-28T11:05:45.2681084Z",
              "session_start_time": null,
              "execution_start_time": "2025-08-28T11:05:45.2697577Z",
              "execution_finish_time": "2025-08-28T11:05:45.5535467Z",
              "parent_msg_id": "7adf91ff-f42e-4268-ad5d-6c2083e7d7c1"
            },
            "text/plain": "StatementMeta(sparkpoolDev, 60, 88, Finished, Available, Finished)"
          },
          "metadata": {}
        }
      ],
      "execution_count": 335,
      "metadata": {}
    },
    {
      "cell_type": "code",
      "source": [
        "df_temp_schwartau.isna().sum()"
      ],
      "outputs": [
        {
          "output_type": "display_data",
          "data": {
            "application/vnd.livy.statement-meta+json": {
              "spark_pool": "sparkpoolDev",
              "statement_id": 89,
              "statement_ids": [
                89
              ],
              "state": "finished",
              "livy_statement_state": "available",
              "spark_jobs": null,
              "session_id": "60",
              "normalized_state": "finished",
              "queued_time": "2025-08-28T11:05:46.3196011Z",
              "session_start_time": null,
              "execution_start_time": "2025-08-28T11:05:46.3212002Z",
              "execution_finish_time": "2025-08-28T11:05:46.5714097Z",
              "parent_msg_id": "594babc0-3c32-43e5-95d7-8dc11fdc49a2"
            },
            "text/plain": "StatementMeta(sparkpoolDev, 60, 89, Finished, Available, Finished)"
          },
          "metadata": {}
        },
        {
          "output_type": "execute_result",
          "execution_count": 179,
          "data": {
            "text/plain": "timestamp      0\ntemperature    1\ndtype: int64"
          },
          "metadata": {}
        }
      ],
      "execution_count": 336,
      "metadata": {}
    },
    {
      "cell_type": "code",
      "source": [
        "df_temp_schwartau[\"temperature\"] = df_temp_schwartau[\"temperature\"].bfill()"
      ],
      "outputs": [
        {
          "output_type": "display_data",
          "data": {
            "application/vnd.livy.statement-meta+json": {
              "spark_pool": "sparkpoolDev",
              "statement_id": 90,
              "statement_ids": [
                90
              ],
              "state": "finished",
              "livy_statement_state": "available",
              "spark_jobs": null,
              "session_id": "60",
              "normalized_state": "finished",
              "queued_time": "2025-08-28T11:05:47.1929007Z",
              "session_start_time": null,
              "execution_start_time": "2025-08-28T11:05:47.1946417Z",
              "execution_finish_time": "2025-08-28T11:05:47.4607577Z",
              "parent_msg_id": "587fead3-b8a0-4051-a8db-8abd000033d1"
            },
            "text/plain": "StatementMeta(sparkpoolDev, 60, 90, Finished, Available, Finished)"
          },
          "metadata": {}
        }
      ],
      "execution_count": 337,
      "metadata": {}
    },
    {
      "cell_type": "code",
      "source": [
        "df_temp_schwartau.isna().sum()"
      ],
      "outputs": [
        {
          "output_type": "display_data",
          "data": {
            "application/vnd.livy.statement-meta+json": {
              "spark_pool": "sparkpoolDev",
              "statement_id": 91,
              "statement_ids": [
                91
              ],
              "state": "finished",
              "livy_statement_state": "available",
              "spark_jobs": null,
              "session_id": "60",
              "normalized_state": "finished",
              "queued_time": "2025-08-28T11:05:48.0552196Z",
              "session_start_time": null,
              "execution_start_time": "2025-08-28T11:05:48.0569151Z",
              "execution_finish_time": "2025-08-28T11:05:48.3363212Z",
              "parent_msg_id": "d1ef8fad-951c-4890-b4f5-0828d0789664"
            },
            "text/plain": "StatementMeta(sparkpoolDev, 60, 91, Finished, Available, Finished)"
          },
          "metadata": {}
        },
        {
          "output_type": "execute_result",
          "execution_count": 183,
          "data": {
            "text/plain": "timestamp      0\ntemperature    0\ndtype: int64"
          },
          "metadata": {}
        }
      ],
      "execution_count": 338,
      "metadata": {}
    },
    {
      "cell_type": "code",
      "source": [
        "df_temp_schwartau.plot(x=\"timestamp\", y=\"temperature\")"
      ],
      "outputs": [
        {
          "output_type": "display_data",
          "data": {
            "application/vnd.livy.statement-meta+json": {
              "spark_pool": "sparkpoolDev",
              "statement_id": 92,
              "statement_ids": [
                92
              ],
              "state": "finished",
              "livy_statement_state": "available",
              "spark_jobs": null,
              "session_id": "60",
              "normalized_state": "finished",
              "queued_time": "2025-08-28T11:05:48.863566Z",
              "session_start_time": null,
              "execution_start_time": "2025-08-28T11:05:48.8652779Z",
              "execution_finish_time": "2025-08-28T11:05:50.1944678Z",
              "parent_msg_id": "0ae3e90d-9243-4e73-bd9f-f7af5c0481f9"
            },
            "text/plain": "StatementMeta(sparkpoolDev, 60, 92, Finished, Available, Finished)"
          },
          "metadata": {}
        },
        {
          "output_type": "execute_result",
          "execution_count": 185,
          "data": {
            "text/plain": "<Axes: xlabel='timestamp'>"
          },
          "metadata": {}
        },
        {
          "output_type": "display_data",
          "data": {
            "text/plain": "<Figure size 640x480 with 1 Axes>",
            "image/png": "[encoded data removed]"
          },
          "metadata": {}
        }
      ],
      "execution_count": 339,
      "metadata": {}
    },
    {
      "cell_type": "markdown",
      "source": [
        "<div class=\"alert alert-block alert-success\">\n",
        "<b>Fixed:</b> temperature null values - used combination of interpolate() and bfill()\n",
        "</div>"
      ],
      "metadata": {}
    },
    {
      "cell_type": "code",
      "source": [
        "(df_temp_schwartau['timestamp'] - df_temp_schwartau['timestamp'].shift(1)).unique()"
      ],
      "outputs": [
        {
          "output_type": "display_data",
          "data": {
            "application/vnd.livy.statement-meta+json": {
              "spark_pool": "sparkpoolDev",
              "statement_id": 93,
              "statement_ids": [
                93
              ],
              "state": "finished",
              "livy_statement_state": "available",
              "spark_jobs": null,
              "session_id": "60",
              "normalized_state": "finished",
              "queued_time": "2025-08-28T11:05:49.7193887Z",
              "session_start_time": null,
              "execution_start_time": "2025-08-28T11:05:50.2089538Z",
              "execution_finish_time": "2025-08-28T11:05:50.4686882Z",
              "parent_msg_id": "b49b0445-ba88-4a9e-84ef-88adc669a8d0"
            },
            "text/plain": "StatementMeta(sparkpoolDev, 60, 93, Finished, Available, Finished)"
          },
          "metadata": {}
        },
        {
          "output_type": "execute_result",
          "execution_count": 187,
          "data": {
            "text/plain": "array([         'NaT',   300000000000,  3900000000000, -3300000000000],\n      dtype='timedelta64[ns]')"
          },
          "metadata": {}
        }
      ],
      "execution_count": 340,
      "metadata": {}
    },
    {
      "cell_type": "markdown",
      "source": [
        "<div class=\"alert alert-block alert-warning\">\n",
        "<b>Problem:</b> not arranged homogeneous\n",
        "</div>"
      ],
      "metadata": {}
    },
    {
      "cell_type": "code",
      "source": [
        "df_temp_schwartau[\"timestamp\"] = df_temp_schwartau['timestamp'].dt.tz_localize(\"Europe/Berlin\", ambiguous='infer').dt.tz_convert(\"UTC\")"
      ],
      "outputs": [
        {
          "output_type": "display_data",
          "data": {
            "application/vnd.livy.statement-meta+json": {
              "spark_pool": "sparkpoolDev",
              "statement_id": 94,
              "statement_ids": [
                94
              ],
              "state": "finished",
              "livy_statement_state": "available",
              "spark_jobs": null,
              "session_id": "60",
              "normalized_state": "finished",
              "queued_time": "2025-08-28T11:05:50.3286285Z",
              "session_start_time": null,
              "execution_start_time": "2025-08-28T11:05:50.4820287Z",
              "execution_finish_time": "2025-08-28T11:05:50.7317936Z",
              "parent_msg_id": "56fed64c-3400-4d88-a3a0-84a01837eeb2"
            },
            "text/plain": "StatementMeta(sparkpoolDev, 60, 94, Finished, Available, Finished)"
          },
          "metadata": {}
        }
      ],
      "execution_count": 341,
      "metadata": {}
    },
    {
      "cell_type": "code",
      "source": [
        "(df_temp_schwartau['timestamp'] - df_temp_schwartau['timestamp'].shift(1)).value_counts()"
      ],
      "outputs": [
        {
          "output_type": "display_data",
          "data": {
            "application/vnd.livy.statement-meta+json": {
              "spark_pool": "sparkpoolDev",
              "statement_id": 95,
              "statement_ids": [
                95
              ],
              "state": "finished",
              "livy_statement_state": "available",
              "spark_jobs": null,
              "session_id": "60",
              "normalized_state": "finished",
              "queued_time": "2025-08-28T11:05:51.0875271Z",
              "session_start_time": null,
              "execution_start_time": "2025-08-28T11:05:51.0893088Z",
              "execution_finish_time": "2025-08-28T11:05:51.3409996Z",
              "parent_msg_id": "7f3010b0-a995-4a83-8d58-bf322e123454"
            },
            "text/plain": "StatementMeta(sparkpoolDev, 60, 95, Finished, Available, Finished)"
          },
          "metadata": {}
        },
        {
          "output_type": "execute_result",
          "execution_count": 191,
          "data": {
            "text/plain": "0 days 00:05:00    253429\nName: timestamp, dtype: int64"
          },
          "metadata": {}
        }
      ],
      "execution_count": 342,
      "metadata": {}
    },
    {
      "cell_type": "markdown",
      "source": [
        "<div class=\"alert alert-block alert-success\">\n",
        "<b>Fixed:</b> Not arranged homogeneous\n",
        "</div>"
      ],
      "metadata": {}
    },
    {
      "cell_type": "code",
      "source": [
        "df_temp_schwartau['timestamp']"
      ],
      "outputs": [
        {
          "output_type": "display_data",
          "data": {
            "application/vnd.livy.statement-meta+json": {
              "spark_pool": "sparkpoolDev",
              "statement_id": 96,
              "statement_ids": [
                96
              ],
              "state": "finished",
              "livy_statement_state": "available",
              "spark_jobs": null,
              "session_id": "60",
              "normalized_state": "finished",
              "queued_time": "2025-08-28T11:05:52.0200265Z",
              "session_start_time": null,
              "execution_start_time": "2025-08-28T11:05:52.0217521Z",
              "execution_finish_time": "2025-08-28T11:05:52.3009697Z",
              "parent_msg_id": "eadba3b2-acfe-4c56-b03d-de2ceaad7a4c"
            },
            "text/plain": "StatementMeta(sparkpoolDev, 60, 96, Finished, Available, Finished)"
          },
          "metadata": {}
        },
        {
          "output_type": "execute_result",
          "execution_count": 193,
          "data": {
            "text/plain": "0        2017-01-01 13:10:00+00:00\n1        2017-01-01 13:15:00+00:00\n2        2017-01-01 13:20:00+00:00\n3        2017-01-01 13:25:00+00:00\n4        2017-01-01 13:30:00+00:00\n                    ...           \n253425   2019-05-31 11:55:00+00:00\n253426   2019-05-31 12:00:00+00:00\n253427   2019-05-31 12:05:00+00:00\n253428   2019-05-31 12:10:00+00:00\n253429   2019-05-31 12:15:00+00:00\nName: timestamp, Length: 253430, dtype: datetime64[ns, UTC]"
          },
          "metadata": {}
        }
      ],
      "execution_count": 343,
      "metadata": {}
    },
    {
      "cell_type": "code",
      "source": [
        "#df_temp_schwartau['timestamp'] = df_temp_schwartau['timestamp'].dt.tz_localize(\"Europe/Berlin\", ambiguous='infer').dt.tz_convert('UTC')"
      ],
      "outputs": [
        {
          "output_type": "display_data",
          "data": {
            "application/vnd.livy.statement-meta+json": {
              "spark_pool": "sparkpoolDev",
              "statement_id": 97,
              "statement_ids": [
                97
              ],
              "state": "finished",
              "livy_statement_state": "available",
              "spark_jobs": null,
              "session_id": "60",
              "normalized_state": "finished",
              "queued_time": "2025-08-28T11:05:52.8979951Z",
              "session_start_time": null,
              "execution_start_time": "2025-08-28T11:05:52.8999068Z",
              "execution_finish_time": "2025-08-28T11:05:53.1507834Z",
              "parent_msg_id": "3594b00b-d857-4461-9138-e49cf8097138"
            },
            "text/plain": "StatementMeta(sparkpoolDev, 60, 97, Finished, Available, Finished)"
          },
          "metadata": {}
        }
      ],
      "execution_count": 344,
      "metadata": {}
    },
    {
      "cell_type": "code",
      "source": [
        "df_temp_schwartau.info()"
      ],
      "outputs": [
        {
          "output_type": "display_data",
          "data": {
            "application/vnd.livy.statement-meta+json": {
              "spark_pool": "sparkpoolDev",
              "statement_id": 98,
              "statement_ids": [
                98
              ],
              "state": "finished",
              "livy_statement_state": "available",
              "spark_jobs": null,
              "session_id": "60",
              "normalized_state": "finished",
              "queued_time": "2025-08-28T11:05:53.7586298Z",
              "session_start_time": null,
              "execution_start_time": "2025-08-28T11:05:53.7602826Z",
              "execution_finish_time": "2025-08-28T11:05:54.0239474Z",
              "parent_msg_id": "6fe0263e-11a8-45cd-a2ac-e7facd18e77b"
            },
            "text/plain": "StatementMeta(sparkpoolDev, 60, 98, Finished, Available, Finished)"
          },
          "metadata": {}
        },
        {
          "output_type": "stream",
          "name": "stdout",
          "text": [
            "<class 'pandas.core.frame.DataFrame'>\nRangeIndex: 253430 entries, 0 to 253429\nData columns (total 2 columns):\n #   Column       Non-Null Count   Dtype              \n---  ------       --------------   -----              \n 0   timestamp    253430 non-null  datetime64[ns, UTC]\n 1   temperature  253430 non-null  float64            \ndtypes: datetime64[ns, UTC](1), float64(1)\nmemory usage: 3.9 MB\n"
          ]
        }
      ],
      "execution_count": 345,
      "metadata": {}
    },
    {
      "cell_type": "markdown",
      "source": [
        "## weight_schwartau"
      ],
      "metadata": {}
    },
    {
      "cell_type": "code",
      "source": [
        "df_weight_schwartau.info(show_counts=True)"
      ],
      "outputs": [
        {
          "output_type": "display_data",
          "data": {
            "application/vnd.livy.statement-meta+json": {
              "spark_pool": "sparkpoolDev",
              "statement_id": 99,
              "statement_ids": [
                99
              ],
              "state": "finished",
              "livy_statement_state": "available",
              "spark_jobs": null,
              "session_id": "60",
              "normalized_state": "finished",
              "queued_time": "2025-08-28T11:05:54.6682141Z",
              "session_start_time": null,
              "execution_start_time": "2025-08-28T11:05:54.6698519Z",
              "execution_finish_time": "2025-08-28T11:05:54.9655496Z",
              "parent_msg_id": "f17a907b-29a4-4b51-91cd-c328776a5d61"
            },
            "text/plain": "StatementMeta(sparkpoolDev, 60, 99, Finished, Available, Finished)"
          },
          "metadata": {}
        },
        {
          "output_type": "stream",
          "name": "stdout",
          "text": [
            "<class 'pandas.core.frame.DataFrame'>\nRangeIndex: 1761 entries, 0 to 1760\nData columns (total 2 columns):\n #   Column     Non-Null Count  Dtype         \n---  ------     --------------  -----         \n 0   timestamp  1761 non-null   datetime64[ns]\n 1   weight     1749 non-null   float64       \ndtypes: datetime64[ns](1), float64(1)\nmemory usage: 27.6 KB\n"
          ]
        }
      ],
      "execution_count": 346,
      "metadata": {}
    },
    {
      "cell_type": "code",
      "source": [
        "df_weight_schwartau.columns"
      ],
      "outputs": [
        {
          "output_type": "display_data",
          "data": {
            "application/vnd.livy.statement-meta+json": {
              "spark_pool": "sparkpoolDev",
              "statement_id": 100,
              "statement_ids": [
                100
              ],
              "state": "finished",
              "livy_statement_state": "available",
              "spark_jobs": null,
              "session_id": "60",
              "normalized_state": "finished",
              "queued_time": "2025-08-28T11:05:55.5256979Z",
              "session_start_time": null,
              "execution_start_time": "2025-08-28T11:05:55.5272581Z",
              "execution_finish_time": "2025-08-28T11:05:55.7965213Z",
              "parent_msg_id": "ff3e60a3-7906-427d-9781-31004220e537"
            },
            "text/plain": "StatementMeta(sparkpoolDev, 60, 100, Finished, Available, Finished)"
          },
          "metadata": {}
        },
        {
          "output_type": "execute_result",
          "execution_count": 201,
          "data": {
            "text/plain": "Index(['timestamp', 'weight'], dtype='object')"
          },
          "metadata": {}
        }
      ],
      "execution_count": 347,
      "metadata": {}
    },
    {
      "cell_type": "code",
      "source": [
        "df_weight_schwartau.duplicated().sum()"
      ],
      "outputs": [
        {
          "output_type": "display_data",
          "data": {
            "application/vnd.livy.statement-meta+json": {
              "spark_pool": "sparkpoolDev",
              "statement_id": 101,
              "statement_ids": [
                101
              ],
              "state": "finished",
              "livy_statement_state": "available",
              "spark_jobs": null,
              "session_id": "60",
              "normalized_state": "finished",
              "queued_time": "2025-08-28T11:05:56.3460181Z",
              "session_start_time": null,
              "execution_start_time": "2025-08-28T11:05:56.3477641Z",
              "execution_finish_time": "2025-08-28T11:05:56.6030112Z",
              "parent_msg_id": "afbd4d27-4cb5-497b-9500-063b5cd933cf"
            },
            "text/plain": "StatementMeta(sparkpoolDev, 60, 101, Finished, Available, Finished)"
          },
          "metadata": {}
        },
        {
          "output_type": "execute_result",
          "execution_count": 203,
          "data": {
            "text/plain": "0"
          },
          "metadata": {}
        }
      ],
      "execution_count": 348,
      "metadata": {}
    },
    {
      "cell_type": "code",
      "source": [
        "df_weight_schwartau.describe() # weight is prbably in grams for whole hive"
      ],
      "outputs": [
        {
          "output_type": "display_data",
          "data": {
            "application/vnd.livy.statement-meta+json": {
              "spark_pool": "sparkpoolDev",
              "statement_id": 102,
              "statement_ids": [
                102
              ],
              "state": "finished",
              "livy_statement_state": "available",
              "spark_jobs": null,
              "session_id": "60",
              "normalized_state": "finished",
              "queued_time": "2025-08-28T11:05:57.4791054Z",
              "session_start_time": null,
              "execution_start_time": "2025-08-28T11:05:57.4807647Z",
              "execution_finish_time": "2025-08-28T11:05:57.7283876Z",
              "parent_msg_id": "4f263d14-9a73-43f2-8493-d89d8e719461"
            },
            "text/plain": "StatementMeta(sparkpoolDev, 60, 102, Finished, Available, Finished)"
          },
          "metadata": {}
        },
        {
          "output_type": "execute_result",
          "execution_count": 205,
          "data": {
            "text/plain": "             weight\ncount   1749.000000\nmean   56807.637313\nstd    16926.937629\nmin     -172.440000\n25%    49793.360000\n50%    58029.270000\n75%    67322.570000\nmax    92042.230000",
            "text/html": "<div>\n<style scoped>\n    .dataframe tbody tr th:only-of-type {\n        vertical-align: middle;\n    }\n\n    .dataframe tbody tr th {\n        vertical-align: top;\n    }\n\n    .dataframe thead th {\n        text-align: right;\n    }\n</style>\n<table border=\"1\" class=\"dataframe\">\n  <thead>\n    <tr style=\"text-align: right;\">\n      <th></th>\n      <th>weight</th>\n    </tr>\n  </thead>\n  <tbody>\n    <tr>\n      <th>count</th>\n      <td>1749.000000</td>\n    </tr>\n    <tr>\n      <th>mean</th>\n      <td>56807.637313</td>\n    </tr>\n    <tr>\n      <th>std</th>\n      <td>16926.937629</td>\n    </tr>\n    <tr>\n      <th>min</th>\n      <td>-172.440000</td>\n    </tr>\n    <tr>\n      <th>25%</th>\n      <td>49793.360000</td>\n    </tr>\n    <tr>\n      <th>50%</th>\n      <td>58029.270000</td>\n    </tr>\n    <tr>\n      <th>75%</th>\n      <td>67322.570000</td>\n    </tr>\n    <tr>\n      <th>max</th>\n      <td>92042.230000</td>\n    </tr>\n  </tbody>\n</table>\n</div>"
          },
          "metadata": {}
        }
      ],
      "execution_count": 349,
      "metadata": {}
    },
    {
      "cell_type": "code",
      "source": [
        "df_weight_schwartau.plot(kind=\"hist\")\n",
        "plt.yscale('log')"
      ],
      "outputs": [
        {
          "output_type": "display_data",
          "data": {
            "application/vnd.livy.statement-meta+json": {
              "spark_pool": "sparkpoolDev",
              "statement_id": 103,
              "statement_ids": [
                103
              ],
              "state": "finished",
              "livy_statement_state": "available",
              "spark_jobs": null,
              "session_id": "60",
              "normalized_state": "finished",
              "queued_time": "2025-08-28T11:05:58.4648036Z",
              "session_start_time": null,
              "execution_start_time": "2025-08-28T11:05:58.4666069Z",
              "execution_finish_time": "2025-08-28T11:05:59.1351325Z",
              "parent_msg_id": "50e17d1d-9008-4067-910c-28baa5d09ef1"
            },
            "text/plain": "StatementMeta(sparkpoolDev, 60, 103, Finished, Available, Finished)"
          },
          "metadata": {}
        },
        {
          "output_type": "display_data",
          "data": {
            "text/plain": "<Figure size 640x480 with 1 Axes>",
            "image/png": "[encoded data removed]"
          },
          "metadata": {}
        }
      ],
      "execution_count": 350,
      "metadata": {}
    },
    {
      "cell_type": "code",
      "source": [
        "df_weight_schwartau.plot(x=\"timestamp\", y=\"weight\") # what happened in late spring of 2018?!"
      ],
      "outputs": [
        {
          "output_type": "display_data",
          "data": {
            "application/vnd.livy.statement-meta+json": {
              "spark_pool": "sparkpoolDev",
              "statement_id": 104,
              "statement_ids": [
                104
              ],
              "state": "finished",
              "livy_statement_state": "available",
              "spark_jobs": null,
              "session_id": "60",
              "normalized_state": "finished",
              "queued_time": "2025-08-28T11:05:59.4077898Z",
              "session_start_time": null,
              "execution_start_time": "2025-08-28T11:05:59.4094162Z",
              "execution_finish_time": "2025-08-28T11:06:00.0857468Z",
              "parent_msg_id": "18f83099-a506-4a0e-879e-211e36152d42"
            },
            "text/plain": "StatementMeta(sparkpoolDev, 60, 104, Finished, Available, Finished)"
          },
          "metadata": {}
        },
        {
          "output_type": "execute_result",
          "execution_count": 209,
          "data": {
            "text/plain": "<Axes: xlabel='timestamp'>"
          },
          "metadata": {}
        },
        {
          "output_type": "display_data",
          "data": {
            "text/plain": "<Figure size 640x480 with 1 Axes>",
            "image/png": "[encoded data removed]"
          },
          "metadata": {}
        }
      ],
      "execution_count": 351,
      "metadata": {}
    },
    {
      "cell_type": "code",
      "source": [
        "(df_weight_schwartau['timestamp'] - df_weight_schwartau['timestamp'].shift(1)).value_counts()"
      ],
      "outputs": [
        {
          "output_type": "display_data",
          "data": {
            "application/vnd.livy.statement-meta+json": {
              "spark_pool": "sparkpoolDev",
              "statement_id": 105,
              "statement_ids": [
                105
              ],
              "state": "finished",
              "livy_statement_state": "available",
              "spark_jobs": null,
              "session_id": "60",
              "normalized_state": "finished",
              "queued_time": "2025-08-28T11:06:00.4595108Z",
              "session_start_time": null,
              "execution_start_time": "2025-08-28T11:06:00.4612825Z",
              "execution_finish_time": "2025-08-28T11:06:00.7465217Z",
              "parent_msg_id": "0c20f454-03ce-4093-83b2-f488f75177af"
            },
            "text/plain": "StatementMeta(sparkpoolDev, 60, 105, Finished, Available, Finished)"
          },
          "metadata": {}
        },
        {
          "output_type": "execute_result",
          "execution_count": 211,
          "data": {
            "text/plain": "0 days 12:00:00    1755\n0 days 13:00:00       3\n0 days 11:00:00       2\nName: timestamp, dtype: int64"
          },
          "metadata": {}
        }
      ],
      "execution_count": 352,
      "metadata": {}
    },
    {
      "cell_type": "markdown",
      "source": [
        "<div class=\"alert alert-block alert-warning\">\n",
        "<b>Problem:</b> not arranged regualare\n",
        "</div>"
      ],
      "metadata": {}
    },
    {
      "cell_type": "code",
      "source": [
        "#df_weight_schwartau[\"timestamp\"] = df_weight_schwartau['timestamp'].dt.tz_localize(\"Europe/Berlin\", ambiguous='infer').dt.tz_convert(\"UTC\")"
      ],
      "outputs": [
        {
          "output_type": "display_data",
          "data": {
            "application/vnd.livy.statement-meta+json": {
              "spark_pool": "sparkpoolDev",
              "statement_id": 106,
              "statement_ids": [
                106
              ],
              "state": "finished",
              "livy_statement_state": "available",
              "spark_jobs": null,
              "session_id": "60",
              "normalized_state": "finished",
              "queued_time": "2025-08-28T11:06:01.4633429Z",
              "session_start_time": null,
              "execution_start_time": "2025-08-28T11:06:01.4650214Z",
              "execution_finish_time": "2025-08-28T11:06:01.7420108Z",
              "parent_msg_id": "8f91ac2e-b473-4a17-af99-32ed4653789f"
            },
            "text/plain": "StatementMeta(sparkpoolDev, 60, 106, Finished, Available, Finished)"
          },
          "metadata": {}
        }
      ],
      "execution_count": 353,
      "metadata": {}
    },
    {
      "cell_type": "markdown",
      "source": [
        "<div class=\"alert alert-block alert-warning\">\n",
        "<b>Problem:</b> AmbiguousTimeError: 2017-10-29 02:00:00\n",
        "</div>"
      ],
      "metadata": {}
    },
    {
      "cell_type": "code",
      "source": [
        "# Ensure the DataFrame is sorted first\n",
        "df_weight_schwartau = df_weight_schwartau.sort_values(by='timestamp').reset_index(drop=True)\n",
        "\n",
        "# --- The Key Step: Assign the result back to the column ---\n",
        "print(\"Localizing and converting timestamps...\")\n",
        "df_weight_schwartau['timestamp'] = df_weight_schwartau['timestamp'].dt.tz_localize(\n",
        "    'Europe/Berlin',\n",
        "    ambiguous='NaT',\n",
        "    nonexistent='NaT'\n",
        ").dt.tz_convert('UTC')\n",
        "print(\"Operation complete.\")\n",
        "\n",
        "# --- Now, verify the change ---\n",
        "print(\"\\nVerifying the new data type:\")\n",
        "print(df_weight_schwartau['timestamp'].dtype)"
      ],
      "outputs": [
        {
          "output_type": "display_data",
          "data": {
            "application/vnd.livy.statement-meta+json": {
              "spark_pool": "sparkpoolDev",
              "statement_id": 107,
              "statement_ids": [
                107
              ],
              "state": "finished",
              "livy_statement_state": "available",
              "spark_jobs": null,
              "session_id": "60",
              "normalized_state": "finished",
              "queued_time": "2025-08-28T11:06:02.5330699Z",
              "session_start_time": null,
              "execution_start_time": "2025-08-28T11:06:02.5347114Z",
              "execution_finish_time": "2025-08-28T11:06:02.8081092Z",
              "parent_msg_id": "dbbdcaf9-63cc-4fa8-9652-965989aeb9dd"
            },
            "text/plain": "StatementMeta(sparkpoolDev, 60, 107, Finished, Available, Finished)"
          },
          "metadata": {}
        },
        {
          "output_type": "stream",
          "name": "stdout",
          "text": [
            "Localizing and converting timestamps...\nOperation complete.\n\nVerifying the new data type:\ndatetime64[ns, UTC]\n"
          ]
        }
      ],
      "execution_count": 354,
      "metadata": {}
    },
    {
      "cell_type": "code",
      "source": [
        "print(f\"Number of NaT values to fix: {df_weight_schwartau['timestamp'].isnull().sum()}\")"
      ],
      "outputs": [
        {
          "output_type": "display_data",
          "data": {
            "application/vnd.livy.statement-meta+json": {
              "spark_pool": "sparkpoolDev",
              "statement_id": 108,
              "statement_ids": [
                108
              ],
              "state": "finished",
              "livy_statement_state": "available",
              "spark_jobs": null,
              "session_id": "60",
              "normalized_state": "finished",
              "queued_time": "2025-08-28T11:06:03.3496403Z",
              "session_start_time": null,
              "execution_start_time": "2025-08-28T11:06:03.3512539Z",
              "execution_finish_time": "2025-08-28T11:06:03.6042221Z",
              "parent_msg_id": "ed721302-6ba8-4f6a-9367-1d95df8cc19b"
            },
            "text/plain": "StatementMeta(sparkpoolDev, 60, 108, Finished, Available, Finished)"
          },
          "metadata": {}
        },
        {
          "output_type": "stream",
          "name": "stdout",
          "text": [
            "Number of NaT values to fix: 2\n"
          ]
        }
      ],
      "execution_count": 355,
      "metadata": {}
    },
    {
      "cell_type": "code",
      "source": [
        "df_weight_schwartau.loc[df_weight_schwartau['timestamp'].isnull()]"
      ],
      "outputs": [
        {
          "output_type": "display_data",
          "data": {
            "application/vnd.livy.statement-meta+json": {
              "spark_pool": "sparkpoolDev",
              "statement_id": 109,
              "statement_ids": [
                109
              ],
              "state": "finished",
              "livy_statement_state": "available",
              "spark_jobs": null,
              "session_id": "60",
              "normalized_state": "finished",
              "queued_time": "2025-08-28T11:06:04.1024445Z",
              "session_start_time": null,
              "execution_start_time": "2025-08-28T11:06:04.1040971Z",
              "execution_finish_time": "2025-08-28T11:06:04.3969096Z",
              "parent_msg_id": "579ef0c3-9cb2-4e09-ad2c-c76a0d826ce0"
            },
            "text/plain": "StatementMeta(sparkpoolDev, 60, 109, Finished, Available, Finished)"
          },
          "metadata": {}
        },
        {
          "output_type": "execute_result",
          "execution_count": 219,
          "data": {
            "text/plain": "     timestamp    weight\n601        NaT  57872.35\n1329       NaT  66967.01",
            "text/html": "<div>\n<style scoped>\n    .dataframe tbody tr th:only-of-type {\n        vertical-align: middle;\n    }\n\n    .dataframe tbody tr th {\n        vertical-align: top;\n    }\n\n    .dataframe thead th {\n        text-align: right;\n    }\n</style>\n<table border=\"1\" class=\"dataframe\">\n  <thead>\n    <tr style=\"text-align: right;\">\n      <th></th>\n      <th>timestamp</th>\n      <th>weight</th>\n    </tr>\n  </thead>\n  <tbody>\n    <tr>\n      <th>601</th>\n      <td>NaT</td>\n      <td>57872.35</td>\n    </tr>\n    <tr>\n      <th>1329</th>\n      <td>NaT</td>\n      <td>66967.01</td>\n    </tr>\n  </tbody>\n</table>\n</div>"
          },
          "metadata": {}
        }
      ],
      "execution_count": 356,
      "metadata": {}
    },
    {
      "cell_type": "code",
      "source": [
        "# 1. IMPORTANT: Sort the DataFrame by its index to ensure correct row order.\n",
        "#    Interpolation depends on the previous and next rows being correct.\n",
        "df_weight_schwartau.sort_index(inplace=True)\n",
        "\n",
        "# 2. Create the numeric series from the timestamp column.\n",
        "#    NaT becomes a large negative integer here.\n",
        "numeric_ts = df_weight_schwartau['timestamp'].astype('int64')\n",
        "\n",
        "# 3. CRUCIAL FIX: Replace the integer representation of NaT with a standard NaN.\n",
        "#    The interpolate() function is designed to work with np.nan.\n",
        "numeric_ts.replace(pd.NaT.value, np.nan, inplace=True)\n",
        "\n",
        "# 4. Interpolate the numeric series. This will now work correctly.\n",
        "numeric_ts.interpolate(inplace=True)\n",
        "\n",
        "# 5. Convert the interpolated numeric values back to a UTC datetime format.\n",
        "#    We must convert from float back to int before converting to datetime.\n",
        "df_weight_schwartau['timestamp'] = pd.to_datetime(numeric_ts.astype('int64'), utc=True)\n",
        "\n",
        "# --- End of Solution ---\n",
        "\n",
        "# Verify the result for the specific row\n",
        "print(\"Value at index 601:\")\n",
        "print(df_weight_schwartau.loc[601])\n",
        "\n",
        "# Check the surrounding rows to confirm\n",
        "print(\"\\nDataFrame around the previously missing value:\")\n",
        "print(df_weight_schwartau.loc[600:602])"
      ],
      "outputs": [
        {
          "output_type": "display_data",
          "data": {
            "application/vnd.livy.statement-meta+json": {
              "spark_pool": "sparkpoolDev",
              "statement_id": 110,
              "statement_ids": [
                110
              ],
              "state": "finished",
              "livy_statement_state": "available",
              "spark_jobs": null,
              "session_id": "60",
              "normalized_state": "finished",
              "queued_time": "2025-08-28T11:06:05.6792874Z",
              "session_start_time": null,
              "execution_start_time": "2025-08-28T11:06:05.6811715Z",
              "execution_finish_time": "2025-08-28T11:06:05.9631813Z",
              "parent_msg_id": "23bc9263-3b1a-4118-b3e0-c4e526f3d520"
            },
            "text/plain": "StatementMeta(sparkpoolDev, 60, 110, Finished, Available, Finished)"
          },
          "metadata": {}
        },
        {
          "output_type": "stream",
          "name": "stdout",
          "text": [
            "Value at index 601:\ntimestamp    2017-10-29 00:00:00+00:00\nweight                        57872.35\nName: 601, dtype: object\n\nDataFrame around the previously missing value:\n                    timestamp    weight\n600 2017-10-28 12:00:00+00:00  58115.67\n601 2017-10-29 00:00:00+00:00  57872.35\n602 2017-10-29 12:00:00+00:00  57885.76\n"
          ]
        }
      ],
      "execution_count": 357,
      "metadata": {}
    },
    {
      "cell_type": "code",
      "source": [
        "# 1. Set your clean timestamp column as the index of the DataFrame\n",
        "df_weight_schwartau = df_weight_schwartau.set_index('timestamp')\n",
        "\n",
        "# 2. Resample the DataFrame to a 12-hour ('12H') frequency.\n",
        "#    We must tell pandas how to aggregate the other data columns. '.mean()' is common.\n",
        "#    You could also use .first(), .last(), .sum(), etc. depending on your data.\n",
        "df_final_weight = df_weight_schwartau.resample('12h').mean()\n",
        "\n",
        "# 3. (Optional) Reset the index if you want 'timestamp' back as a column\n",
        "df_final_weight = df_final_weight.reset_index()"
      ],
      "outputs": [
        {
          "output_type": "display_data",
          "data": {
            "application/vnd.livy.statement-meta+json": {
              "spark_pool": "sparkpoolDev",
              "statement_id": 111,
              "statement_ids": [
                111
              ],
              "state": "finished",
              "livy_statement_state": "available",
              "spark_jobs": null,
              "session_id": "60",
              "normalized_state": "finished",
              "queued_time": "2025-08-28T11:06:06.4554242Z",
              "session_start_time": null,
              "execution_start_time": "2025-08-28T11:06:06.4570294Z",
              "execution_finish_time": "2025-08-28T11:06:06.7142091Z",
              "parent_msg_id": "9fa05f79-e1c8-4f27-b2c7-46a57d1f8f0d"
            },
            "text/plain": "StatementMeta(sparkpoolDev, 60, 111, Finished, Available, Finished)"
          },
          "metadata": {}
        }
      ],
      "execution_count": 358,
      "metadata": {}
    },
    {
      "cell_type": "code",
      "source": [
        "df_weight_schwartau = df_final_weight"
      ],
      "outputs": [
        {
          "output_type": "display_data",
          "data": {
            "application/vnd.livy.statement-meta+json": {
              "spark_pool": "sparkpoolDev",
              "statement_id": 112,
              "statement_ids": [
                112
              ],
              "state": "finished",
              "livy_statement_state": "available",
              "spark_jobs": null,
              "session_id": "60",
              "normalized_state": "finished",
              "queued_time": "2025-08-28T11:06:07.3370087Z",
              "session_start_time": null,
              "execution_start_time": "2025-08-28T11:06:07.3386421Z",
              "execution_finish_time": "2025-08-28T11:06:07.601237Z",
              "parent_msg_id": "4848f266-1019-4d33-b5cc-c6d90b006277"
            },
            "text/plain": "StatementMeta(sparkpoolDev, 60, 112, Finished, Available, Finished)"
          },
          "metadata": {}
        }
      ],
      "execution_count": 359,
      "metadata": {}
    },
    {
      "cell_type": "code",
      "source": [
        "(df_weight_schwartau['timestamp'] - df_weight_schwartau['timestamp'].shift(1)).value_counts()"
      ],
      "outputs": [
        {
          "output_type": "display_data",
          "data": {
            "application/vnd.livy.statement-meta+json": {
              "spark_pool": "sparkpoolDev",
              "statement_id": 113,
              "statement_ids": [
                113
              ],
              "state": "finished",
              "livy_statement_state": "available",
              "spark_jobs": null,
              "session_id": "60",
              "normalized_state": "finished",
              "queued_time": "2025-08-28T11:06:09.0377237Z",
              "session_start_time": null,
              "execution_start_time": "2025-08-28T11:06:09.0395446Z",
              "execution_finish_time": "2025-08-28T11:06:09.3107384Z",
              "parent_msg_id": "6b4bdbd4-d3c9-46d7-9a75-50c44deb6368"
            },
            "text/plain": "StatementMeta(sparkpoolDev, 60, 113, Finished, Available, Finished)"
          },
          "metadata": {}
        },
        {
          "output_type": "execute_result",
          "execution_count": 227,
          "data": {
            "text/plain": "0 days 12:00:00    1760\nName: timestamp, dtype: int64"
          },
          "metadata": {}
        }
      ],
      "execution_count": 360,
      "metadata": {}
    },
    {
      "cell_type": "markdown",
      "source": [
        "<div class=\"alert alert-block alert-success\">\n",
        "<b>Fixed:</b> Not arranged homogeneous + null values\n",
        "</div>"
      ],
      "metadata": {}
    },
    {
      "cell_type": "code",
      "source": [
        "df_weight_schwartau.loc[df_weight_schwartau[\"weight\"] < 0].count()"
      ],
      "outputs": [
        {
          "output_type": "display_data",
          "data": {
            "application/vnd.livy.statement-meta+json": {
              "spark_pool": "sparkpoolDev",
              "statement_id": 114,
              "statement_ids": [
                114
              ],
              "state": "finished",
              "livy_statement_state": "available",
              "spark_jobs": null,
              "session_id": "60",
              "normalized_state": "finished",
              "queued_time": "2025-08-28T11:06:09.2640797Z",
              "session_start_time": null,
              "execution_start_time": "2025-08-28T11:06:09.3246576Z",
              "execution_finish_time": "2025-08-28T11:06:09.6149198Z",
              "parent_msg_id": "5c0f66ce-727d-45af-9e26-8f691606fea7"
            },
            "text/plain": "StatementMeta(sparkpoolDev, 60, 114, Finished, Available, Finished)"
          },
          "metadata": {}
        },
        {
          "output_type": "execute_result",
          "execution_count": 229,
          "data": {
            "text/plain": "timestamp    37\nweight       37\ndtype: int64"
          },
          "metadata": {}
        }
      ],
      "execution_count": 361,
      "metadata": {}
    },
    {
      "cell_type": "code",
      "source": [
        "df_weight_schwartau.isna().sum()"
      ],
      "outputs": [
        {
          "output_type": "display_data",
          "data": {
            "application/vnd.livy.statement-meta+json": {
              "spark_pool": "sparkpoolDev",
              "statement_id": 115,
              "statement_ids": [
                115
              ],
              "state": "finished",
              "livy_statement_state": "available",
              "spark_jobs": null,
              "session_id": "60",
              "normalized_state": "finished",
              "queued_time": "2025-08-28T11:06:11.2982552Z",
              "session_start_time": null,
              "execution_start_time": "2025-08-28T11:06:11.2999991Z",
              "execution_finish_time": "2025-08-28T11:06:11.6281351Z",
              "parent_msg_id": "ab83bcbe-92a3-4809-a9bf-0997ed976f03"
            },
            "text/plain": "StatementMeta(sparkpoolDev, 60, 115, Finished, Available, Finished)"
          },
          "metadata": {}
        },
        {
          "output_type": "execute_result",
          "execution_count": 231,
          "data": {
            "text/plain": "timestamp     0\nweight       12\ndtype: int64"
          },
          "metadata": {}
        }
      ],
      "execution_count": 362,
      "metadata": {}
    },
    {
      "cell_type": "markdown",
      "source": [
        "<div class=\"alert alert-block alert-warning\">\n",
        "<b>Problem:</b> weight is beneath 0 and null values\n",
        "</div>"
      ],
      "metadata": {}
    },
    {
      "cell_type": "code",
      "source": [
        "df_weight_schwartau.loc[df_weight_schwartau[\"weight\"] < 0, \"weight\"] = np.nan"
      ],
      "outputs": [
        {
          "output_type": "display_data",
          "data": {
            "application/vnd.livy.statement-meta+json": {
              "spark_pool": "sparkpoolDev",
              "statement_id": 116,
              "statement_ids": [
                116
              ],
              "state": "finished",
              "livy_statement_state": "available",
              "spark_jobs": null,
              "session_id": "60",
              "normalized_state": "finished",
              "queued_time": "2025-08-28T11:06:12.5495932Z",
              "session_start_time": null,
              "execution_start_time": "2025-08-28T11:06:12.5511741Z",
              "execution_finish_time": "2025-08-28T11:06:12.8624048Z",
              "parent_msg_id": "5b1fbbac-c3f0-4b01-b065-0742ee8f06d6"
            },
            "text/plain": "StatementMeta(sparkpoolDev, 60, 116, Finished, Available, Finished)"
          },
          "metadata": {}
        }
      ],
      "execution_count": 363,
      "metadata": {}
    },
    {
      "cell_type": "code",
      "source": [
        "df_weight_schwartau.loc[df_weight_schwartau[\"weight\"] < 0].count()"
      ],
      "outputs": [
        {
          "output_type": "display_data",
          "data": {
            "application/vnd.livy.statement-meta+json": {
              "spark_pool": "sparkpoolDev",
              "statement_id": 117,
              "statement_ids": [
                117
              ],
              "state": "finished",
              "livy_statement_state": "available",
              "spark_jobs": null,
              "session_id": "60",
              "normalized_state": "finished",
              "queued_time": "2025-08-28T11:06:13.6029874Z",
              "session_start_time": null,
              "execution_start_time": "2025-08-28T11:06:13.6046593Z",
              "execution_finish_time": "2025-08-28T11:06:13.8570755Z",
              "parent_msg_id": "1ad525c0-47f6-4e6f-840d-1ec70d3cef87"
            },
            "text/plain": "StatementMeta(sparkpoolDev, 60, 117, Finished, Available, Finished)"
          },
          "metadata": {}
        },
        {
          "output_type": "execute_result",
          "execution_count": 235,
          "data": {
            "text/plain": "timestamp    0\nweight       0\ndtype: int64"
          },
          "metadata": {}
        }
      ],
      "execution_count": 364,
      "metadata": {}
    },
    {
      "cell_type": "code",
      "source": [
        "df_weight_schwartau[\"weight\"] = df_weight_schwartau[\"weight\"].interpolate()"
      ],
      "outputs": [
        {
          "output_type": "display_data",
          "data": {
            "application/vnd.livy.statement-meta+json": {
              "spark_pool": "sparkpoolDev",
              "statement_id": 118,
              "statement_ids": [
                118
              ],
              "state": "finished",
              "livy_statement_state": "available",
              "spark_jobs": null,
              "session_id": "60",
              "normalized_state": "finished",
              "queued_time": "2025-08-28T11:06:15.365173Z",
              "session_start_time": null,
              "execution_start_time": "2025-08-28T11:06:15.3669999Z",
              "execution_finish_time": "2025-08-28T11:06:15.6342428Z",
              "parent_msg_id": "bed65933-2e81-4faa-8ef4-af71cf054453"
            },
            "text/plain": "StatementMeta(sparkpoolDev, 60, 118, Finished, Available, Finished)"
          },
          "metadata": {}
        }
      ],
      "execution_count": 365,
      "metadata": {}
    },
    {
      "cell_type": "code",
      "source": [
        "df_weight_schwartau.isnull().sum()"
      ],
      "outputs": [
        {
          "output_type": "display_data",
          "data": {
            "application/vnd.livy.statement-meta+json": {
              "spark_pool": "sparkpoolDev",
              "statement_id": 119,
              "statement_ids": [
                119
              ],
              "state": "finished",
              "livy_statement_state": "available",
              "spark_jobs": null,
              "session_id": "60",
              "normalized_state": "finished",
              "queued_time": "2025-08-28T11:06:16.33751Z",
              "session_start_time": null,
              "execution_start_time": "2025-08-28T11:06:16.3393437Z",
              "execution_finish_time": "2025-08-28T11:06:16.5998655Z",
              "parent_msg_id": "81aa6ce3-7a91-4fd8-90c8-360c1013c447"
            },
            "text/plain": "StatementMeta(sparkpoolDev, 60, 119, Finished, Available, Finished)"
          },
          "metadata": {}
        },
        {
          "output_type": "execute_result",
          "execution_count": 239,
          "data": {
            "text/plain": "timestamp    0\nweight       0\ndtype: int64"
          },
          "metadata": {}
        }
      ],
      "execution_count": 366,
      "metadata": {}
    },
    {
      "cell_type": "markdown",
      "source": [
        "<div class=\"alert alert-block alert-success\">\n",
        "<b>Fixed:</b> Null values\n",
        "</div>"
      ],
      "metadata": {}
    },
    {
      "cell_type": "code",
      "source": [
        "df_weight_schwartau.plot(x=\"timestamp\", y=\"weight\")"
      ],
      "outputs": [
        {
          "output_type": "display_data",
          "data": {
            "application/vnd.livy.statement-meta+json": {
              "spark_pool": "sparkpoolDev",
              "statement_id": 120,
              "statement_ids": [
                120
              ],
              "state": "finished",
              "livy_statement_state": "available",
              "spark_jobs": null,
              "session_id": "60",
              "normalized_state": "finished",
              "queued_time": "2025-08-28T11:06:29.0721637Z",
              "session_start_time": null,
              "execution_start_time": "2025-08-28T11:06:29.0740947Z",
              "execution_finish_time": "2025-08-28T11:06:29.7544175Z",
              "parent_msg_id": "faf1398b-56dd-4993-bd0d-2a7d56c5d254"
            },
            "text/plain": "StatementMeta(sparkpoolDev, 60, 120, Finished, Available, Finished)"
          },
          "metadata": {}
        },
        {
          "output_type": "execute_result",
          "execution_count": 241,
          "data": {
            "text/plain": "<Axes: xlabel='timestamp'>"
          },
          "metadata": {}
        },
        {
          "output_type": "display_data",
          "data": {
            "text/plain": "<Figure size 640x480 with 1 Axes>",
            "image/png": "[encoded data removed]"
          },
          "metadata": {}
        }
      ],
      "execution_count": 367,
      "metadata": {}
    },
    {
      "cell_type": "markdown",
      "source": [
        "<div class=\"alert alert-block alert-success\">\n",
        "<b>Fixed:</b> values below zero\n",
        "</div>"
      ],
      "metadata": {}
    },
    {
      "cell_type": "code",
      "source": [
        "df_weight_schwartau.info()"
      ],
      "outputs": [
        {
          "output_type": "display_data",
          "data": {
            "application/vnd.livy.statement-meta+json": {
              "spark_pool": "sparkpoolDev",
              "statement_id": 121,
              "statement_ids": [
                121
              ],
              "state": "finished",
              "livy_statement_state": "available",
              "spark_jobs": null,
              "session_id": "60",
              "normalized_state": "finished",
              "queued_time": "2025-08-28T11:07:08.6586977Z",
              "session_start_time": null,
              "execution_start_time": "2025-08-28T11:07:08.6603463Z",
              "execution_finish_time": "2025-08-28T11:07:08.9185412Z",
              "parent_msg_id": "8156ed9f-3b07-4783-8f58-acc5f5f507db"
            },
            "text/plain": "StatementMeta(sparkpoolDev, 60, 121, Finished, Available, Finished)"
          },
          "metadata": {}
        }
      ],
      "execution_count": 368,
      "metadata": {}
    },
    {
      "cell_type": "code",
      "source": [
        "df_weight_schwartau.describe()"
      ],
      "outputs": [
        {
          "output_type": "display_data",
          "data": {
            "application/vnd.livy.statement-meta+json": {
              "spark_pool": "sparkpoolDev",
              "statement_id": 122,
              "statement_ids": [
                122
              ],
              "state": "finished",
              "livy_statement_state": "available",
              "spark_jobs": null,
              "session_id": "60",
              "normalized_state": "finished",
              "queued_time": "2025-08-28T11:07:08.8328802Z",
              "session_start_time": null,
              "execution_start_time": "2025-08-28T11:07:08.9364121Z",
              "execution_finish_time": "2025-08-28T11:07:09.2226328Z",
              "parent_msg_id": "dd8ef02d-6167-44a3-b9a5-d3577a6b8ecb"
            },
            "text/plain": "StatementMeta(sparkpoolDev, 60, 122, Finished, Available, Finished)"
          },
          "metadata": {}
        },
        {
          "output_type": "execute_result",
          "execution_count": 245,
          "data": {
            "text/plain": "             weight\ncount   1761.000000\nmean   57620.051031\nstd    15520.022077\nmin       35.990000\n25%    49809.270000\n50%    58115.670000\n75%    67390.930000\nmax    92042.230000",
            "text/html": "<div>\n<style scoped>\n    .dataframe tbody tr th:only-of-type {\n        vertical-align: middle;\n    }\n\n    .dataframe tbody tr th {\n        vertical-align: top;\n    }\n\n    .dataframe thead th {\n        text-align: right;\n    }\n</style>\n<table border=\"1\" class=\"dataframe\">\n  <thead>\n    <tr style=\"text-align: right;\">\n      <th></th>\n      <th>weight</th>\n    </tr>\n  </thead>\n  <tbody>\n    <tr>\n      <th>count</th>\n      <td>1761.000000</td>\n    </tr>\n    <tr>\n      <th>mean</th>\n      <td>57620.051031</td>\n    </tr>\n    <tr>\n      <th>std</th>\n      <td>15520.022077</td>\n    </tr>\n    <tr>\n      <th>min</th>\n      <td>35.990000</td>\n    </tr>\n    <tr>\n      <th>25%</th>\n      <td>49809.270000</td>\n    </tr>\n    <tr>\n      <th>50%</th>\n      <td>58115.670000</td>\n    </tr>\n    <tr>\n      <th>75%</th>\n      <td>67390.930000</td>\n    </tr>\n    <tr>\n      <th>max</th>\n      <td>92042.230000</td>\n    </tr>\n  </tbody>\n</table>\n</div>"
          },
          "metadata": {}
        }
      ],
      "execution_count": 369,
      "metadata": {}
    },
    {
      "cell_type": "markdown",
      "source": [
        "## Standardize File Formats - Parquet"
      ],
      "metadata": {}
    },
    {
      "cell_type": "code",
      "source": [
        "from pathlib import Path # Make sure Path is imported\n",
        "\n",
        "# Define the sink path as a simple string, not a Path object\n",
        "sink_path = f'{data_lake_path}/silver/interim'\n",
        "\n",
        "subfolders = ['flow', 'humidity', 'temperature', 'weight']\n",
        "for folder in subfolders:\n",
        "    # Use dbutils.fs.mkdirs to create folders in the data lake\n",
        "    # Note: This is an equivalent to mkdirs for a distributed filesystem\n",
        "    mssparkutils.fs.mkdirs(f\"{sink_path}/{folder}\")\n",
        "    \n",
        "print(\"All necessary directories are created or already exist.\")\n",
        "\n",
        "timestamp_str = spark._jvm.java.time.Instant.now().toString()\n",
        "\n",
        "# Convert to spark DataFrames\n",
        "spark_df_flow = spark.createDataFrame(df_flow_schwartau)\n",
        "spark_df_flow.printSchema()\n",
        "spark_df_humi = spark.createDataFrame(df_humi_schwartau)\n",
        "spark_df_humi.printSchema()\n",
        "spark_df_temp = spark.createDataFrame(df_temp_schwartau)\n",
        "spark_df_temp.printSchema()\n",
        "spark_df_weight = spark.createDataFrame(df_weight_schwartau)\n",
        "spark_df_weight.printSchema()\n",
        "\n",
        "\n",
        "spark_df_flow.write.parquet(\n",
        "    f'{sink_path}/flow/schwartau_flow__{timestamp_str}.parquet', \n",
        "    mode='overwrite' # Use 'overwrite' to replace existing files, or 'append'\n",
        ")\n",
        "spark_df_humi.write.parquet(\n",
        "    f'{sink_path}/humidity/schwartau_humidity__{timestamp_str}.parquet', \n",
        "    mode='overwrite'\n",
        ")\n",
        "spark_df_temp.write.parquet(\n",
        "    f'{sink_path}/temperature/schwartau_temperature__{timestamp_str}.parquet', \n",
        "    mode='overwrite'\n",
        ")\n",
        "spark_df_weight.write.parquet(\n",
        "    f'{sink_path}/weight/schwartau_weight__{timestamp_str}.parquet', \n",
        "    mode='overwrite'\n",
        ")\n",
        "\n",
        "print(\"All files saved successfully.\")\n"
      ],
      "outputs": [
        {
          "output_type": "display_data",
          "data": {
            "application/vnd.livy.statement-meta+json": {
              "spark_pool": null,
              "statement_id": -1,
              "statement_ids": null,
              "state": "waiting",
              "livy_statement_state": null,
              "spark_jobs": null,
              "session_id": null,
              "normalized_state": "waiting",
              "queued_time": "2025-08-28T11:07:09.3716953Z",
              "session_start_time": null,
              "execution_start_time": null,
              "execution_finish_time": null,
              "parent_msg_id": "405747ba-788f-444d-bfa2-95c8aaa43907"
            },
            "text/plain": "StatementMeta(, , -1, Waiting, , Waiting)"
          },
          "metadata": {}
        }
      ],
      "execution_count": null,
      "metadata": {}
    },
    {
      "cell_type": "markdown",
      "source": [
        "# Weather API Data"
      ],
      "metadata": {
        "nteract": {
          "transient": {
            "deleting": false
          }
        }
      }
    },
    {
      "cell_type": "code",
      "source": [
        "import pandas as pd\n",
        "from pyspark.sql.functions import col\n",
        "\n",
        "# 1. Define the base path on the data lake\n",
        "data_lake_path = \"abfss://beehive-container@dsaidatalakestorage.dfs.core.windows.net\" \n",
        "source_path = f\"{data_lake_path}/silver/interim\"\n",
        "\n",
        "# A helper function to get the path of the latest file in a directory\n",
        "def get_latest_file_path(folder_path):\n",
        "    \"\"\"Lists files in a data lake folder and returns the path of the newest one.\"\"\"\n",
        "    try:\n",
        "        # List all items in the directory\n",
        "        files_list = mssparkutils.fs.ls(folder_path)\n",
        "        \n",
        "        # Filter for parquet files and get their paths\n",
        "        parquet_files = [f.path for f in files_list if f.name.endswith('.parquet')]\n",
        "        \n",
        "        if not parquet_files:\n",
        "            return None\n",
        "            \n",
        "        return max(parquet_files)\n",
        "    except Exception as e:\n",
        "        print(f\"Error accessing {folder_path}: {e}\")\n",
        "        return None\n",
        "\n",
        "# 2. Find the latest file in each subfolder and read it\n",
        "subfolders = ['flow', 'humidity', 'temperature', 'weight']\n",
        "dataframes = {} # Use a dictionary to store the dataframes\n",
        "\n",
        "for folder in subfolders:\n",
        "    full_folder_path = f\"{source_path}/{folder}\"\n",
        "    latest_file = get_latest_file_path(full_folder_path)\n",
        "    \n",
        "    if latest_file:\n",
        "        print(f\"Reading latest file from {folder}: {latest_file}\")\n",
        "        # Use Spark to read (handles authentication) and then convert to pandas\n",
        "        spark_df = spark.read.parquet(latest_file)\n",
        "        dataframes[folder] = spark_df.toPandas()\n",
        "    else:\n",
        "        print(f\"No parquet files found in {folder}\")\n",
        "\n",
        "# 3. Now calculate the start and end dates from the loaded dataframes\n",
        "# Check if all dataframes were loaded before proceeding\n",
        "if len(dataframes) == len(subfolders):\n",
        "    start_date = min(\n",
        "        dataframes['flow'][\"timestamp\"].min(),\n",
        "        dataframes['humidity'][\"timestamp\"].min(),\n",
        "        dataframes['temperature'][\"timestamp\"].min(),\n",
        "        dataframes['weight'][\"timestamp\"].min()\n",
        "    )\n",
        "\n",
        "    end_date = max(\n",
        "        dataframes['flow'][\"timestamp\"].max(),\n",
        "        dataframes['humidity'][\"timestamp\"].max(),\n",
        "        dataframes['temperature'][\"timestamp\"].max(),\n",
        "        dataframes['weight'][\"timestamp\"].max()\n",
        "    )\n",
        "\n",
        "    print(\"\\nOverall Date Range:\")\n",
        "    print(f\"Start Date: {start_date}\")\n",
        "    print(f\"End Date: {end_date}\")\n",
        "else:\n",
        "    print(\"\\nCould not load all dataframes. Cannot calculate date range.\")"
      ],
      "outputs": [],
      "execution_count": null,
      "metadata": {}
    },
    {
      "cell_type": "code",
      "source": [
        "import pandas as pd\n",
        "import requests\n",
        "import json\n",
        "\n",
        "data_lake_path = \"abfss://beehive-container@dsaidatalakestorage.dfs.core.windows.net\"\n",
        "weather_sink = f\"{data_lake_path}/bronze/archive/weather/\"\n",
        "\n",
        "coords = {\n",
        "\"schwartau\" : {\"lat\": 53.9163, \"lon\": 10.6854}\n",
        "}\n",
        "\n",
        "measures_to_ignore = [\n",
        "\"timestamp\",\n",
        "\"source_id\",\n",
        "\"condtion\",\n",
        "\"precipitation_probability\", # for foecasts only\n",
        "\"precipitation_probability_6h\", # for forecasts only\n",
        "\"icon\",\n",
        "\"fallback_source_ids\"\n",
        "]\n",
        "\n",
        "# Define the parameters for the API request\n",
        "url = \"https://api.brightsky.dev/weather\"\n",
        "headers = {\"Accept\": \"application/json\"}\n",
        "params = coords[\"schwartau\"] | {\"date\": start_date} | {\"last_date\": end_date}\n",
        "\n",
        "try:\n",
        "    response = requests.get(url, headers=headers, params=params)\n",
        "    response.raise_for_status() # A better way to check for HTTP errors\n",
        "\n",
        "    bs_weather_data_json = response.json()\n",
        "    \n",
        "    # 1. Define the full path for the destination file\n",
        "    file_path = weather_sink + f\"schwartau__{start_date.strftime('%Y-%m-%d')}_{end_date.strftime('%Y-%m-%d')}.json\"\n",
        "\n",
        "    # 2. Convert Python dictionary (the JSON object) into a string\n",
        "    json_content_string = json.dumps(bs_weather_data_json, indent=4)\n",
        "\n",
        "    # 3. Use mssparkutils.fs.put() to write the string content to the data lake\n",
        "    mssparkutils.fs.put(file_path, json_content_string, overwrite=True)\n",
        "    \n",
        "    print(f\"Successfully saved JSON to {file_path}\")\n",
        "\n",
        "    sources_df = pd.DataFrame(bs_weather_data_json[\"sources\"])\n",
        "\n",
        "    for time in bs_weather_data_json[\"weather\"]:\n",
        "        temp_dict = {}\n",
        "        for measure in time:\n",
        "            if measure in measures_to_ignore:\n",
        "                continue\n",
        "    \n",
        "            if measure in time.get(\"fallback_source_ids\", {}):\n",
        "                temp_dict[f\"{measure}_source_distance\"] = sources_df.loc[sources_df[\"id\"] == time.get(\"fallback_source_ids\", {}).get(measure), \"distance\"].values[0]\n",
        "            else:\n",
        "                temp_dict[f\"{measure}_source_distance\"] = sources_df.loc[sources_df[\"id\"] == time[\"source_id\"], \"distance\"].values[0]\n",
        "    \n",
        "        time.update(temp_dict)\n",
        "\n",
        "    weather_df = (\n",
        "        pd.DataFrame(bs_weather_data_json[\"weather\"])\n",
        "        .drop([\"source_id\", \"visibility\", \"condition\", \"icon\", \"precipitation_probability\", \"precipitation_probability_6h\", \"fallback_source_ids\", \"condition_source_distance\"], axis=1)\n",
        "        .rename({\"lat\": \"station_lat\", \"lon\": \"station_lon\", \"height\": \"station_elevation\"}, axis=1)\n",
        "    )\n",
        "\n",
        "    weather_df[\"timestamp\"] = pd.to_datetime(weather_df[\"timestamp\"])\n",
        "    \n",
        "    weather_df.info()\n",
        "\n",
        "except requests.exceptions.HTTPError as err:\n",
        "    print(f\"\\nHTTP Error occurred: {err}\")\n",
        "    print(\"Response Content:\", response.text)\n",
        "except requests.exceptions.RequestException as err:\n",
        "    print(f\"\\nAn error occurred: {err}\")"
      ],
      "outputs": [
        {
          "output_type": "display_data",
          "data": {
            "application/vnd.livy.statement-meta+json": {
              "spark_pool": "sparkpoolDev",
              "statement_id": 10,
              "statement_ids": [
                10
              ],
              "state": "finished",
              "livy_statement_state": "available",
              "spark_jobs": null,
              "session_id": "19",
              "normalized_state": "finished",
              "queued_time": "2025-08-19T09:47:34.5764648Z",
              "session_start_time": null,
              "execution_start_time": "2025-08-19T09:47:34.5784881Z",
              "execution_finish_time": "2025-08-19T09:48:20.6469829Z",
              "parent_msg_id": "e374e536-5d8b-4e5f-aeda-ff365c83d0a0"
            },
            "text/plain": "StatementMeta(sparkpoolDev, 19, 10, Finished, Available, Finished)"
          },
          "metadata": {}
        },
        {
          "output_type": "stream",
          "name": "stdout",
          "text": [
            "Successfully saved JSON to abfss://beehive-container@dsaidatalakestorage.dfs.core.windows.net/bronze/archive/weather/schwartau__2017-01-01_2019-05-31.json\n<class 'pandas.core.frame.DataFrame'>\nRangeIndex: 21121 entries, 0 to 21120\nData columns (total 26 columns):\n #   Column                               Non-Null Count  Dtype              \n---  ------                               --------------  -----              \n 0   timestamp                            21121 non-null  datetime64[ns, UTC]\n 1   precipitation                        21121 non-null  float64            \n 2   pressure_msl                         16385 non-null  float64            \n 3   sunshine                             15698 non-null  float64            \n 4   temperature                          16385 non-null  float64            \n 5   wind_direction                       16385 non-null  float64            \n 6   wind_speed                           16385 non-null  float64            \n 7   cloud_cover                          16384 non-null  float64            \n 8   dew_point                            16385 non-null  float64            \n 9   relative_humidity                    16385 non-null  float64            \n 10  wind_gust_direction                  16385 non-null  float64            \n 11  wind_gust_speed                      16385 non-null  float64            \n 12  solar                                15915 non-null  float64            \n 13  precipitation_source_distance        21121 non-null  float64            \n 14  pressure_msl_source_distance         21121 non-null  float64            \n 15  sunshine_source_distance             21121 non-null  float64            \n 16  temperature_source_distance          21121 non-null  float64            \n 17  wind_direction_source_distance       21121 non-null  float64            \n 18  wind_speed_source_distance           21121 non-null  float64            \n 19  cloud_cover_source_distance          21121 non-null  float64            \n 20  dew_point_source_distance            21121 non-null  float64            \n 21  relative_humidity_source_distance    21121 non-null  float64            \n 22  visibility_source_distance           21121 non-null  float64            \n 23  wind_gust_direction_source_distance  21121 non-null  float64            \n 24  wind_gust_speed_source_distance      21121 non-null  float64            \n 25  solar_source_distance                21121 non-null  float64            \ndtypes: datetime64[ns, UTC](1), float64(25)\nmemory usage: 4.2 MB\n"
          ]
        }
      ],
      "execution_count": 9,
      "metadata": {}
    },
    {
      "cell_type": "code",
      "source": [
        "from pathlib import Path\n",
        "\n",
        "sink_path = f'{data_lake_path}/silver/interim'\n",
        "\n",
        "subfolders = ['weather']\n",
        "for folder in subfolders:\n",
        "    # Use dbutils.fs.mkdirs to create folders in the data lake\n",
        "    mssparkutils.fs.mkdirs(f\"{sink_path}/{folder}\")\n",
        "    \n",
        "print(\"All necessary directories are created or already exist.\")\n",
        "\n",
        "timestamp_str = spark._jvm.java.time.Instant.now().toString()\n",
        "\n",
        "# Convert to spark DataFrames\n",
        "spark_weather_df = spark.createDataFrame(weather_df)\n",
        "spark_weather_df.printSchema()\n",
        "\n",
        "\n",
        "spark_weather_df.write.parquet(\n",
        "    f'{sink_path}/weather/schwartau_weather__{timestamp_str}.parquet', \n",
        "    mode='overwrite' # Use 'overwrite' to replace existing files, or 'append'\n",
        ")\n",
        "\n",
        "print(\"All files saved successfully.\")\n"
      ],
      "outputs": [
        {
          "output_type": "display_data",
          "data": {
            "application/vnd.livy.statement-meta+json": {
              "spark_pool": "sparkpoolDev",
              "statement_id": 11,
              "statement_ids": [
                11
              ],
              "state": "finished",
              "livy_statement_state": "available",
              "spark_jobs": null,
              "session_id": "19",
              "normalized_state": "finished",
              "queued_time": "2025-08-19T09:48:53.1418125Z",
              "session_start_time": null,
              "execution_start_time": "2025-08-19T09:48:53.1437056Z",
              "execution_finish_time": "2025-08-19T09:48:57.293321Z",
              "parent_msg_id": "06bf24e1-645c-4da6-b26b-7f6d151115db"
            },
            "text/plain": "StatementMeta(sparkpoolDev, 19, 11, Finished, Available, Finished)"
          },
          "metadata": {}
        },
        {
          "output_type": "stream",
          "name": "stdout",
          "text": [
            "All necessary directories are created or already exist.\nroot\n |-- timestamp: timestamp (nullable = true)\n |-- precipitation: double (nullable = true)\n |-- pressure_msl: double (nullable = true)\n |-- sunshine: double (nullable = true)\n |-- temperature: double (nullable = true)\n |-- wind_direction: double (nullable = true)\n |-- wind_speed: double (nullable = true)\n |-- cloud_cover: double (nullable = true)\n |-- dew_point: double (nullable = true)\n |-- relative_humidity: double (nullable = true)\n |-- wind_gust_direction: double (nullable = true)\n |-- wind_gust_speed: double (nullable = true)\n |-- solar: double (nullable = true)\n |-- precipitation_source_distance: double (nullable = true)\n |-- pressure_msl_source_distance: double (nullable = true)\n |-- sunshine_source_distance: double (nullable = true)\n |-- temperature_source_distance: double (nullable = true)\n |-- wind_direction_source_distance: double (nullable = true)\n |-- wind_speed_source_distance: double (nullable = true)\n |-- cloud_cover_source_distance: double (nullable = true)\n |-- dew_point_source_distance: double (nullable = true)\n |-- relative_humidity_source_distance: double (nullable = true)\n |-- visibility_source_distance: double (nullable = true)\n |-- wind_gust_direction_source_distance: double (nullable = true)\n |-- wind_gust_speed_source_distance: double (nullable = true)\n |-- solar_source_distance: double (nullable = true)\n\nAll files saved successfully.\n"
          ]
        }
      ],
      "execution_count": 10,
      "metadata": {}
    },
    {
      "cell_type": "markdown",
      "source": [
        "# Stop Session"
      ],
      "metadata": {
        "nteract": {
          "transient": {
            "deleting": false
          }
        }
      }
    },
    {
      "cell_type": "code",
      "source": [
        "mssparkutils.session.stop()"
      ],
      "outputs": [
        {
          "output_type": "display_data",
          "data": {
            "application/vnd.livy.statement-meta+json": {
              "spark_pool": "sparkpoolDev",
              "statement_id": 12,
              "statement_ids": [
                12
              ],
              "state": "finished",
              "livy_statement_state": "available",
              "spark_jobs": null,
              "session_id": "19",
              "normalized_state": "finished",
              "queued_time": "2025-08-19T09:49:39.2383247Z",
              "session_start_time": null,
              "execution_start_time": "2025-08-19T09:49:39.240007Z",
              "execution_finish_time": "2025-08-19T09:49:39.8934069Z",
              "parent_msg_id": "1ec42ab0-6b93-4d6b-90af-93eb9c5ab72e"
            },
            "text/plain": "StatementMeta(sparkpoolDev, 19, 12, Finished, Available, Finished)"
          },
          "metadata": {}
        }
      ],
      "execution_count": 11,
      "metadata": {}
    }
  ],
  "metadata": {
    "kernelspec": {
      "name": "synapse_pyspark",
      "language": "Python",
      "display_name": "Synapse PySpark"
    },
    "language_info": {
      "name": "python"
    },
    "kernel_info": {
      "name": "synapse_pyspark"
    },
    "description": null,
    "save_output": true,
    "synapse_widget": {
      "version": "0.1",
      "state": {}
    }
  },
  "nbformat": 4,
  "nbformat_minor": 2
}