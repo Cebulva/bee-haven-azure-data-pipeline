{
  "nbformat": 4,
  "nbformat_minor": 2,
  "metadata": {
    "language_info": {
      "name": "python"
    },
    "kernelspec": {
      "name": "synapse_pyspark",
      "display_name": "python"
    },
    "description": null,
    "save_output": true,
    "synapse_widget": {
      "version": "0.1",
      "state": {
        "4a97689b-07a9-4f10-8581-59602a58ad5c": {
          "type": "Synapse.DataFrame",
          "sync_state": {
            "table": {
              "rows": [
                {
                  "0": "2017-01-01 12:00:00",
                  "1": null,
                  "2": null,
                  "3": "98.04",
                  "4": null,
                  "5": "0.0",
                  "6": "1013.8",
                  "7": "0.0",
                  "8": "5.2",
                  "9": "230.0",
                  "10": "10.8",
                  "11": "100.0",
                  "12": "3.5",
                  "13": "89.0",
                  "14": "240.0",
                  "15": "26.6",
                  "16": "0.036",
                  "17": "2612.0",
                  "18": "12699.0",
                  "19": "12699.0",
                  "20": "12699.0",
                  "21": "12699.0",
                  "22": "12699.0",
                  "23": "12699.0",
                  "24": "12699.0",
                  "25": "12699.0",
                  "26": "12699.0",
                  "27": "12699.0",
                  "28": "12699.0",
                  "29": "12699.0",
                  "30": "50736.79",
                  "31": "schwartau"
                },
                {
                  "0": "2017-01-01 13:00:00",
                  "1": null,
                  "2": null,
                  "3": null,
                  "4": null,
                  "5": "0.0",
                  "6": "1012.0",
                  "7": "0.0",
                  "8": "5.8",
                  "9": "240.0",
                  "10": "21.6",
                  "11": "100.0",
                  "12": "4.1",
                  "13": "89.0",
                  "14": "230.0",
                  "15": "36.0",
                  "16": null,
                  "17": "2612.0",
                  "18": "22990.0",
                  "19": "22990.0",
                  "20": "22990.0",
                  "21": "22990.0",
                  "22": "22990.0",
                  "23": "22990.0",
                  "24": "22990.0",
                  "25": "22990.0",
                  "26": "22990.0",
                  "27": "22990.0",
                  "28": "22990.0",
                  "29": "2612.0",
                  "30": null,
                  "31": "schwartau"
                },
                {
                  "0": "2017-01-01 13:10:00",
                  "1": null,
                  "2": null,
                  "3": null,
                  "4": "12.34",
                  "5": null,
                  "6": null,
                  "7": null,
                  "8": null,
                  "9": null,
                  "10": null,
                  "11": null,
                  "12": null,
                  "13": null,
                  "14": null,
                  "15": null,
                  "16": null,
                  "17": null,
                  "18": null,
                  "19": null,
                  "20": null,
                  "21": null,
                  "22": null,
                  "23": null,
                  "24": null,
                  "25": null,
                  "26": null,
                  "27": null,
                  "28": null,
                  "29": null,
                  "30": null,
                  "31": "schwartau"
                },
                {
                  "0": "2017-01-01 13:15:00",
                  "1": "0.0",
                  "2": "0.0",
                  "3": null,
                  "4": "12.34",
                  "5": null,
                  "6": null,
                  "7": null,
                  "8": null,
                  "9": null,
                  "10": null,
                  "11": null,
                  "12": null,
                  "13": null,
                  "14": null,
                  "15": null,
                  "16": null,
                  "17": null,
                  "18": null,
                  "19": null,
                  "20": null,
                  "21": null,
                  "22": null,
                  "23": null,
                  "24": null,
                  "25": null,
                  "26": null,
                  "27": null,
                  "28": null,
                  "29": null,
                  "30": null,
                  "31": "schwartau"
                },
                {
                  "0": "2017-01-01 13:16:00",
                  "1": "0.0",
                  "2": "0.0",
                  "3": null,
                  "4": null,
                  "5": null,
                  "6": null,
                  "7": null,
                  "8": null,
                  "9": null,
                  "10": null,
                  "11": null,
                  "12": null,
                  "13": null,
                  "14": null,
                  "15": null,
                  "16": null,
                  "17": null,
                  "18": null,
                  "19": null,
                  "20": null,
                  "21": null,
                  "22": null,
                  "23": null,
                  "24": null,
                  "25": null,
                  "26": null,
                  "27": null,
                  "28": null,
                  "29": null,
                  "30": null,
                  "31": "schwartau"
                }
              ],
              "schema": [
                {
                  "key": "0",
                  "name": "timestamp",
                  "type": "timestamp"
                },
                {
                  "key": "1",
                  "name": "flow_out",
                  "type": "double"
                },
                {
                  "key": "2",
                  "name": "flow_in",
                  "type": "double"
                },
                {
                  "key": "3",
                  "name": "humidity_hive",
                  "type": "double"
                },
                {
                  "key": "4",
                  "name": "temperature_hive",
                  "type": "double"
                },
                {
                  "key": "5",
                  "name": "precipitation",
                  "type": "double"
                },
                {
                  "key": "6",
                  "name": "pressure_msl",
                  "type": "double"
                },
                {
                  "key": "7",
                  "name": "sunshine",
                  "type": "double"
                },
                {
                  "key": "8",
                  "name": "temperature",
                  "type": "double"
                },
                {
                  "key": "9",
                  "name": "wind_direction",
                  "type": "double"
                },
                {
                  "key": "10",
                  "name": "wind_speed",
                  "type": "double"
                },
                {
                  "key": "11",
                  "name": "cloud_cover",
                  "type": "double"
                },
                {
                  "key": "12",
                  "name": "dew_point",
                  "type": "double"
                },
                {
                  "key": "13",
                  "name": "relative_humidity",
                  "type": "double"
                },
                {
                  "key": "14",
                  "name": "wind_gust_direction",
                  "type": "double"
                },
                {
                  "key": "15",
                  "name": "wind_gust_speed",
                  "type": "double"
                },
                {
                  "key": "16",
                  "name": "solar",
                  "type": "double"
                },
                {
                  "key": "17",
                  "name": "precipitation_source_distance",
                  "type": "double"
                },
                {
                  "key": "18",
                  "name": "pressure_msl_source_distance",
                  "type": "double"
                },
                {
                  "key": "19",
                  "name": "sunshine_source_distance",
                  "type": "double"
                },
                {
                  "key": "20",
                  "name": "temperature_source_distance",
                  "type": "double"
                },
                {
                  "key": "21",
                  "name": "wind_direction_source_distance",
                  "type": "double"
                },
                {
                  "key": "22",
                  "name": "wind_speed_source_distance",
                  "type": "double"
                },
                {
                  "key": "23",
                  "name": "cloud_cover_source_distance",
                  "type": "double"
                },
                {
                  "key": "24",
                  "name": "dew_point_source_distance",
                  "type": "double"
                },
                {
                  "key": "25",
                  "name": "relative_humidity_source_distance",
                  "type": "double"
                },
                {
                  "key": "26",
                  "name": "visibility_source_distance",
                  "type": "double"
                },
                {
                  "key": "27",
                  "name": "wind_gust_direction_source_distance",
                  "type": "double"
                },
                {
                  "key": "28",
                  "name": "wind_gust_speed_source_distance",
                  "type": "double"
                },
                {
                  "key": "29",
                  "name": "solar_source_distance",
                  "type": "double"
                },
                {
                  "key": "30",
                  "name": "weight",
                  "type": "double"
                },
                {
                  "key": "31",
                  "name": "location",
                  "type": "string"
                }
              ],
              "truncated": false
            },
            "isSummary": false,
            "language": "python",
            "wranglerEntryContext": {
              "dataframeType": "pandas"
            }
          },
          "persist_state": {
            "view": {
              "type": "details",
              "tableOptions": {},
              "chartOptions": {
                "chartType": "bar",
                "aggregationType": "sum",
                "categoryFieldKeys": [
                  "0"
                ],
                "seriesFieldKeys": [
                  "1"
                ],
                "isStacked": false
              }
            }
          }
        }
      }
    }
  },
  "cells": [
    {
      "cell_type": "markdown",
      "metadata": {
        "nteract": {
          "transient": {
            "deleting": false
          }
        }
      },
      "source": [
        "=============================================================================\n",
        "# PART 1: SETUP\n",
        "============================================================================="
      ]
    },
    {
      "cell_type": "code",
      "execution_count": 7,
      "outputs": [
        {
          "output_type": "display_data",
          "data": {
            "application/vnd.livy.statement-meta+json": {
              "spark_pool": "sparkpoolDev",
              "statement_id": 8,
              "statement_ids": [
                8
              ],
              "state": "finished",
              "livy_statement_state": "available",
              "spark_jobs": null,
              "session_id": "43",
              "normalized_state": "finished",
              "queued_time": "2025-08-20T11:17:31.295171Z",
              "session_start_time": null,
              "execution_start_time": "2025-08-20T11:17:31.2969358Z",
              "execution_finish_time": "2025-08-20T11:17:31.5483881Z",
              "parent_msg_id": "7a7cdf70-985a-4f66-9fec-ba7f35ad448f"
            },
            "text/plain": "StatementMeta(sparkpoolDev, 43, 8, Finished, Available, Finished)"
          },
          "metadata": {}
        },
        {
          "output_type": "stream",
          "name": "stdout",
          "text": [
            "--- Part 1: Initializing paths and variables ---\n"
          ]
        }
      ],
      "metadata": {},
      "source": [
        "import pandas as pd\n",
        "from pyspark.sql.functions import col\n",
        "from functools import reduce\n",
        "import collections\n",
        "\n",
        "print(\"--- Part 1: Initializing paths and variables ---\")\n",
        "data_lake_path = \"abfss://beehive-container@dsaidatalakestorage.dfs.core.windows.net\" \n",
        "source_path = f\"{data_lake_path}/gold/processing\"\n",
        "sink_path = f\"{data_lake_path}/gold/quality\"\n",
        "\n",
        "# The data types we expect to find and process\n",
        "target_datatypes = ['flow', 'humidity', 'temperature', 'weight', 'weather']"
      ]
    },
    {
      "cell_type": "markdown",
      "metadata": {
        "nteract": {
          "transient": {
            "deleting": false
          }
        }
      },
      "source": [
        "=============================================================================\n",
        "# PART 2: LOAD LATEST SOURCE FILES FROM THE FLAT DIRECTORY\n",
        "============================================================================="
      ]
    },
    {
      "cell_type": "code",
      "execution_count": 8,
      "outputs": [
        {
          "output_type": "display_data",
          "data": {
            "application/vnd.livy.statement-meta+json": {
              "spark_pool": "sparkpoolDev",
              "statement_id": 9,
              "statement_ids": [
                9
              ],
              "state": "finished",
              "livy_statement_state": "available",
              "spark_jobs": null,
              "session_id": "43",
              "normalized_state": "finished",
              "queued_time": "2025-08-20T11:17:31.4030206Z",
              "session_start_time": null,
              "execution_start_time": "2025-08-20T11:17:31.5612674Z",
              "execution_finish_time": "2025-08-20T11:18:03.1113739Z",
              "parent_msg_id": "81467eec-8ef0-401a-9937-afbf2c2c6d9b"
            },
            "text/plain": "StatementMeta(sparkpoolDev, 43, 9, Finished, Available, Finished)"
          },
          "metadata": {}
        },
        {
          "output_type": "stream",
          "name": "stdout",
          "text": [
            "Reading latest 'flow' file: ...schwartau_flow__2025-08-20T10:45:03.885724Z.parquet\nReading latest 'humidity' file: ...schwartau_humidity__2025-08-20T10:45:03.885724Z.parquet\nReading latest 'temperature' file: ...schwartau_temperature__2025-08-20T10:45:03.885724Z.parquet\nReading latest 'weather' file: ...schwartau_weather__2025-08-20T10:46:25.819878Z.parquet\nReading latest 'weight' file: ...schwartau_weight__2025-08-20T10:45:03.885724Z.parquet\n"
          ]
        }
      ],
      "metadata": {},
      "source": [
        "try:\n",
        "    # 1. List all files in the single source directory\n",
        "    all_files_in_folder = mssparkutils.fs.ls(source_path)\n",
        "\n",
        "    # 2. Group all found file paths by their data type\n",
        "    file_groups = collections.defaultdict(list)\n",
        "    for file_info in all_files_in_folder:\n",
        "        if file_info.name.endswith('.parquet'):\n",
        "            # Extract type from name like 'schwartau_weather__TIMESTAMP.parquet'\n",
        "            try:\n",
        "                dtype = file_info.name.split('_')[1]\n",
        "                if dtype in target_datatypes:\n",
        "                    file_groups[dtype].append(file_info.path)\n",
        "            except IndexError:\n",
        "                print(f\"Skipping file with unexpected name format: {file_info.name}\")\n",
        "\n",
        "    # 3. Find the single latest file from each group\n",
        "    latest_files_to_read = {}\n",
        "    for dtype, path_list in file_groups.items():\n",
        "        if path_list:\n",
        "            # max() works because the timestamp makes the filenames sort chronologically\n",
        "            latest_files_to_read[dtype] = max(path_list)\n",
        "\n",
        "    # 4. Read the latest files into a dictionary of pandas DataFrames\n",
        "    dataframes = {}\n",
        "    for dtype, path in latest_files_to_read.items():\n",
        "        print(f\"Reading latest '{dtype}' file: ...{path.split('/')[-1]}\")\n",
        "        spark_df = spark.read.parquet(path)\n",
        "        dataframes[dtype] = spark_df.toPandas()\n",
        "\n",
        "except Exception as e:\n",
        "    print(f\"An error occurred during file loading: {e}\")\n",
        "    raise"
      ]
    },
    {
      "cell_type": "markdown",
      "metadata": {
        "nteract": {
          "transient": {
            "deleting": false
          }
        }
      },
      "source": [
        "=============================================================================\n",
        "# PART 3: MERGE AND TRANSFORM DATA\n",
        "============================================================================="
      ]
    },
    {
      "cell_type": "code",
      "execution_count": 9,
      "outputs": [
        {
          "output_type": "display_data",
          "data": {
            "application/vnd.livy.statement-meta+json": {
              "spark_pool": "sparkpoolDev",
              "statement_id": 10,
              "statement_ids": [
                10
              ],
              "state": "finished",
              "livy_statement_state": "available",
              "spark_jobs": null,
              "session_id": "43",
              "normalized_state": "finished",
              "queued_time": "2025-08-20T11:17:31.4650379Z",
              "session_start_time": null,
              "execution_start_time": "2025-08-20T11:18:03.1273901Z",
              "execution_finish_time": "2025-08-20T11:18:06.0991735Z",
              "parent_msg_id": "a8cf3240-edc2-44d6-9492-252a6df07373"
            },
            "text/plain": "StatementMeta(sparkpoolDev, 43, 10, Finished, Available, Finished)"
          },
          "metadata": {}
        },
        {
          "output_type": "stream",
          "name": "stdout",
          "text": [
            "Data successfully merged.\n"
          ]
        },
        {
          "output_type": "display_data",
          "data": {
            "application/vnd.synapse.widget-view+json": {
              "widget_id": "4a97689b-07a9-4f10-8581-59602a58ad5c",
              "widget_type": "Synapse.DataFrame"
            },
            "text/plain": "SynapseWidget(Synapse.DataFrame, 4a97689b-07a9-4f10-8581-59602a58ad5c)"
          },
          "metadata": {}
        }
      ],
      "metadata": {
        "collapsed": false
      },
      "source": [
        "if len(dataframes) > 0:\n",
        "    # Proactively rename columns to avoid merge conflicts\n",
        "    if 'temperature' in dataframes and 'temperature' in dataframes['temperature'].columns:\n",
        "        dataframes['temperature'].rename(columns={'temperature': 'temperature_hive'}, inplace=True)\n",
        "    if 'humidity' in dataframes and 'humidity' in dataframes['humidity'].columns:\n",
        "        dataframes['humidity'].rename(columns={'humidity': 'humidity_hive'}, inplace=True)\n",
        "\n",
        "    df_list = list(dataframes.values())\n",
        "    \n",
        "    # Sequentially merge all dataframes on the 'timestamp' column\n",
        "    gold_df_schwartau = reduce(lambda left, right: pd.merge(left, right, on='timestamp', how='outer'), df_list)\n",
        "    gold_df_schwartau['location'] = 'schwartau'\n",
        "    gold_df_schwartau = gold_df_schwartau.sort_values(by=\"timestamp\").reset_index(drop=True)\n",
        "\n",
        "    print(\"Data successfully merged.\")\n",
        "    display(gold_df_schwartau.head())\n",
        "else:\n",
        "    print(\"No dataframes were loaded, aborting script.\")\n",
        "    mssparkutils.notebook.exit(\"No dataframes were loaded, aborting script.\")"
      ]
    },
    {
      "cell_type": "markdown",
      "metadata": {
        "nteract": {
          "transient": {
            "deleting": false
          }
        }
      },
      "source": [
        "=============================================================================\n",
        "# PART 4: SAVE THE FINAL GOLD DATAFRAME\n",
        "============================================================================="
      ]
    },
    {
      "cell_type": "code",
      "execution_count": 10,
      "outputs": [
        {
          "output_type": "display_data",
          "data": {
            "application/vnd.livy.statement-meta+json": {
              "spark_pool": "sparkpoolDev",
              "statement_id": 11,
              "statement_ids": [
                11
              ],
              "state": "finished",
              "livy_statement_state": "available",
              "spark_jobs": null,
              "session_id": "43",
              "normalized_state": "finished",
              "queued_time": "2025-08-20T11:17:31.4946375Z",
              "session_start_time": null,
              "execution_start_time": "2025-08-20T11:18:06.1140222Z",
              "execution_finish_time": "2025-08-20T11:18:16.9262956Z",
              "parent_msg_id": "292271ab-abc6-47db-a7d0-8c0c1a80f3d3"
            },
            "text/plain": "StatementMeta(sparkpoolDev, 43, 11, Finished, Available, Finished)"
          },
          "metadata": {}
        },
        {
          "output_type": "stream",
          "name": "stdout",
          "text": [
            "Writing to: abfss://beehive-container@dsaidatalakestorage.dfs.core.windows.net/gold/quality/schwartau_gold__2025-08-20T11-18-06.187537Z.parquet\n\nAll files saved successfully.\n"
          ]
        }
      ],
      "metadata": {},
      "source": [
        "# The folder will be created automatically by the .write command, so mkdirs is not needed.\n",
        "timestamp_str = spark._jvm.java.time.Instant.now().toString().replace(\":\", \"-\") # Replace colons for compatibility\n",
        "\n",
        "# Convert final pandas DataFrame back to a Spark DataFrame for saving\n",
        "spark_gold_df = spark.createDataFrame(gold_df_schwartau)\n",
        "\n",
        "# Define the final output path and filename\n",
        "output_path = f'{sink_path}/schwartau_gold__{timestamp_str}.parquet'\n",
        "\n",
        "print(f\"Writing to: {output_path}\")\n",
        "spark_gold_df.write.parquet(output_path, mode='overwrite')\n",
        "\n",
        "print(\"\\nAll files saved successfully.\")"
      ]
    },
    {
      "cell_type": "code",
      "execution_count": 11,
      "outputs": [
        {
          "output_type": "display_data",
          "data": {
            "application/vnd.livy.statement-meta+json": {
              "spark_pool": "sparkpoolDev",
              "statement_id": 12,
              "statement_ids": [
                12
              ],
              "state": "finished",
              "livy_statement_state": "available",
              "spark_jobs": null,
              "session_id": "43",
              "normalized_state": "finished",
              "queued_time": "2025-08-20T11:17:31.5595424Z",
              "session_start_time": null,
              "execution_start_time": "2025-08-20T11:18:16.9426186Z",
              "execution_finish_time": "2025-08-20T11:18:17.5938011Z",
              "parent_msg_id": "0bdbd53e-eff3-4d48-96f8-07c289c5cace"
            },
            "text/plain": "StatementMeta(sparkpoolDev, 43, 12, Finished, Available, Finished)"
          },
          "metadata": {}
        }
      ],
      "metadata": {},
      "source": [
        "mssparkutils.session.stop()"
      ]
    }
  ]
}